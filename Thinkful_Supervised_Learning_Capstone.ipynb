{
  "nbformat": 4,
  "nbformat_minor": 0,
  "metadata": {
    "colab": {
      "provenance": [],
      "collapsed_sections": [
        "4VrP6Je3DKyR",
        "ErY4fbE3acI1"
      ],
      "authorship_tag": "ABX9TyOoEdSl9x5++9gXGzZTSMua",
      "include_colab_link": true
    },
    "kernelspec": {
      "name": "python3",
      "display_name": "Python 3"
    },
    "language_info": {
      "name": "python"
    }
  },
  "cells": [
    {
      "cell_type": "markdown",
      "metadata": {
        "id": "view-in-github",
        "colab_type": "text"
      },
      "source": [
        "<a href=\"https://colab.research.google.com/github/dbos23/Predicting-the-IMDB-Scores-of-the-Netflix-Library/blob/main/Thinkful_Supervised_Learning_Capstone.ipynb\" target=\"_parent\"><img src=\"https://colab.research.google.com/assets/colab-badge.svg\" alt=\"Open In Colab\"/></a>"
      ]
    },
    {
      "cell_type": "code",
      "execution_count": null,
      "metadata": {
        "id": "EfDlKUd8ACrE"
      },
      "outputs": [],
      "source": [
        "import pandas as pd\n",
        "import numpy as np\n",
        "import matplotlib.pyplot as plt\n",
        "import seaborn as sns\n",
        "from scipy import stats\n",
        "from pprint import pprint\n",
        "\n",
        "from sklearn.model_selection import train_test_split, cross_val_score, RandomizedSearchCV, GridSearchCV\n",
        "\n",
        "from sklearn.svm import SVR\n",
        "from sklearn.ensemble import RandomForestRegressor, GradientBoostingRegressor"
      ]
    },
    {
      "cell_type": "markdown",
      "source": [
        "I'll be working with a dataset stored in a file called titles.csv that I found on Kaggle at this link:\n",
        "https://www.kaggle.com/datasets/dgoenrique/netflix-movies-and-tv-shows?resource=download"
      ],
      "metadata": {
        "id": "10ToqFSgAbqG"
      }
    },
    {
      "cell_type": "markdown",
      "source": [
        "I'll be creating a regression model to try to predict the IMDB rating of TV shows on Netflix given other features of the shows."
      ],
      "metadata": {
        "id": "mc3lpae6Akh4"
      }
    },
    {
      "cell_type": "markdown",
      "source": [
        "# Dataframe creation and data cleaning"
      ],
      "metadata": {
        "id": "4VrP6Je3DKyR"
      }
    },
    {
      "cell_type": "markdown",
      "source": [
        "First I'll create the dataframe and then I'll remove the movies because I'm only interested in TV shows and this dataset contains both."
      ],
      "metadata": {
        "id": "JXqcCE5cDX7U"
      }
    },
    {
      "cell_type": "code",
      "source": [
        "raw_df = pd.read_csv('/content/titles.csv')\n",
        "raw_df.info()"
      ],
      "metadata": {
        "colab": {
          "base_uri": "https://localhost:8080/"
        },
        "id": "HPpAAThpAW-K",
        "outputId": "3c5ab5a2-c69f-41f7-8813-2e304c4d29da"
      },
      "execution_count": null,
      "outputs": [
        {
          "output_type": "stream",
          "name": "stdout",
          "text": [
            "<class 'pandas.core.frame.DataFrame'>\n",
            "RangeIndex: 6137 entries, 0 to 6136\n",
            "Data columns (total 15 columns):\n",
            " #   Column                Non-Null Count  Dtype  \n",
            "---  ------                --------------  -----  \n",
            " 0   id                    6137 non-null   object \n",
            " 1   title                 6137 non-null   object \n",
            " 2   type                  6137 non-null   object \n",
            " 3   description           6114 non-null   object \n",
            " 4   release_year          6137 non-null   int64  \n",
            " 5   age_certification     3394 non-null   object \n",
            " 6   runtime               6137 non-null   int64  \n",
            " 7   genres                6137 non-null   object \n",
            " 8   production_countries  6137 non-null   object \n",
            " 9   seasons               2306 non-null   float64\n",
            " 10  imdb_id               5741 non-null   object \n",
            " 11  imdb_score            5669 non-null   float64\n",
            " 12  imdb_votes            5653 non-null   float64\n",
            " 13  tmdb_popularity       6061 non-null   float64\n",
            " 14  tmdb_score            5885 non-null   float64\n",
            "dtypes: float64(5), int64(2), object(8)\n",
            "memory usage: 719.3+ KB\n"
          ]
        }
      ]
    },
    {
      "cell_type": "code",
      "source": [
        "raw_df['type'].unique()"
      ],
      "metadata": {
        "colab": {
          "base_uri": "https://localhost:8080/"
        },
        "id": "p_mu7RHYBTfB",
        "outputId": "fb895632-0aa7-4412-cf5a-9f114b77395a"
      },
      "execution_count": null,
      "outputs": [
        {
          "output_type": "execute_result",
          "data": {
            "text/plain": [
              "array(['SHOW', 'MOVIE'], dtype=object)"
            ]
          },
          "metadata": {},
          "execution_count": 3
        }
      ]
    },
    {
      "cell_type": "code",
      "source": [
        "raw_df = raw_df[raw_df['type'] == 'SHOW']\n",
        "raw_df.info()"
      ],
      "metadata": {
        "colab": {
          "base_uri": "https://localhost:8080/"
        },
        "id": "SSLxhv0CBZ3G",
        "outputId": "00aa4768-47e0-4800-e9c7-c7b90532236e"
      },
      "execution_count": null,
      "outputs": [
        {
          "output_type": "stream",
          "name": "stdout",
          "text": [
            "<class 'pandas.core.frame.DataFrame'>\n",
            "Int64Index: 2306 entries, 0 to 6122\n",
            "Data columns (total 15 columns):\n",
            " #   Column                Non-Null Count  Dtype  \n",
            "---  ------                --------------  -----  \n",
            " 0   id                    2306 non-null   object \n",
            " 1   title                 2306 non-null   object \n",
            " 2   type                  2306 non-null   object \n",
            " 3   description           2291 non-null   object \n",
            " 4   release_year          2306 non-null   int64  \n",
            " 5   age_certification     2046 non-null   object \n",
            " 6   runtime               2306 non-null   int64  \n",
            " 7   genres                2306 non-null   object \n",
            " 8   production_countries  2306 non-null   object \n",
            " 9   seasons               2306 non-null   float64\n",
            " 10  imdb_id               2168 non-null   object \n",
            " 11  imdb_score            2143 non-null   float64\n",
            " 12  imdb_votes            2143 non-null   float64\n",
            " 13  tmdb_popularity       2278 non-null   float64\n",
            " 14  tmdb_score            2212 non-null   float64\n",
            "dtypes: float64(5), int64(2), object(8)\n",
            "memory usage: 288.2+ KB\n"
          ]
        }
      ]
    },
    {
      "cell_type": "markdown",
      "source": [
        "The target variable is imdb_score so I can safely remove any entries with a missing value for that. I can also remove tmdb_popularity and tmdb_score because those are ratings from a different website. If I had such a useful evaluation of the opinion of the audience, I wouldn't need to predict the score from IMDB."
      ],
      "metadata": {
        "id": "j38w00cxCKle"
      }
    },
    {
      "cell_type": "code",
      "source": [
        "raw_df = raw_df.dropna(subset='imdb_score')\n",
        "raw_df = raw_df.drop(['tmdb_popularity', 'tmdb_score'], axis=1)\n",
        "raw_df.info()"
      ],
      "metadata": {
        "colab": {
          "base_uri": "https://localhost:8080/"
        },
        "id": "YkNJ_gk2C8yC",
        "outputId": "3bb9c039-86b6-4211-c38e-9838361a8114"
      },
      "execution_count": null,
      "outputs": [
        {
          "output_type": "stream",
          "name": "stdout",
          "text": [
            "<class 'pandas.core.frame.DataFrame'>\n",
            "Int64Index: 2143 entries, 7 to 6122\n",
            "Data columns (total 13 columns):\n",
            " #   Column                Non-Null Count  Dtype  \n",
            "---  ------                --------------  -----  \n",
            " 0   id                    2143 non-null   object \n",
            " 1   title                 2143 non-null   object \n",
            " 2   type                  2143 non-null   object \n",
            " 3   description           2142 non-null   object \n",
            " 4   release_year          2143 non-null   int64  \n",
            " 5   age_certification     1929 non-null   object \n",
            " 6   runtime               2143 non-null   int64  \n",
            " 7   genres                2143 non-null   object \n",
            " 8   production_countries  2143 non-null   object \n",
            " 9   seasons               2143 non-null   float64\n",
            " 10  imdb_id               2143 non-null   object \n",
            " 11  imdb_score            2143 non-null   float64\n",
            " 12  imdb_votes            2143 non-null   float64\n",
            "dtypes: float64(3), int64(2), object(8)\n",
            "memory usage: 234.4+ KB\n"
          ]
        }
      ]
    },
    {
      "cell_type": "markdown",
      "source": [
        "The only columns that still have missing values are age_certification and description. Description has only one missing value and it's unlikely to be a useful predictor so this is not an issue that needs to be addressed. I'll take a closer look at age_certification."
      ],
      "metadata": {
        "id": "P38CRBhjFUJM"
      }
    },
    {
      "cell_type": "code",
      "source": [
        "for rating in raw_df['age_certification'].unique().tolist():\n",
        "  print(f'Count for {rating}: {raw_df[\"age_certification\"].tolist().count(rating)}')"
      ],
      "metadata": {
        "colab": {
          "base_uri": "https://localhost:8080/"
        },
        "id": "DvNqcRZIFakM",
        "outputId": "c2d58361-4ee3-44dd-e131-406d70ef1e3b"
      },
      "execution_count": null,
      "outputs": [
        {
          "output_type": "stream",
          "name": "stdout",
          "text": [
            "Count for TV-14: 459\n",
            "Count for TV-MA: 972\n",
            "Count for TV-PG: 192\n",
            "Count for TV-Y: 98\n",
            "Count for nan: 214\n",
            "Count for TV-Y7: 119\n",
            "Count for TV-G: 82\n",
            "Count for TV-Y7-FV: 7\n"
          ]
        }
      ]
    },
    {
      "cell_type": "code",
      "source": [
        "for rating in raw_df['age_certification'].unique().tolist():\n",
        "  print(f'Average imdb score for {rating}: {raw_df[raw_df[\"age_certification\"]==rating][\"imdb_score\"].mean()}')"
      ],
      "metadata": {
        "colab": {
          "base_uri": "https://localhost:8080/"
        },
        "id": "WaialuARJLDc",
        "outputId": "2182b420-d06c-4753-859e-e2246a5fc42e"
      },
      "execution_count": null,
      "outputs": [
        {
          "output_type": "stream",
          "name": "stdout",
          "text": [
            "Average imdb score for TV-14: 7.184749455337691\n",
            "Average imdb score for TV-MA: 6.993827160493828\n",
            "Average imdb score for TV-PG: 7.020833333333333\n",
            "Average imdb score for TV-Y: 6.681632653061225\n",
            "Average imdb score for nan: nan\n",
            "Average imdb score for TV-Y7: 6.8655462184873945\n",
            "Average imdb score for TV-G: 6.523170731707316\n",
            "Average imdb score for TV-Y7-FV: 7.114285714285714\n"
          ]
        }
      ]
    },
    {
      "cell_type": "markdown",
      "source": [
        "I'm reluctant to discard all the datapoints with a missing value for age_certification. Instead I'll create a 'missing' category for all of the null values so as not to lose the other information provided by those datapoints."
      ],
      "metadata": {
        "id": "S-D4POJdLGQb"
      }
    },
    {
      "cell_type": "code",
      "source": [
        "raw_df['age_certification'].fillna('missing', inplace=True)"
      ],
      "metadata": {
        "id": "ah-yNlxoLj-n"
      },
      "execution_count": null,
      "outputs": []
    },
    {
      "cell_type": "markdown",
      "source": [
        "In order to make sure there are no missing values with a value other than nan, I'll take a look at the unique values for each variable, skipping the variables used solely for identification (such as id, title, and description)."
      ],
      "metadata": {
        "id": "PgWn_VmHM7Uh"
      }
    },
    {
      "cell_type": "code",
      "source": [
        "variables = ['release_year', 'age_certification', 'runtime', 'genres',\n",
        "             'production_countries', 'seasons', 'imdb_score', 'imdb_votes']\n",
        "\n",
        "for var in variables:\n",
        "  print(f'Unique values of {var}: {raw_df[var].unique()}')\n",
        "  print('-'*50)\n",
        "  print('-'*50)\n",
        "  print('-'*50)"
      ],
      "metadata": {
        "colab": {
          "base_uri": "https://localhost:8080/"
        },
        "id": "A4GXhgbcNEOw",
        "outputId": "5ee8dfa0-177d-48f9-c0b9-365024974b84"
      },
      "execution_count": null,
      "outputs": [
        {
          "output_type": "stream",
          "name": "stdout",
          "text": [
            "Unique values of release_year: [1969 1972 1989 1984 1987 1981 2000 1999 1997 1998 1995 1992 1993 1994\n",
            " 1996 2008 2010 2005 2003 2009 2002 2006 2001 2007 2004 2011 2012 2014\n",
            " 2013 2015 2016 2018 2017 2019 2020 2022 2021 2023]\n",
            "--------------------------------------------------\n",
            "--------------------------------------------------\n",
            "--------------------------------------------------\n",
            "Unique values of age_certification: ['TV-14' 'TV-MA' 'TV-PG' 'TV-Y' 'missing' 'TV-Y7' 'TV-G' 'TV-Y7-FV']\n",
            "--------------------------------------------------\n",
            "--------------------------------------------------\n",
            "--------------------------------------------------\n",
            "Unique values of runtime: [ 30  43  24  10  14  48  23  22  46  25  32  26  21  45  20  40  19  29\n",
            "  28  58  44  47  27  49  64  59  18   9  37   6  15  11  61  72  67  56\n",
            "   7   0  55  54  57  42  53  17  16   3   2  60  65  52  76   4  63  73\n",
            "  50  51  41  62  31  35  71  84   8  92   5  12  70 101  36  13  69  87\n",
            "  33  39  34  38  66  75  91  68  89  80  86  85  78  74  88  82 178  77\n",
            "  93 131  81 209]\n",
            "--------------------------------------------------\n",
            "--------------------------------------------------\n",
            "--------------------------------------------------\n",
            "Unique values of genres: [\"['comedy', 'european']\" \"['comedy']\"\n",
            " \"['animation', 'family', 'fantasy', 'music', 'drama', 'comedy', 'action', 'war']\"\n",
            " \"['comedy', 'animation', 'family', 'crime', 'european']\"\n",
            " \"['animation', 'comedy', 'family', 'scifi', 'action', 'european']\"\n",
            " \"['reality']\"\n",
            " \"['action', 'comedy', 'animation', 'scifi', 'fantasy', 'drama']\"\n",
            " \"['scifi', 'action', 'animation', 'comedy', 'fantasy', 'family']\"\n",
            " \"['comedy', 'drama']\"\n",
            " \"['scifi', 'western', 'action', 'thriller', 'animation', 'comedy', 'drama']\"\n",
            " \"['scifi', 'animation', 'action', 'fantasy', 'thriller', 'drama']\"\n",
            " \"['reality', 'comedy', 'animation', 'documentation', 'drama']\"\n",
            " \"['action', 'scifi', 'family', 'fantasy', 'animation']\"\n",
            " \"['animation', 'comedy', 'family', 'fantasy', 'scifi']\"\n",
            " \"['animation', 'action', 'comedy', 'drama', 'fantasy', 'romance', 'scifi']\"\n",
            " \"['scifi', 'action', 'family', 'fantasy', 'animation', 'comedy', 'drama']\"\n",
            " \"['scifi', 'action', 'comedy', 'western', 'family', 'animation', 'fantasy']\"\n",
            " \"['family', 'comedy']\" \"['drama', 'comedy']\"\n",
            " \"['comedy', 'family', 'music']\" \"['drama', 'romance']\"\n",
            " \"['family', 'fantasy', 'music', 'comedy', 'european']\"\n",
            " \"['scifi', 'action', 'comedy', 'drama', 'family', 'fantasy', 'romance', 'animation']\"\n",
            " \"['drama', 'crime']\" \"['drama', 'family', 'comedy']\"\n",
            " \"['comedy', 'drama', 'family']\" \"['comedy', 'family']\"\n",
            " \"['drama', 'comedy', 'crime', 'thriller']\"\n",
            " \"['action', 'drama', 'horror', 'thriller']\"\n",
            " \"['thriller', 'comedy', 'action', 'crime', 'drama']\"\n",
            " \"['animation', 'action', 'family', 'fantasy']\"\n",
            " \"['drama', 'scifi', 'thriller', 'fantasy', 'horror']\"\n",
            " \"['comedy', 'reality', 'european', 'music']\" \"['reality', 'european']\"\n",
            " \"['drama', 'sport']\" \"['reality', 'family', 'action']\"\n",
            " \"['drama', 'family']\"\n",
            " \"['animation', 'drama', 'fantasy', 'thriller', 'crime']\"\n",
            " \"['drama', 'crime', 'thriller', 'animation']\"\n",
            " \"['action', 'scifi', 'comedy', 'animation', 'fantasy', 'thriller']\"\n",
            " \"['animation', 'thriller', 'scifi', 'horror', 'fantasy']\"\n",
            " \"['comedy', 'music']\" \"['scifi', 'documentation', 'fantasy', 'history']\"\n",
            " \"['reality', 'documentation']\"\n",
            " \"['scifi', 'action', 'animation', 'drama', 'thriller', 'war', 'fantasy']\"\n",
            " \"['reality', 'comedy', 'documentation', 'drama']\"\n",
            " \"['comedy', 'scifi', 'animation', 'drama', 'music', 'family', 'fantasy']\"\n",
            " \"['reality', 'drama', 'music']\" \"['drama', 'european']\"\n",
            " \"['action', 'scifi', 'animation', 'comedy', 'drama', 'family']\"\n",
            " \"['family', 'comedy', 'romance']\" \"['reality', 'drama']\"\n",
            " \"['comedy', 'scifi', 'family', 'fantasy', 'animation']\"\n",
            " \"['crime', 'documentation', 'drama']\"\n",
            " \"['comedy', 'family', 'romance', 'drama', 'music', 'sport']\"\n",
            " \"['comedy', 'crime']\"\n",
            " \"['animation', 'drama', 'family', 'action', 'comedy']\"\n",
            " \"['action', 'family', 'animation', 'comedy', 'fantasy', 'scifi', 'drama', 'thriller']\"\n",
            " \"['scifi', 'action', 'comedy', 'family', 'fantasy', 'animation', 'thriller', 'european']\"\n",
            " \"['drama', 'comedy', 'romance', 'family']\"\n",
            " \"['drama', 'comedy', 'animation', 'music', 'romance']\"\n",
            " \"['animation', 'comedy', 'drama', 'thriller', 'scifi', 'fantasy', 'crime', 'action', 'horror']\"\n",
            " \"['comedy', 'drama', 'romance']\"\n",
            " \"['animation', 'romance', 'comedy', 'drama']\"\n",
            " \"['comedy', 'drama', 'animation', 'romance']\" \"['animation']\"\n",
            " \"['thriller', 'war', 'action', 'crime', 'horror']\"\n",
            " \"['scifi', 'comedy', 'action', 'fantasy', 'thriller', 'animation', 'family', 'romance']\"\n",
            " \"['drama', 'comedy', 'romance', 'sport']\"\n",
            " \"['drama', 'scifi', 'family', 'fantasy']\"\n",
            " \"['documentation', 'history', 'war', 'european']\" \"['drama']\"\n",
            " \"['action', 'drama', 'crime', 'thriller', 'comedy']\"\n",
            " \"['action', 'drama']\" \"['animation', 'comedy', 'family', 'european']\"\n",
            " \"['comedy', 'drama', 'family', 'music']\"\n",
            " \"['action', 'comedy', 'sport', 'crime']\"\n",
            " \"['animation', 'comedy', 'family', 'action']\"\n",
            " \"['scifi', 'comedy', 'drama', 'animation']\"\n",
            " \"['animation', 'drama', 'action', 'comedy', 'family', 'scifi']\"\n",
            " \"['comedy', 'family', 'fantasy', 'animation', 'european']\"\n",
            " \"['animation', 'family']\" \"['animation', 'action', 'comedy', 'family']\"\n",
            " \"['action', 'scifi', 'comedy', 'animation', 'family', 'western']\"\n",
            " \"['scifi', 'animation', 'action', 'drama', 'family', 'fantasy', 'european']\"\n",
            " \"['animation', 'comedy', 'family']\"\n",
            " \"['family', 'animation', 'action', 'scifi', 'comedy', 'fantasy']\"\n",
            " \"['drama', 'action', 'comedy', 'reality', 'romance', 'thriller']\"\n",
            " \"['action', 'animation', 'comedy']\" \"['drama', 'comedy', 'romance']\"\n",
            " \"['drama', 'romance', 'comedy']\" \"['animation', 'comedy']\"\n",
            " \"['comedy', 'family', 'fantasy', 'romance', 'action', 'animation', 'european']\"\n",
            " \"['drama', 'action']\" \"['action', 'family', 'animation', 'comedy']\"\n",
            " \"['animation', 'drama', 'comedy', 'european']\"\n",
            " \"['animation', 'comedy', 'family', 'fantasy', 'horror', 'music', 'scifi']\"\n",
            " \"['documentation', 'comedy']\" \"['romance', 'comedy', 'drama']\"\n",
            " \"['romance', 'drama', 'comedy']\" \"['action', 'drama', 'thriller']\"\n",
            " \"['reality', 'scifi', 'family']\"\n",
            " \"['scifi', 'drama', 'thriller', 'european']\"\n",
            " \"['drama', 'history', 'european']\" \"['comedy', 'romance']\"\n",
            " \"['drama', 'action', 'crime', 'scifi']\" \"['comedy', 'action']\"\n",
            " \"['western', 'drama', 'action', 'crime']\"\n",
            " \"['action', 'drama', 'animation', 'comedy', 'fantasy']\"\n",
            " \"['scifi', 'action', 'drama', 'animation', 'comedy', 'family', 'fantasy']\"\n",
            " \"['action', 'scifi', 'horror', 'comedy', 'family', 'fantasy', 'thriller', 'animation', 'crime', 'drama']\"\n",
            " \"['drama', 'romance', 'comedy', 'european']\"\n",
            " \"['animation', 'action', 'thriller', 'comedy', 'drama', 'fantasy', 'horror']\"\n",
            " \"['scifi', 'action', 'drama', 'animation', 'thriller', 'fantasy', 'comedy', 'romance']\"\n",
            " \"['drama', 'thriller', 'action', 'crime']\" \"['drama', 'crime', 'comedy']\"\n",
            " \"['action', 'comedy', 'family', 'fantasy', 'scifi', 'animation', 'european']\"\n",
            " \"['comedy', 'family', 'animation']\"\n",
            " \"['drama', 'thriller', 'crime', 'european']\"\n",
            " \"['drama', 'comedy', 'european']\" \"['documentation']\"\n",
            " \"['scifi', 'action', 'comedy', 'crime', 'animation']\"\n",
            " \"['scifi', 'action', 'comedy', 'family', 'animation']\"\n",
            " \"['action', 'comedy', 'scifi', 'drama', 'family', 'animation', 'fantasy', 'horror']\"\n",
            " \"['comedy', 'drama', 'european']\" \"['comedy', 'animation', 'sport']\"\n",
            " \"['drama', 'crime', 'history', 'thriller']\" \"['animation', 'european']\"\n",
            " \"['action', 'scifi', 'comedy', 'fantasy', 'animation']\"\n",
            " \"['music', 'animation', 'family']\"\n",
            " \"['animation', 'comedy', 'family', 'fantasy']\"\n",
            " \"['action', 'animation', 'comedy', 'family', 'fantasy']\"\n",
            " \"['comedy', 'family', 'animation', 'thriller', 'drama', 'horror']\"\n",
            " \"['action', 'scifi', 'family', 'fantasy', 'animation', 'comedy']\"\n",
            " \"['drama', 'history', 'romance']\" \"['action', 'crime', 'drama']\"\n",
            " \"['scifi', 'drama', 'action']\" \"['drama', 'crime', 'thriller']\"\n",
            " \"['horror', 'animation', 'action', 'drama', 'fantasy', 'scifi']\"\n",
            " \"['drama', 'scifi', 'fantasy', 'romance']\"\n",
            " \"['drama', 'crime', 'european']\" \"['reality', 'romance', 'european']\"\n",
            " \"['drama', 'action', 'scifi']\" \"['reality', 'romance']\"\n",
            " \"['comedy', 'drama', 'animation']\" \"['drama', 'thriller', 'crime']\"\n",
            " \"['scifi', 'drama', 'fantasy', 'horror']\" \"['comedy', 'drama', 'crime']\"\n",
            " \"['action', 'drama', 'history']\" \"['war', 'thriller', 'drama']\"\n",
            " \"['comedy', 'action', 'scifi', 'drama', 'family']\"\n",
            " \"['action', 'scifi', 'animation', 'comedy', 'family', 'fantasy']\"\n",
            " \"['crime', 'action']\" \"['documentation', 'family']\"\n",
            " \"['family', 'comedy', 'drama']\"\n",
            " \"['action', 'scifi', 'animation', 'drama', 'fantasy', 'romance']\"\n",
            " \"['action', 'scifi', 'fantasy', 'animation', 'comedy']\"\n",
            " \"['action', 'drama', 'war', 'history']\"\n",
            " \"['animation', 'scifi', 'comedy', 'drama', 'fantasy', 'romance', 'action', 'family']\"\n",
            " \"['comedy', 'drama', 'sport', 'animation']\"\n",
            " \"['comedy', 'scifi', 'action', 'drama', 'family']\"\n",
            " \"['drama', 'romance', 'action', 'crime', 'thriller', 'european']\"\n",
            " \"['action', 'romance', 'crime', 'drama']\"\n",
            " \"['animation', 'family', 'comedy', 'fantasy', 'action', 'european']\"\n",
            " \"['comedy', 'scifi', 'drama', 'action', 'family', 'fantasy', 'romance']\"\n",
            " \"['animation', 'family', 'comedy']\" \"['crime', 'drama', 'romance']\"\n",
            " \"['scifi', 'romance', 'animation', 'drama', 'fantasy']\"\n",
            " \"['action', 'animation', 'comedy', 'drama', 'family', 'fantasy', 'music', 'romance']\"\n",
            " \"['comedy', 'family', 'fantasy', 'animation', 'action']\"\n",
            " \"['comedy', 'drama', 'family', 'action', 'animation', 'fantasy', 'european']\"\n",
            " \"['comedy', 'documentation', 'reality']\"\n",
            " \"['comedy', 'family', 'sport', 'scifi', 'animation', 'action']\"\n",
            " \"['action', 'animation', 'drama', 'fantasy', 'family', 'comedy']\"\n",
            " \"['family', 'animation']\" \"['history', 'documentation']\"\n",
            " \"['animation', 'action']\"\n",
            " \"['scifi', 'comedy', 'drama', 'fantasy', 'romance']\"\n",
            " \"['drama', 'action', 'war', 'thriller']\"\n",
            " \"['action', 'war', 'drama', 'history', 'european']\"\n",
            " \"['action', 'comedy', 'animation', 'fantasy', 'scifi']\"\n",
            " \"['scifi', 'crime', 'drama', 'fantasy']\"\n",
            " \"['action', 'family', 'fantasy', 'romance', 'animation']\"\n",
            " \"['drama', 'scifi', 'thriller']\" \"['scifi', 'fantasy', 'drama']\"\n",
            " \"['drama', 'thriller', 'comedy', 'crime', 'horror']\"\n",
            " \"['scifi', 'action', 'comedy', 'horror', 'fantasy', 'thriller']\"\n",
            " \"['comedy', 'family', 'animation', 'fantasy', 'western', 'action']\"\n",
            " \"['drama', 'scifi', 'action']\" \"['war', 'action', 'drama', 'thriller']\"\n",
            " \"['crime', 'drama', 'horror', 'thriller']\"\n",
            " \"['scifi', 'thriller', 'drama']\"\n",
            " \"['scifi', 'drama', 'horror', 'comedy', 'crime']\"\n",
            " \"['drama', 'war', 'history', 'romance', 'thriller', 'european']\"\n",
            " \"['drama', 'comedy', 'history']\" \"['action', 'war', 'drama']\"\n",
            " \"['drama', 'action', 'crime', 'thriller']\" \"['drama', 'thriller']\"\n",
            " \"['war', 'thriller']\" \"['drama', 'crime', 'thriller', 'action']\"\n",
            " \"['drama', 'scifi', 'thriller', 'animation', 'fantasy']\"\n",
            " \"['scifi', 'action', 'drama', 'fantasy', 'horror']\"\n",
            " \"['comedy', 'drama', 'western']\"\n",
            " \"['drama', 'documentation', 'history', 'war']\" \"['war', 'drama']\"\n",
            " \"['drama', 'history', 'romance', 'war', 'documentation', 'comedy', 'european']\"\n",
            " \"['war', 'drama', 'history', 'european']\" \"['documentation', 'crime']\"\n",
            " \"['reality', 'documentation', 'comedy']\"\n",
            " \"['scifi', 'thriller', 'crime', 'drama', 'fantasy']\"\n",
            " \"['documentation', 'sport']\" \"['war', 'drama', 'thriller']\"\n",
            " \"['drama', 'scifi', 'comedy', 'fantasy']\" \"['comedy', 'family', 'drama']\"\n",
            " \"['comedy', 'drama', 'family', 'romance']\"\n",
            " \"['western', 'action', 'drama', 'fantasy', 'thriller']\"\n",
            " \"['scifi', 'thriller', 'drama', 'horror']\"\n",
            " \"['action', 'drama', 'history', 'western']\"\n",
            " \"['comedy', 'animation', 'drama']\"\n",
            " \"['documentation', 'history', 'european']\"\n",
            " \"['drama', 'scifi', 'thriller', 'action']\" \"['crime', 'drama']\"\n",
            " \"['fantasy', 'scifi', 'animation', 'action', 'comedy', 'family', 'european']\"\n",
            " \"['crime', 'documentation']\"\n",
            " \"['scifi', 'action', 'comedy', 'fantasy', 'drama', 'family', 'animation']\"\n",
            " \"['comedy', 'scifi', 'animation', 'fantasy']\"\n",
            " \"['comedy', 'family', 'sport']\" \"['drama', 'comedy', 'sport']\"\n",
            " \"['documentation', 'music']\"\n",
            " \"['scifi', 'action', 'animation', 'drama', 'fantasy', 'horror']\"\n",
            " \"['drama', 'thriller', 'reality']\"\n",
            " \"['drama', 'romance', 'thriller', 'action', 'crime']\"\n",
            " \"['drama', 'action', 'thriller', 'european']\"\n",
            " \"['action', 'family', 'scifi', 'animation']\"\n",
            " \"['action', 'animation', 'family', 'fantasy', 'comedy']\"\n",
            " \"['drama', 'crime', 'thriller', 'european']\"\n",
            " \"['drama', 'war', 'history', 'romance']\"\n",
            " \"['thriller', 'comedy', 'drama', 'family', 'fantasy', 'horror', 'animation']\"\n",
            " \"['action', 'war', 'drama', 'romance', 'thriller']\"\n",
            " \"['animation', 'action', 'comedy', 'crime', 'family', 'fantasy', 'scifi', 'european']\"\n",
            " \"['scifi', 'animation', 'action', 'comedy', 'family', 'drama', 'fantasy']\"\n",
            " \"['war', 'action', 'scifi', 'animation', 'drama']\"\n",
            " \"['animation', 'action', 'thriller', 'drama', 'horror', 'fantasy', 'scifi']\"\n",
            " \"['animation', 'comedy', 'family', 'scifi', 'action']\"\n",
            " \"['scifi', 'drama', 'thriller']\"\n",
            " \"['animation', 'scifi', 'action', 'comedy']\" \"['drama', 'music']\"\n",
            " \"['drama', 'comedy', 'fantasy', 'music']\"\n",
            " \"['animation', 'action', 'comedy', 'family', 'fantasy', 'european']\"\n",
            " \"['comedy', 'action', 'animation', 'family']\" \"['drama', 'war']\"\n",
            " \"['thriller', 'crime', 'drama', 'european']\"\n",
            " \"['comedy', 'horror', 'scifi', 'european']\"\n",
            " \"['action', 'animation', 'comedy', 'family', 'scifi']\"\n",
            " \"['animation', 'action', 'comedy', 'family', 'scifi']\"\n",
            " \"['drama', 'history']\" \"['family', 'comedy', 'animation', 'european']\"\n",
            " \"['family']\" \"['family', 'animation', 'comedy', 'fantasy', 'scifi']\"\n",
            " \"['drama', 'comedy', 'crime', 'european']\"\n",
            " \"['animation', 'comedy', 'drama', 'thriller', 'action', 'scifi']\"\n",
            " \"['documentation', 'drama', 'european']\"\n",
            " \"['family', 'comedy', 'animation', 'history', 'scifi']\"\n",
            " \"['comedy', 'animation', 'action', 'family']\"\n",
            " \"['scifi', 'action', 'drama', 'thriller', 'crime']\"\n",
            " \"['action', 'scifi', 'animation', 'family', 'comedy', 'drama', 'fantasy']\"\n",
            " \"['drama', 'fantasy', 'romance', 'comedy']\"\n",
            " \"['family', 'fantasy', 'animation', 'comedy']\"\n",
            " \"['comedy', 'drama', 'fantasy', 'romance']\"\n",
            " \"['fantasy', 'romance', 'animation', 'comedy', 'drama', 'family', 'european']\"\n",
            " \"['drama', 'scifi', 'fantasy']\" \"['drama', 'comedy', 'animation']\"\n",
            " \"['animation', 'fantasy', 'scifi', 'action']\"\n",
            " \"['drama', 'documentation', 'comedy']\" \"['scifi', 'drama']\"\n",
            " \"['action', 'animation', 'comedy', 'drama', 'family', 'fantasy']\"\n",
            " \"['animation', 'family', 'fantasy']\"\n",
            " \"['action', 'comedy', 'crime', 'drama']\" \"['documentation', 'reality']\"\n",
            " \"['family', 'animation', 'comedy']\"\n",
            " \"['drama', 'romance', 'thriller', 'crime']\"\n",
            " \"['crime', 'drama', 'thriller']\"\n",
            " \"['drama', 'scifi', 'crime', 'thriller']\"\n",
            " \"['action', 'drama', 'comedy', 'sport']\"\n",
            " \"['drama', 'crime', 'thriller', 'history', 'european']\"\n",
            " \"['scifi', 'drama', 'thriller', 'action']\"\n",
            " \"['drama', 'horror', 'thriller']\"\n",
            " \"['crime', 'war', 'drama', 'thriller', 'european']\"\n",
            " \"['scifi', 'action', 'drama', 'thriller', 'family']\"\n",
            " \"['drama', 'thriller', 'action', 'crime', 'european']\"\n",
            " \"['western', 'drama', 'action']\" \"['comedy', 'drama', 'scifi']\"\n",
            " \"['drama', 'thriller', 'romance', 'crime']\"\n",
            " \"['action', 'comedy', 'drama', 'family']\"\n",
            " \"['animation', 'romance', 'comedy']\"\n",
            " \"['drama', 'sport', 'comedy', 'reality']\"\n",
            " \"['action', 'scifi', 'drama', 'family', 'fantasy', 'thriller', 'animation']\"\n",
            " \"['scifi', 'drama', 'thriller', 'fantasy', 'horror']\"\n",
            " \"['drama', 'comedy', 'crime', 'romance', 'thriller']\"\n",
            " \"['comedy', 'romance', 'animation', 'drama', 'music']\"\n",
            " \"['action', 'scifi', 'thriller', 'comedy', 'crime', 'fantasy']\"\n",
            " \"['drama', 'comedy', 'thriller', 'crime']\"\n",
            " \"['thriller', 'horror', 'comedy']\"\n",
            " \"['scifi', 'action', 'animation', 'family', 'comedy', 'drama', 'fantasy']\"\n",
            " '[]' \"['scifi', 'animation', 'drama', 'fantasy', 'horror', 'action']\"\n",
            " \"['animation', 'action', 'comedy', 'crime']\"\n",
            " \"['drama', 'crime', 'thriller', 'romance', 'scifi', 'comedy']\"\n",
            " \"['action', 'comedy', 'fantasy', 'animation', 'scifi']\"\n",
            " \"['documentation', 'war']\"\n",
            " \"['action', 'scifi', 'thriller', 'drama', 'fantasy', 'romance']\"\n",
            " \"['crime', 'comedy', 'drama']\"\n",
            " \"['action', 'scifi', 'animation', 'crime']\"\n",
            " \"['comedy', 'fantasy', 'animation']\"\n",
            " \"['scifi', 'action', 'comedy', 'fantasy']\"\n",
            " \"['animation', 'drama', 'fantasy', 'romance', 'thriller']\"\n",
            " \"['drama', 'history', 'music', 'thriller', 'crime']\"\n",
            " \"['crime', 'documentation', 'drama', 'fantasy']\"\n",
            " \"['scifi', 'family', 'drama', 'comedy', 'fantasy', 'animation', 'action', 'romance']\"\n",
            " \"['action', 'thriller', 'crime', 'drama']\"\n",
            " \"['drama', 'scifi', 'thriller', 'fantasy', 'action', 'music']\"\n",
            " \"['thriller', 'drama', 'horror', 'european']\"\n",
            " \"['scifi', 'drama', 'fantasy']\" \"['crime', 'thriller', 'documentation']\"\n",
            " \"['scifi', 'fantasy', 'drama', 'family']\"\n",
            " \"['scifi', 'action', 'animation', 'comedy', 'family', 'fantasy']\"\n",
            " \"['drama', 'thriller', 'crime', 'horror', 'fantasy']\"\n",
            " \"['action', 'comedy', 'family', 'fantasy', 'animation']\"\n",
            " \"['comedy', 'sport', 'drama']\"\n",
            " \"['war', 'documentation', 'crime', 'thriller', 'comedy', 'drama']\"\n",
            " \"['animation', 'scifi', 'drama', 'fantasy', 'romance']\"\n",
            " \"['documentation', 'horror', 'scifi', 'thriller', 'music']\"\n",
            " \"['scifi', 'horror']\" \"['documentation', 'comedy', 'history']\"\n",
            " \"['scifi', 'animation', 'comedy', 'drama', 'family', 'fantasy']\"\n",
            " \"['comedy', 'documentation']\" \"['drama', 'action', 'crime', 'european']\"\n",
            " \"['documentation', 'drama']\" \"['scifi', 'animation', 'action']\"\n",
            " \"['animation', 'comedy', 'family', 'fantasy', 'music']\"\n",
            " \"['documentation', 'reality', 'horror']\"\n",
            " \"['action', 'fantasy', 'animation']\"\n",
            " \"['family', 'action', 'comedy', 'drama', 'documentation']\"\n",
            " \"['reality', 'documentation', 'comedy', 'european']\"\n",
            " \"['comedy', 'romance', 'animation', 'family', 'fantasy']\"\n",
            " \"['documentation', 'history', 'reality']\" \"['reality', 'comedy']\"\n",
            " \"['scifi', 'romance', 'comedy', 'fantasy', 'horror']\"\n",
            " \"['drama', 'thriller', 'crime', 'romance', 'comedy']\"\n",
            " \"['comedy', 'scifi', 'animation', 'drama', 'family']\"\n",
            " \"['war', 'history', 'documentation']\"\n",
            " \"['action', 'scifi', 'thriller', 'animation', 'drama', 'crime', 'fantasy', 'horror']\"\n",
            " \"['drama', 'crime', 'thriller', 'history']\"\n",
            " \"['scifi', 'drama', 'horror', 'thriller']\"\n",
            " \"['drama', 'history', 'music', 'romance']\"\n",
            " \"['drama', 'action', 'crime', 'romance', 'thriller']\"\n",
            " \"['scifi', 'drama', 'fantasy', 'horror', 'thriller', 'family']\"\n",
            " \"['drama', 'war', 'thriller']\"\n",
            " \"['war', 'documentation', 'history', 'reality', 'european']\"\n",
            " \"['comedy', 'action', 'animation', 'family', 'fantasy', 'scifi']\"\n",
            " \"['animation', 'drama', 'family', 'fantasy', 'action', 'comedy']\"\n",
            " \"['comedy', 'drama', 'action', 'fantasy', 'romance', 'animation']\"\n",
            " \"['drama', 'horror', 'thriller', 'crime', 'european']\"\n",
            " \"['comedy', 'romance', 'animation']\"\n",
            " \"['action', 'scifi', 'thriller', 'animation', 'drama', 'fantasy']\"\n",
            " \"['scifi', 'fantasy', 'animation']\"\n",
            " \"['crime', 'action', 'drama', 'documentation']\" \"['music']\"\n",
            " \"['comedy', 'drama', 'reality', 'family', 'documentation', 'music', 'european']\"\n",
            " \"['drama', 'thriller', 'comedy', 'romance']\" \"['action']\"\n",
            " \"['scifi', 'action', 'romance', 'animation', 'drama', 'fantasy', 'music']\"\n",
            " \"['drama', 'crime', 'fantasy', 'action', 'thriller']\"\n",
            " \"['drama', 'music', 'romance', 'history']\"\n",
            " \"['action', 'animation', 'scifi', 'fantasy', 'horror']\"\n",
            " \"['reality', 'action', 'documentation']\" \"['drama', 'music', 'romance']\"\n",
            " \"['thriller', 'drama', 'scifi', 'fantasy', 'romance']\"\n",
            " \"['action', 'drama', 'sport', 'animation']\"\n",
            " \"['drama', 'crime', 'action', 'thriller']\"\n",
            " \"['western', 'crime', 'drama']\"\n",
            " \"['thriller', 'drama', 'crime', 'european']\"\n",
            " \"['thriller', 'comedy', 'reality']\"\n",
            " \"['crime', 'thriller', 'drama', 'romance']\"\n",
            " \"['animation', 'action', 'drama', 'family', 'fantasy']\"\n",
            " \"['drama', 'family', 'music']\" \"['action', 'documentation']\"\n",
            " \"['thriller', 'crime', 'european']\"\n",
            " \"['action', 'scifi', 'animation', 'comedy', 'family']\"\n",
            " \"['drama', 'comedy', 'thriller']\" \"['action', 'scifi', 'animation']\"\n",
            " \"['animation', 'action', 'comedy', 'scifi']\"\n",
            " \"['drama', 'crime', 'scifi', 'thriller']\"\n",
            " \"['comedy', 'drama', 'crime', 'documentation']\"\n",
            " \"['drama', 'action', 'history', 'crime']\"\n",
            " \"['drama', 'thriller', 'animation', 'fantasy']\"\n",
            " \"['scifi', 'drama', 'horror', 'fantasy']\"\n",
            " \"['crime', 'thriller', 'drama']\" \"['crime', 'thriller', 'action']\"\n",
            " \"['action', 'war', 'drama', 'fantasy', 'romance']\"\n",
            " \"['crime', 'action', 'drama', 'thriller']\"\n",
            " \"['animation', 'drama', 'thriller']\"\n",
            " \"['scifi', 'thriller', 'family', 'fantasy', 'european']\"\n",
            " \"['comedy', 'family', 'fantasy', 'animation']\"\n",
            " \"['animation', 'action', 'music', 'scifi', 'thriller', 'comedy', 'romance', 'family', 'drama']\"\n",
            " \"['comedy', 'animation', 'romance']\" \"['action', 'drama', 'crime']\"\n",
            " \"['action', 'crime']\" \"['comedy', 'thriller', 'action', 'scifi']\"\n",
            " \"['action', 'scifi', 'horror', 'animation', 'history']\"\n",
            " \"['drama', 'thriller', 'romance', 'action', 'comedy', 'history']\"\n",
            " \"['drama', 'animation']\" \"['crime', 'comedy']\"\n",
            " \"['drama', 'thriller', 'fantasy', 'scifi']\"\n",
            " \"['scifi', 'thriller', 'history', 'action', 'drama', 'fantasy', 'horror', 'crime', 'family']\"\n",
            " \"['drama', 'war', 'history', 'action', 'romance']\"\n",
            " \"['documentation', 'european']\" \"['war', 'crime', 'drama', 'thriller']\"\n",
            " \"['drama', 'comedy', 'thriller', 'romance', 'fantasy']\"\n",
            " \"['scifi', 'thriller', 'drama', 'horror', 'romance']\"\n",
            " \"['drama', 'comedy', 'romance', 'european']\"\n",
            " \"['animation', 'action', 'comedy', 'family', 'sport']\"\n",
            " \"['comedy', 'reality', 'horror']\"\n",
            " \"['scifi', 'documentation', 'reality', 'sport']\"\n",
            " \"['action', 'scifi', 'horror', 'animation', 'drama', 'fantasy']\"\n",
            " \"['scifi', 'drama', 'fantasy', 'romance']\"\n",
            " \"['thriller', 'drama', 'crime', 'horror', 'comedy']\"\n",
            " \"['documentation', 'crime', 'action']\" \"['drama', 'comedy', 'reality']\"\n",
            " \"['action', 'scifi', 'thriller', 'drama', 'romance']\"\n",
            " \"['action', 'comedy']\"\n",
            " \"['animation', 'action', 'comedy', 'drama', 'family', 'western', 'documentation']\"\n",
            " \"['action', 'reality']\"\n",
            " \"['scifi', 'action', 'drama', 'animation', 'fantasy']\"\n",
            " \"['animation', 'comedy', 'family', 'fantasy', 'horror']\"\n",
            " \"['fantasy', 'animation', 'comedy', 'family']\"\n",
            " \"['drama', 'scifi', 'romance', 'fantasy', 'family']\"\n",
            " \"['comedy', 'animation']\"\n",
            " \"['action', 'scifi', 'animation', 'drama', 'fantasy']\"\n",
            " \"['drama', 'romance', 'fantasy']\" \"['drama', 'scifi', 'family']\"\n",
            " \"['documentation', 'war', 'history']\"\n",
            " \"['animation', 'comedy', 'family', 'horror']\"\n",
            " \"['scifi', 'comedy', 'animation', 'action', 'fantasy']\"\n",
            " \"['scifi', 'comedy', 'animation', 'drama', 'family', 'fantasy']\"\n",
            " \"['scifi', 'action', 'comedy', 'drama']\"\n",
            " \"['reality', 'documentation', 'thriller']\"\n",
            " \"['comedy', 'action', 'family', 'animation']\"\n",
            " \"['action', 'comedy', 'family', 'scifi', 'animation']\"\n",
            " \"['drama', 'comedy', 'scifi', 'fantasy', 'romance']\"\n",
            " \"['drama', 'comedy', 'family', 'music']\"\n",
            " \"['family', 'drama', 'comedy', 'romance']\"\n",
            " \"['drama', 'comedy', 'fantasy', 'romance']\"\n",
            " \"['scifi', 'drama', 'animation', 'action']\"\n",
            " \"['action', 'reality', 'war', 'drama', 'thriller']\"\n",
            " \"['scifi', 'comedy', 'fantasy', 'romance']\"\n",
            " \"['animation', 'comedy', 'action', 'family', 'music']\"\n",
            " \"['animation', 'family', 'action', 'comedy']\"\n",
            " \"['comedy', 'family', 'music', 'animation']\"\n",
            " \"['scifi', 'animation', 'fantasy']\" \"['crime', 'drama', 'comedy']\"\n",
            " \"['scifi', 'comedy', 'drama', 'horror', 'thriller']\"\n",
            " \"['reality', 'music']\" \"['action', 'scifi', 'drama', 'thriller']\"\n",
            " \"['scifi']\" \"['documentation', 'history']\" \"['drama', 'horror']\"\n",
            " \"['action', 'comedy', 'family', 'fantasy', 'scifi', 'animation']\"\n",
            " \"['drama', 'romance', 'crime']\"\n",
            " \"['drama', 'action', 'thriller', 'crime', 'romance']\"\n",
            " \"['action', 'animation', 'fantasy', 'thriller', 'horror']\"\n",
            " \"['drama', 'comedy', 'crime']\"\n",
            " \"['action', 'drama', 'war', 'history', 'animation']\"\n",
            " \"['scifi', 'drama', 'action', 'fantasy', 'horror']\"\n",
            " \"['scifi', 'thriller', 'fantasy', 'action', 'drama']\"\n",
            " \"['scifi', 'animation', 'thriller', 'comedy', 'horror', 'fantasy', 'drama', 'action']\"\n",
            " \"['drama', 'fantasy', 'scifi', 'action', 'comedy']\"\n",
            " \"['comedy', 'drama', 'crime', 'horror', 'action']\"\n",
            " \"['reality', 'horror']\" \"['documentation', 'history', 'sport']\"\n",
            " \"['action', 'drama', 'fantasy']\"\n",
            " \"['action', 'fantasy', 'drama', 'family', 'horror', 'animation', 'scifi']\"\n",
            " \"['history', 'war', 'documentation', 'drama', 'action']\"\n",
            " \"['documentation', 'crime', 'drama']\" \"['comedy', 'drama', 'reality']\"\n",
            " \"['drama', 'crime', 'history']\"\n",
            " \"['drama', 'action', 'fantasy', 'horror', 'thriller']\"\n",
            " \"['drama', 'thriller', 'scifi', 'horror']\"\n",
            " \"['war', 'drama', 'thriller', 'history']\"\n",
            " \"['reality', 'history', 'documentation', 'comedy']\"\n",
            " \"['thriller', 'family', 'drama', 'fantasy', 'horror']\"\n",
            " \"['action', 'scifi', 'drama', 'horror', 'thriller']\"\n",
            " \"['scifi', 'drama', 'romance']\"\n",
            " \"['drama', 'scifi', 'thriller', 'action', 'horror', 'history']\"\n",
            " \"['thriller', 'crime', 'drama']\"\n",
            " \"['fantasy', 'scifi', 'comedy', 'drama']\"\n",
            " \"['action', 'scifi', 'fantasy', 'animation']\"\n",
            " \"['documentation', 'scifi', 'animation']\"\n",
            " \"['war', 'comedy', 'romance', 'drama']\"\n",
            " \"['thriller', 'crime', 'drama', 'reality']\"\n",
            " \"['reality', 'romance', 'documentation']\"\n",
            " \"['comedy', 'family', 'scifi', 'action']\"\n",
            " \"['documentation', 'reality', 'romance']\"\n",
            " \"['thriller', 'drama', 'horror']\" \"['thriller', 'drama']\"\n",
            " \"['action', 'scifi', 'animation', 'comedy', 'fantasy']\"\n",
            " \"['reality', 'documentation', 'drama']\" \"['comedy', 'drama', 'music']\"\n",
            " \"['drama', 'scifi', 'comedy', 'fantasy', 'romance']\"\n",
            " \"['scifi', 'action', 'thriller', 'comedy', 'drama', 'fantasy', 'horror']\"\n",
            " \"['action', 'horror', 'thriller']\"\n",
            " \"['documentation', 'history', 'crime']\"\n",
            " \"['crime', 'drama', 'thriller', 'action']\" \"['crime', 'thriller']\"\n",
            " \"['thriller', 'drama', 'crime']\" \"['documentation', 'sport', 'reality']\"\n",
            " \"['documentation', 'thriller', 'crime', 'family']\"\n",
            " \"['war', 'scifi', 'drama']\"\n",
            " \"['animation', 'thriller', 'scifi', 'action', 'drama', 'crime', 'horror', 'fantasy']\"\n",
            " \"['romance', 'crime', 'drama', 'fantasy', 'documentation']\"\n",
            " \"['drama', 'scifi']\" \"['thriller', 'family', 'scifi']\"\n",
            " \"['action', 'crime', 'drama', 'thriller']\"\n",
            " \"['crime', 'documentation', 'music']\"\n",
            " \"['animation', 'action', 'scifi', 'comedy', 'family', 'fantasy']\"\n",
            " \"['war', 'crime', 'thriller', 'drama']\" \"['thriller', 'horror', 'drama']\"\n",
            " \"['documentation', 'family', 'drama']\" \"['comedy', 'horror', 'scifi']\"\n",
            " \"['reality', 'action']\" \"['action', 'crime', 'comedy']\"\n",
            " \"['scifi', 'drama', 'animation', 'music']\"\n",
            " \"['history', 'thriller', 'drama']\"\n",
            " \"['thriller', 'drama', 'crime', 'romance']\"\n",
            " \"['scifi', 'action', 'animation']\"\n",
            " \"['comedy', 'documentation', 'animation', 'family']\"\n",
            " \"['drama', 'war', 'animation', 'action']\"\n",
            " \"['action', 'scifi', 'horror', 'animation', 'comedy', 'fantasy']\"\n",
            " \"['drama', 'action', 'scifi', 'animation', 'crime', 'thriller']\"\n",
            " \"['scifi', 'action', 'drama', 'fantasy']\"\n",
            " \"['action', 'fantasy', 'horror']\" \"['reality', 'crime', 'thriller']\"\n",
            " \"['action', 'drama', 'fantasy', 'thriller', 'scifi']\"\n",
            " \"['comedy', 'crime', 'drama']\" \"['drama', 'action', 'comedy', 'crime']\"\n",
            " \"['war', 'documentation', 'history']\"\n",
            " \"['drama', 'fantasy', 'thriller', 'scifi']\"\n",
            " \"['drama', 'scifi', 'reality', 'comedy', 'romance']\"\n",
            " \"['documentation', 'family', 'history']\"\n",
            " \"['scifi', 'horror', 'drama', 'fantasy', 'thriller']\"\n",
            " \"['drama', 'fantasy', 'romance', 'thriller', 'animation', 'crime']\"\n",
            " \"['fantasy', 'animation', 'action', 'crime', 'drama']\"\n",
            " \"['drama', 'comedy', 'crime', 'romance']\"\n",
            " \"['drama', 'fantasy', 'horror', 'scifi', 'crime']\"\n",
            " \"['scifi', 'fantasy', 'romance', 'drama']\"\n",
            " \"['scifi', 'drama', 'reality']\" \"['action', 'animation', 'fantasy']\"\n",
            " \"['family', 'fantasy', 'scifi', 'animation', 'action', 'comedy']\"\n",
            " \"['comedy', 'scifi', 'drama', 'romance', 'action', 'fantasy', 'horror']\"\n",
            " \"['drama', 'romance', 'reality']\"\n",
            " \"['scifi', 'drama', 'fantasy', 'thriller']\"\n",
            " \"['drama', 'thriller', 'crime', 'history']\"\n",
            " \"['comedy', 'family', 'action']\"\n",
            " \"['comedy', 'drama', 'scifi', 'fantasy']\"\n",
            " \"['horror', 'thriller', 'drama']\" \"['scifi', 'fantasy', 'romance']\"\n",
            " \"['action', 'crime', 'romance', 'thriller', 'drama']\"\n",
            " \"['action', 'drama', 'fantasy', 'horror', 'romance', 'comedy']\"\n",
            " \"['thriller', 'scifi', 'drama', 'fantasy']\"\n",
            " \"['drama', 'comedy', 'romance', 'music']\"\n",
            " \"['action', 'thriller', 'drama', 'scifi']\"\n",
            " \"['crime', 'drama', 'thriller', 'scifi']\"\n",
            " \"['scifi', 'action', 'fantasy', 'animation']\"\n",
            " \"['drama', 'thriller', 'romance']\" \"['crime', 'documentation', 'sport']\"\n",
            " \"['documentation', 'sport', 'comedy', 'european']\"\n",
            " \"['comedy', 'drama', 'romance', 'action']\" \"['drama', 'music', 'comedy']\"\n",
            " \"['war', 'drama', 'crime', 'thriller']\"\n",
            " \"['comedy', 'drama', 'history', 'romance']\"\n",
            " \"['drama', 'comedy', 'horror', 'thriller']\"\n",
            " \"['scifi', 'horror', 'drama', 'fantasy']\"\n",
            " \"['animation', 'comedy', 'drama', 'family']\"\n",
            " \"['action', 'animation', 'scifi', 'comedy', 'fantasy']\"\n",
            " \"['action', 'scifi', 'animation', 'fantasy']\"\n",
            " \"['scifi', 'action', 'comedy', 'drama', 'fantasy', 'romance']\"\n",
            " \"['music', 'crime', 'drama', 'documentation', 'reality']\"\n",
            " \"['animation', 'action', 'family', 'comedy', 'drama', 'romance', 'fantasy']\"\n",
            " \"['scifi', 'comedy', 'drama', 'fantasy']\"\n",
            " \"['documentation', 'crime', 'history']\" \"['drama', 'romance', 'sport']\"\n",
            " \"['drama', 'fantasy', 'horror', 'scifi']\"\n",
            " \"['action', 'family', 'fantasy', 'animation']\"\n",
            " \"['comedy', 'drama', 'family', 'fantasy', 'action']\"\n",
            " \"['scifi', 'comedy', 'animation']\" \"['drama', 'crime', 'music']\"\n",
            " \"['drama', 'scifi', 'horror']\" \"['animation', 'action', 'scifi']\"\n",
            " \"['action', 'drama', 'romance', 'thriller']\"\n",
            " \"['animation', 'action', 'family', 'comedy']\"\n",
            " \"['scifi', 'animation', 'romance', 'action', 'drama', 'horror']\"\n",
            " \"['drama', 'action', 'fantasy', 'thriller']\" \"['scifi', 'romance']\"\n",
            " \"['animation', 'comedy', 'family', 'fantasy', 'scifi', 'drama', 'action']\"\n",
            " \"['family', 'scifi', 'animation', 'comedy', 'action']\"\n",
            " \"['family', 'comedy', 'animation']\"\n",
            " \"['drama', 'comedy', 'family', 'romance']\"\n",
            " \"['crime', 'drama', 'history', 'sport']\"\n",
            " \"['scifi', 'animation', 'action', 'drama']\"\n",
            " \"['family', 'fantasy', 'action', 'scifi']\"\n",
            " \"['action', 'drama', 'history', 'romance']\"\n",
            " \"['scifi', 'drama', 'animation', 'action', 'comedy', 'fantasy', 'history', 'war']\"\n",
            " \"['action', 'family', 'thriller', 'animation']\" \"['music', 'reality']\"\n",
            " \"['crime', 'documentation', 'drama', 'thriller']\"\n",
            " \"['crime', 'drama', 'thriller', 'comedy']\"\n",
            " \"['drama', 'scifi', 'animation', 'fantasy', 'history', 'romance', 'action']\"\n",
            " \"['drama', 'fantasy', 'romance']\"\n",
            " \"['comedy', 'family', 'fantasy', 'scifi', 'animation', 'action']\"\n",
            " \"['scifi', 'animation', 'action', 'fantasy']\"\n",
            " \"['crime', 'scifi', 'drama', 'action', 'fantasy']\"\n",
            " \"['comedy', 'horror', 'reality', 'scifi']\"\n",
            " \"['action', 'scifi', 'animation', 'drama']\"\n",
            " \"['drama', 'action', 'thriller']\" \"['animation', 'action', 'sport']\"\n",
            " \"['scifi', 'action', 'animation', 'comedy', 'drama', 'fantasy', 'thriller']\"\n",
            " \"['fantasy', 'thriller', 'action', 'drama', 'scifi', 'war']\"\n",
            " \"['action', 'animation']\"\n",
            " \"['fantasy', 'scifi', 'animation', 'comedy', 'family']\"\n",
            " \"['thriller', 'drama', 'fantasy', 'horror']\"\n",
            " \"['action', 'comedy', 'crime', 'drama', 'family', 'animation']\"\n",
            " \"['comedy', 'reality']\"\n",
            " \"['documentation', 'drama', 'history', 'romance', 'war']\"\n",
            " \"['action', 'fantasy']\" \"['scifi', 'thriller']\"\n",
            " \"['action', 'drama', 'fantasy', 'history', 'romance']\"\n",
            " \"['history', 'documentation', 'crime']\" \"['drama', 'comedy', 'action']\"\n",
            " \"['documentation', 'comedy', 'drama', 'sport']\"\n",
            " \"['drama', 'romance', 'scifi', 'thriller', 'comedy']\"\n",
            " \"['animation', 'comedy', 'family', 'horror', 'scifi']\"\n",
            " \"['scifi', 'crime', 'fantasy', 'romance', 'comedy']\"\n",
            " \"['thriller', 'crime', 'drama', 'sport']\" \"['crime']\"\n",
            " \"['thriller', 'documentation', 'crime', 'history']\"\n",
            " \"['comedy', 'fantasy', 'drama']\"\n",
            " \"['drama', 'crime', 'horror', 'thriller']\" \"['horror', 'thriller']\"\n",
            " \"['romance', 'thriller', 'comedy', 'drama']\"\n",
            " \"['thriller', 'drama', 'romance', 'comedy', 'crime', 'horror']\"\n",
            " \"['family', 'romance', 'comedy']\"\n",
            " \"['action', 'animation', 'comedy', 'crime', 'drama']\"\n",
            " \"['drama', 'romance', 'action']\"\n",
            " \"['drama', 'thriller', 'romance', 'action']\"\n",
            " \"['comedy', 'scifi', 'music', 'drama', 'family', 'fantasy', 'documentation']\"\n",
            " \"['war', 'drama', 'thriller', 'crime']\" \"['crime', 'family', 'comedy']\"\n",
            " \"['drama', 'fantasy', 'romance', 'action', 'comedy']\"\n",
            " \"['action', 'comedy', 'family', 'fantasy', 'animation', 'scifi']\"\n",
            " \"['drama', 'fantasy']\" \"['action', 'animation', 'family']\"\n",
            " \"['animation', 'action', 'fantasy', 'thriller']\"\n",
            " \"['music', 'family', 'reality']\" \"['action', 'drama', 'romance']\"\n",
            " \"['drama', 'comedy', 'crime', 'family']\"\n",
            " \"['comedy', 'fantasy', 'scifi', 'animation', 'action']\"\n",
            " \"['action', 'scifi', 'thriller', 'animation', 'fantasy', 'sport']\"\n",
            " \"['family', 'drama']\" \"['scifi', 'animation', 'action', 'comedy']\"\n",
            " \"['comedy', 'scifi', 'family', 'crime', 'fantasy', 'horror']\"\n",
            " \"['thriller', 'drama', 'scifi', 'history', 'horror']\"\n",
            " \"['drama', 'fantasy', 'horror', 'scifi', 'action']\"\n",
            " \"['drama', 'thriller', 'horror']\"\n",
            " \"['war', 'action', 'drama', 'history', 'romance']\"\n",
            " \"['scifi', 'drama', 'fantasy', 'action']\"\n",
            " \"['action', 'scifi', 'drama', 'fantasy']\"\n",
            " \"['animation', 'action', 'crime', 'scifi', 'thriller', 'fantasy']\"\n",
            " \"['action', 'drama', 'fantasy', 'horror', 'scifi']\"\n",
            " \"['thriller', 'drama', 'action', 'crime', 'comedy']\"\n",
            " \"['animation', 'comedy', 'fantasy', 'scifi']\"\n",
            " \"['scifi', 'action', 'animation', 'drama', 'fantasy', 'thriller']\"\n",
            " \"['action', 'fantasy', 'romance', 'thriller', 'comedy', 'drama']\"\n",
            " \"['romance', 'drama']\" \"['animation', 'action', 'scifi', 'fantasy']\"\n",
            " \"['action', 'drama', 'thriller', 'crime']\"\n",
            " \"['scifi', 'action', 'thriller', 'drama', 'fantasy', 'horror']\"\n",
            " \"['action', 'drama', 'scifi', 'fantasy']\"\n",
            " \"['scifi', 'horror', 'thriller', 'action']\"\n",
            " \"['drama', 'family', 'fantasy', 'animation']\"\n",
            " \"['scifi', 'horror', 'thriller', 'animation', 'drama']\"\n",
            " \"['animation', 'romance', 'scifi', 'action', 'comedy', 'family', 'fantasy']\"\n",
            " \"['scifi', 'horror', 'thriller', 'drama']\"\n",
            " \"['comedy', 'crime', 'drama', 'thriller']\"\n",
            " \"['crime', 'documentation', 'history']\"\n",
            " \"['crime', 'sport', 'documentation']\"\n",
            " \"['drama', 'scifi', 'fantasy', 'action']\"\n",
            " \"['thriller', 'drama', 'comedy', 'crime']\"\n",
            " \"['drama', 'horror', 'fantasy']\" \"['documentation', 'music', 'history']\"\n",
            " \"['action', 'drama', 'crime', 'thriller']\"\n",
            " \"['drama', 'documentation', 'crime']\"\n",
            " \"['action', 'animation', 'scifi', 'fantasy', 'thriller']\"\n",
            " \"['documentation', 'drama', 'history']\"\n",
            " \"['scifi', 'drama', 'fantasy', 'horror', 'thriller']\"\n",
            " \"['drama', 'scifi', 'thriller', 'horror']\"\n",
            " \"['family', 'fantasy', 'animation']\"\n",
            " \"['drama', 'scifi', 'crime', 'fantasy', 'horror', 'thriller']\"\n",
            " \"['comedy', 'action', 'family', 'fantasy', 'animation']\"\n",
            " \"['drama', 'thriller', 'action', 'comedy', 'crime']\"\n",
            " \"['documentation', 'crime', 'thriller', 'history']\"\n",
            " \"['animation', 'drama', 'action', 'scifi', 'fantasy', 'thriller', 'history']\"\n",
            " \"['comedy', 'fantasy']\"\n",
            " \"['fantasy', 'horror', 'thriller', 'family', 'drama', 'scifi']\"\n",
            " \"['thriller', 'scifi', 'drama', 'horror']\"\n",
            " \"['scifi', 'thriller', 'animation', 'action', 'fantasy']\"\n",
            " \"['comedy', 'scifi', 'drama', 'thriller']\"\n",
            " \"['animation', 'action', 'war', 'scifi', 'drama', 'thriller']\"\n",
            " \"['action', 'animation', 'comedy', 'family']\"\n",
            " \"['reality', 'romance', 'documentation', 'comedy', 'drama']\"\n",
            " \"['scifi', 'fantasy', 'animation', 'comedy']\"\n",
            " \"['scifi', 'action', 'drama', 'thriller']\"\n",
            " \"['scifi', 'action', 'comedy', 'drama', 'fantasy']\"\n",
            " \"['comedy', 'crime', 'drama', 'romance', 'animation', 'action']\"\n",
            " \"['comedy', 'drama', 'thriller', 'crime']\"\n",
            " \"['animation', 'action', 'scifi', 'comedy', 'fantasy']\"\n",
            " \"['scifi', 'action', 'comedy', 'crime', 'drama', 'fantasy']\"\n",
            " \"['scifi', 'thriller', 'action', 'crime', 'drama']\"\n",
            " \"['drama', 'action', 'comedy', 'fantasy']\"\n",
            " \"['drama', 'comedy', 'fantasy', 'thriller']\"\n",
            " \"['reality', 'comedy', 'romance']\" \"['romance', 'reality']\"\n",
            " \"['drama', 'thriller', 'crime', 'fantasy']\"\n",
            " \"['drama', 'scifi', 'fantasy', 'romance', 'history', 'comedy']\"\n",
            " \"['thriller', 'drama', 'horror', 'scifi']\"\n",
            " \"['drama', 'thriller', 'crime', 'romance']\" \"['documentation', 'horror']\"\n",
            " \"['drama', 'animation', 'comedy', 'romance']\"\n",
            " \"['drama', 'thriller', 'history']\"\n",
            " \"['action', 'comedy', 'crime', 'drama', 'fantasy', 'romance', 'thriller', 'scifi']\"\n",
            " \"['drama', 'animation', 'comedy']\"\n",
            " \"['comedy', 'drama', 'romance', 'fantasy']\"\n",
            " \"['drama', 'action', 'crime']\" \"['animation', 'comedy', 'romance']\"\n",
            " \"['thriller', 'crime', 'scifi', 'fantasy', 'horror', 'action', 'animation']\"\n",
            " \"['action', 'scifi', 'drama', 'fantasy', 'thriller', 'animation']\"\n",
            " \"['comedy', 'drama', 'romance', 'family']\"\n",
            " \"['scifi', 'drama', 'thriller', 'crime', 'fantasy']\"\n",
            " \"['scifi', 'drama', 'comedy']\" \"['drama', 'history', 'crime']\"\n",
            " \"['drama', 'scifi', 'history', 'comedy']\"\n",
            " \"['scifi', 'comedy', 'fantasy']\" \"['comedy', 'documentation', 'sport']\"\n",
            " \"['comedy', 'scifi', 'animation', 'action']\"\n",
            " \"['drama', 'action', 'fantasy', 'romance']\"\n",
            " \"['scifi', 'thriller', 'crime', 'drama', 'fantasy', 'horror']\"\n",
            " \"['scifi', 'drama', 'action', 'animation', 'horror']\"\n",
            " \"['animation', 'reality', 'scifi', 'fantasy', 'action', 'drama', 'family']\"\n",
            " \"['animation', 'action', 'comedy', 'drama', 'family', 'fantasy', 'scifi']\"\n",
            " \"['drama', 'animation', 'romance', 'action']\"\n",
            " \"['comedy', 'drama', 'family', 'fantasy', 'animation', 'action']\"\n",
            " \"['drama', 'thriller', 'fantasy', 'romance']\"\n",
            " \"['action', 'scifi', 'thriller', 'animation', 'horror']\"\n",
            " \"['crime', 'drama', 'scifi', 'thriller', 'action']\"\n",
            " \"['animation', 'comedy', 'fantasy', 'romance']\"\n",
            " \"['scifi', 'drama', 'war']\" \"['action', 'comedy', 'horror']\"\n",
            " \"['drama', 'comedy', 'music', 'romance', 'family']\"\n",
            " \"['drama', 'crime', 'action', 'war']\" \"['thriller', 'comedy', 'drama']\"\n",
            " \"['drama', 'history', 'war', 'documentation', 'action']\"\n",
            " \"['action', 'comedy', 'crime', 'drama', 'romance']\"\n",
            " \"['war', 'drama', 'action', 'history']\"\n",
            " \"['family', 'drama', 'scifi', 'animation', 'action', 'comedy', 'fantasy']\"\n",
            " \"['drama', 'crime', 'thriller', 'comedy']\"\n",
            " \"['family', 'fantasy', 'horror', 'comedy']\"\n",
            " \"['fantasy', 'scifi', 'animation', 'action', 'comedy', 'crime']\"\n",
            " \"['animation', 'drama']\"\n",
            " \"['fantasy', 'animation', 'action', 'comedy', 'scifi']\"\n",
            " \"['comedy', 'drama', 'history', 'reality']\"\n",
            " \"['crime', 'drama', 'fantasy', 'scifi']\"\n",
            " \"['comedy', 'drama', 'family', 'music', 'action']\"\n",
            " \"['documentation', 'drama', 'family', 'comedy']\"\n",
            " \"['drama', 'family', 'animation', 'comedy', 'action']\"\n",
            " \"['scifi', 'action', 'drama', 'fantasy', 'romance']\"\n",
            " \"['animation', 'documentation']\"\n",
            " \"['drama', 'action', 'scifi', 'history', 'romance', 'fantasy']\"\n",
            " \"['scifi', 'thriller', 'action', 'comedy', 'drama', 'fantasy']\"\n",
            " \"['scifi', 'animation', 'action', 'comedy', 'family', 'fantasy']\"\n",
            " \"['thriller', 'comedy']\" \"['animation', 'drama', 'comedy']\"\n",
            " \"['thriller', 'action', 'crime', 'drama']\"\n",
            " \"['drama', 'family', 'thriller']\"\n",
            " \"['scifi', 'drama', 'comedy', 'fantasy']\" \"['drama', 'sport', 'comedy']\"\n",
            " \"['drama', 'thriller', 'comedy', 'crime']\"\n",
            " \"['drama', 'history', 'thriller']\"\n",
            " \"['animation', 'comedy', 'family', 'music']\"\n",
            " \"['drama', 'scifi', 'action', 'fantasy', 'thriller']\"\n",
            " \"['drama', 'family', 'sport', 'action', 'comedy']\"\n",
            " \"['drama', 'comedy', 'scifi', 'war', 'fantasy', 'history', 'romance', 'animation']\"\n",
            " \"['scifi', 'drama', 'family', 'fantasy', 'comedy']\"\n",
            " \"['scifi', 'drama', 'animation', 'action', 'crime', 'fantasy']\"\n",
            " \"['thriller', 'drama', 'action', 'comedy', 'crime', 'romance']\"\n",
            " \"['scifi', 'action', 'animation', 'thriller']\"\n",
            " \"['drama', 'scifi', 'fantasy', 'music']\"\n",
            " \"['crime', 'action', 'comedy', 'thriller']\"\n",
            " \"['sport', 'thriller', 'animation', 'action', 'drama']\"\n",
            " \"['scifi', 'comedy', 'family', 'fantasy', 'animation', 'action']\"\n",
            " \"['reality', 'sport']\" \"['documentation', 'crime', 'thriller']\"\n",
            " \"['action', 'scifi', 'drama', 'fantasy', 'animation']\"\n",
            " \"['thriller', 'documentation', 'crime']\" \"['comedy', 'music', 'romance']\"\n",
            " \"['scifi', 'action', 'family', 'fantasy', 'animation', 'comedy']\"\n",
            " \"['comedy', 'family', 'animation', 'action']\"\n",
            " \"['scifi', 'fantasy', 'comedy', 'family']\"\n",
            " \"['drama', 'thriller', 'animation']\" \"['drama', 'family', 'sport']\"\n",
            " \"['reality', 'family']\" \"['reality', 'documentation', 'romance']\"\n",
            " \"['comedy', 'animation', 'family', 'fantasy']\"\n",
            " \"['comedy', 'scifi', 'fantasy', 'drama', 'animation', 'music', 'family']\"\n",
            " \"['music', 'drama']\" \"['drama', 'documentation']\"\n",
            " \"['fantasy', 'scifi', 'animation', 'action', 'comedy', 'family']\"\n",
            " \"['comedy', 'animation', 'family', 'scifi', 'action']\"\n",
            " \"['action', 'scifi', 'comedy', 'animation', 'family', 'fantasy']\"\n",
            " \"['animation', 'action', 'comedy', 'family', 'fantasy']\"\n",
            " \"['crime', 'drama', 'action', 'romance']\"\n",
            " \"['comedy', 'family', 'fantasy', 'scifi']\"\n",
            " \"['animation', 'comedy', 'fantasy', 'action']\"\n",
            " \"['animation', 'action', 'family']\"\n",
            " \"['animation', 'comedy', 'family', 'fantasy', 'scifi', 'action']\"\n",
            " \"['horror', 'reality']\" \"['animation', 'comedy', 'scifi']\"\n",
            " \"['drama', 'family', 'romance']\" \"['action', 'thriller']\"\n",
            " \"['animation', 'comedy', 'family', 'music', 'drama', 'fantasy']\"\n",
            " \"['animation', 'comedy', 'fantasy', 'history']\"\n",
            " \"['action', 'fantasy', 'horror', 'romance']\"\n",
            " \"['drama', 'fantasy', 'thriller']\"\n",
            " \"['horror', 'thriller', 'action', 'drama', 'fantasy', 'scifi']\"\n",
            " \"['crime', 'drama', 'action', 'thriller']\"\n",
            " \"['war', 'drama', 'crime', 'history']\" \"['drama', 'scifi', 'animation']\"\n",
            " \"['animation', 'drama', 'horror']\"\n",
            " \"['scifi', 'action', 'drama', 'fantasy', 'romance', 'thriller']\"\n",
            " \"['crime', 'drama', 'history', 'thriller']\"]\n",
            "--------------------------------------------------\n",
            "--------------------------------------------------\n",
            "--------------------------------------------------\n",
            "Unique values of production_countries: [\"['GB']\" \"['US']\" \"['JP']\" \"['US', 'CA']\" \"['FR']\" \"['AU']\" \"['AR']\"\n",
            " \"['CA']\" \"['CA', 'US']\" \"['DK']\" \"['CO']\" \"['JP', 'US']\" \"['IT']\"\n",
            " \"['TW']\" \"['KR']\" \"['CN']\" \"['ES', 'GB']\" \"['RU']\" \"['IN']\"\n",
            " \"['AR', 'ES']\" \"['US', 'GB']\" \"['SG']\" '[]' \"['NO']\" \"['US', 'DK']\"\n",
            " \"['CL']\" \"['SA']\" \"['ZA']\" \"['IS']\" \"['US', 'FR']\" \"['IL']\" \"['PL']\"\n",
            " \"['TR']\" \"['ES']\" \"['FI']\" \"['GB', 'US']\" \"['IT', 'GB']\" \"['NG']\"\n",
            " \"['NL']\" \"['FR', 'CA']\" \"['IE', 'GB']\" \"['UA']\" \"['BE']\" \"['DE']\"\n",
            " \"['BR']\" \"['MX']\" \"['US', 'IT']\" \"['US', 'JP']\" \"['IE']\" \"['AT']\"\n",
            " \"['US', 'AU', 'GB']\" \"['BY']\" \"['FR', 'RU', 'US']\" \"['GB', 'AU']\"\n",
            " \"['NZ']\" \"['US', 'MX']\" \"['TH']\" \"['ID']\" \"['AE']\" \"['BE', 'FR']\"\n",
            " \"['SE']\" \"['BR', 'CA']\" \"['PR']\" \"['GB', 'CA']\" \"['KR', 'US']\"\n",
            " \"['DK', 'US']\" \"['IE', 'US', 'CA']\" \"['PH']\" \"['AU', 'US']\" \"['PE']\"\n",
            " \"['US', 'IN']\" \"['LU']\" \"['BR', 'GB']\" \"['KW']\" \"['SN']\" \"['US', 'AU']\"\n",
            " \"['HK']\" \"['JO']\" \"['CA', 'DK', 'US']\" \"['JP', 'US', 'FR']\" \"['LB']\"\n",
            " \"['BE', 'NL']\" \"['MX', 'US']\" \"['MX', 'ES']\" \"['US', 'IL']\"\n",
            " \"['US', 'CN']\" \"['TW', 'CN']\" \"['CZ', 'DE']\" \"['EG']\" \"['PE', 'AR']\"\n",
            " \"['FR', 'US']\" \"['ES', 'DE', 'DK', 'US']\" \"['MY', 'TW']\" \"['JP', 'ES']\"\n",
            " \"['JP', 'US', 'PL']\" \"['ES', 'KN']\" \"['AR', 'MX']\" \"['FR', 'DE']\"\n",
            " \"['LB', 'MA', 'SA', 'TN', 'EG']\" \"['BR', 'US']\" \"['US', 'NG']\"\n",
            " \"['US', 'BR']\" \"['PT']\" \"['KE']\" \"['ZA', 'US']\"\n",
            " \"['US', 'GB', 'FI', 'CA']\" \"['BE', 'LU']\" \"['US', 'SG']\"\n",
            " \"['US', 'CA', 'KR', 'JP']\" \"['CH']\" \"['VN']\" \"['IO']\"]\n",
            "--------------------------------------------------\n",
            "--------------------------------------------------\n",
            "--------------------------------------------------\n",
            "Unique values of seasons: [ 4.  1.  9. 24. 13. 10. 44. 21. 25.  8. 33. 29.  7. 11.  5.  6. 14. 19.\n",
            " 20.  3. 15. 34. 16. 31.  2. 12.]\n",
            "--------------------------------------------------\n",
            "--------------------------------------------------\n",
            "--------------------------------------------------\n",
            "Unique values of imdb_score: [8.8 8.1 8.9 6.5 6.1 7.4 7.5 8.2 8.5 6.3 5.5 7.8 7.9 7.3 6.2 8.  9.  6.9\n",
            " 5.8 3.9 9.5 7.6 8.7 7.7 9.3 8.4 8.6 8.3 7.  7.2 3.7 6.7 4.8 4.3 6.8 7.1\n",
            " 3.6 5.4 6.4 4.  5.1 5.3 4.4 6.6 5.9 5.  6.  5.6 5.7 5.2 4.7 9.2 4.5 3.2\n",
            " 4.9 3.4 2.9 9.1 3.5 4.6 9.6 4.1 2.4 2.6 4.2 1.9 2.8 2.3]\n",
            "--------------------------------------------------\n",
            "--------------------------------------------------\n",
            "--------------------------------------------------\n",
            "Unique values of imdb_votes: [7.56540e+04 2.19900e+03 3.26487e+05 ... 1.58400e+03 1.12400e+03\n",
            " 2.07000e+02]\n",
            "--------------------------------------------------\n",
            "--------------------------------------------------\n",
            "--------------------------------------------------\n"
          ]
        }
      ]
    },
    {
      "cell_type": "markdown",
      "source": [
        "It looks like there are some rows with a runtime of zero, which doesn't make any sense so they must be missing values."
      ],
      "metadata": {
        "id": "2MLR98a6OJib"
      }
    },
    {
      "cell_type": "code",
      "source": [
        "raw_df[raw_df['runtime']==0]"
      ],
      "metadata": {
        "colab": {
          "base_uri": "https://localhost:8080/"
        },
        "id": "-gQG7M1uRg7A",
        "outputId": "e2b34ef6-1655-4489-c294-f9f65cf2c71f"
      },
      "execution_count": null,
      "outputs": [
        {
          "output_type": "execute_result",
          "data": {
            "text/plain": [
              "            id                                    title  type  \\\n",
              "455    ts74931            Kung Fu Panda Awesome Secrets  SHOW   \n",
              "515   ts204466                        Pecados capitales  SHOW   \n",
              "2583  ts250172                                 Afronta!  SHOW   \n",
              "4182  ts251607                         Word Party Songs  SHOW   \n",
              "4219  ts268592                      Beyblade Burst Rise  SHOW   \n",
              "4333  ts356131                   Dragon Age: Absolution  SHOW   \n",
              "4598  ts329700        Life After Death with Tyler Henry  SHOW   \n",
              "4739  ts346007                            Savage Beauty  SHOW   \n",
              "4752  ts352579                        As the Crow Flies  SHOW   \n",
              "4770  ts269286  Once Upon a Time... Happily Never After  SHOW   \n",
              "4812  ts308321                        Dated and Related  SHOW   \n",
              "5103  ts294936                                    Terim  SHOW   \n",
              "5671  ts243780                                 Sharkdog  SHOW   \n",
              "5788  ts372348                The Most Beautiful Flower  SHOW   \n",
              "6051  ts379569                              Make My Day  SHOW   \n",
              "6081  ts380364                     Bill Russell: Legend  SHOW   \n",
              "6089  ts374385                          Pressure Cooker  SHOW   \n",
              "\n",
              "                                            description  release_year  \\\n",
              "455   In this pair of adventures, Po tells the story...          2008   \n",
              "515   Evaristo Salinas is a successful businessman i...          2002   \n",
              "2583  Afronta invites contemporary black artists and...          2017   \n",
              "4182  Sing along and dance with Bailey, Franny, Kip,...          2020   \n",
              "4219  Beyblade Burst Rise, also known as Beyblade Bu...          2019   \n",
              "4333  With great power at stake, a group of rebel ma...          2022   \n",
              "4598  Clairvoyant medium Tyler Henry offers clarity ...          2022   \n",
              "4739  In Savage Beauty, Rosemary Zimu plays Zinhle -...          2022   \n",
              "4752  A young fan maneuvers her way into a seasoned ...          2022   \n",
              "4770  A tragically separated couple must find each o...          2022   \n",
              "4812  Pairs of siblings see each other's love life u...          2022   \n",
              "5103  Legendary manager Fatih Terim recounts his foo...          2022   \n",
              "5671  10 year old Max and his best friend Sharkdog -...          2021   \n",
              "5788  Curvy, curly, confident Mich knows she's fabul...          2022   \n",
              "6051  On an icy mining planet (aka a prison world) m...          2023   \n",
              "6081  Winningest NBA champion and civil rights icon ...          2023   \n",
              "6089  Living under one roof, eleven chefs use culina...          2023   \n",
              "\n",
              "     age_certification  runtime  \\\n",
              "455              TV-PG        0   \n",
              "515              TV-MA        0   \n",
              "2583             TV-PG        0   \n",
              "4182              TV-Y        0   \n",
              "4219          TV-Y7-FV        0   \n",
              "4333             TV-MA        0   \n",
              "4598             TV-MA        0   \n",
              "4739             TV-MA        0   \n",
              "4752             TV-MA        0   \n",
              "4770             TV-MA        0   \n",
              "4812             TV-MA        0   \n",
              "5103             TV-14        0   \n",
              "5671              TV-Y        0   \n",
              "5788             TV-14        0   \n",
              "6051             TV-MA        0   \n",
              "6081             TV-MA        0   \n",
              "6089             TV-14        0   \n",
              "\n",
              "                                                 genres production_countries  \\\n",
              "455         ['action', 'family', 'animation', 'comedy']               ['US']   \n",
              "515                      ['romance', 'comedy', 'drama']               ['CO']   \n",
              "2583                                  ['documentation']               ['BR']   \n",
              "4182                            ['animation', 'family']               ['US']   \n",
              "4219  ['action', 'scifi', 'thriller', 'animation', '...         ['JP', 'ES']   \n",
              "4333        ['animation', 'action', 'scifi', 'fantasy']               ['US']   \n",
              "4598                                        ['reality']               ['US']   \n",
              "4739                                          ['drama']               ['US']   \n",
              "4752                                ['drama', 'comedy']               ['TR']   \n",
              "4770                     ['scifi', 'comedy', 'fantasy']               ['ES']   \n",
              "4812                                        ['reality']               ['GB']   \n",
              "5103                         ['documentation', 'sport']               ['TR']   \n",
              "5671                  ['family', 'animation', 'comedy']         ['US', 'SG']   \n",
              "5788                                         ['comedy']               ['MX']   \n",
              "6051                    ['drama', 'scifi', 'animation']               ['JP']   \n",
              "6081                         ['documentation', 'sport']               ['US']   \n",
              "6089                                        ['reality']               ['US']   \n",
              "\n",
              "      seasons     imdb_id  imdb_score  imdb_votes  \n",
              "455       1.0   tt6963796         7.0       101.0  \n",
              "515       1.0   tt0355119         8.5       201.0  \n",
              "2583      1.0  tt12467250         7.7        10.0  \n",
              "4182      1.0  tt12748268         4.0        19.0  \n",
              "4219      1.0  tt11916718         6.0       193.0  \n",
              "4333      1.0  tt21031054         6.4      2856.0  \n",
              "4598      1.0  tt18217272         6.1      1114.0  \n",
              "4739      1.0  tt19671142         5.6       460.0  \n",
              "4752      1.0  tt13323566         6.3      4613.0  \n",
              "4770      1.0  tt13560186         5.4       584.0  \n",
              "4812      1.0  tt15292942         4.6       593.0  \n",
              "5103      1.0  tt21863712         6.7      5335.0  \n",
              "5671      2.0  tt12211696         6.0       189.0  \n",
              "5788      1.0  tt23556906         5.9       227.0  \n",
              "6051      1.0  tt14837962         5.4       434.0  \n",
              "6081      1.0  tt18271440         7.9       824.0  \n",
              "6089      1.0  tt24224968         6.4       695.0  "
            ],
            "text/html": [
              "\n",
              "  <div id=\"df-7db3988b-8f1e-479b-ba66-3b232dc8da4d\">\n",
              "    <div class=\"colab-df-container\">\n",
              "      <div>\n",
              "<style scoped>\n",
              "    .dataframe tbody tr th:only-of-type {\n",
              "        vertical-align: middle;\n",
              "    }\n",
              "\n",
              "    .dataframe tbody tr th {\n",
              "        vertical-align: top;\n",
              "    }\n",
              "\n",
              "    .dataframe thead th {\n",
              "        text-align: right;\n",
              "    }\n",
              "</style>\n",
              "<table border=\"1\" class=\"dataframe\">\n",
              "  <thead>\n",
              "    <tr style=\"text-align: right;\">\n",
              "      <th></th>\n",
              "      <th>id</th>\n",
              "      <th>title</th>\n",
              "      <th>type</th>\n",
              "      <th>description</th>\n",
              "      <th>release_year</th>\n",
              "      <th>age_certification</th>\n",
              "      <th>runtime</th>\n",
              "      <th>genres</th>\n",
              "      <th>production_countries</th>\n",
              "      <th>seasons</th>\n",
              "      <th>imdb_id</th>\n",
              "      <th>imdb_score</th>\n",
              "      <th>imdb_votes</th>\n",
              "    </tr>\n",
              "  </thead>\n",
              "  <tbody>\n",
              "    <tr>\n",
              "      <th>455</th>\n",
              "      <td>ts74931</td>\n",
              "      <td>Kung Fu Panda Awesome Secrets</td>\n",
              "      <td>SHOW</td>\n",
              "      <td>In this pair of adventures, Po tells the story...</td>\n",
              "      <td>2008</td>\n",
              "      <td>TV-PG</td>\n",
              "      <td>0</td>\n",
              "      <td>['action', 'family', 'animation', 'comedy']</td>\n",
              "      <td>['US']</td>\n",
              "      <td>1.0</td>\n",
              "      <td>tt6963796</td>\n",
              "      <td>7.0</td>\n",
              "      <td>101.0</td>\n",
              "    </tr>\n",
              "    <tr>\n",
              "      <th>515</th>\n",
              "      <td>ts204466</td>\n",
              "      <td>Pecados capitales</td>\n",
              "      <td>SHOW</td>\n",
              "      <td>Evaristo Salinas is a successful businessman i...</td>\n",
              "      <td>2002</td>\n",
              "      <td>TV-MA</td>\n",
              "      <td>0</td>\n",
              "      <td>['romance', 'comedy', 'drama']</td>\n",
              "      <td>['CO']</td>\n",
              "      <td>1.0</td>\n",
              "      <td>tt0355119</td>\n",
              "      <td>8.5</td>\n",
              "      <td>201.0</td>\n",
              "    </tr>\n",
              "    <tr>\n",
              "      <th>2583</th>\n",
              "      <td>ts250172</td>\n",
              "      <td>Afronta!</td>\n",
              "      <td>SHOW</td>\n",
              "      <td>Afronta invites contemporary black artists and...</td>\n",
              "      <td>2017</td>\n",
              "      <td>TV-PG</td>\n",
              "      <td>0</td>\n",
              "      <td>['documentation']</td>\n",
              "      <td>['BR']</td>\n",
              "      <td>1.0</td>\n",
              "      <td>tt12467250</td>\n",
              "      <td>7.7</td>\n",
              "      <td>10.0</td>\n",
              "    </tr>\n",
              "    <tr>\n",
              "      <th>4182</th>\n",
              "      <td>ts251607</td>\n",
              "      <td>Word Party Songs</td>\n",
              "      <td>SHOW</td>\n",
              "      <td>Sing along and dance with Bailey, Franny, Kip,...</td>\n",
              "      <td>2020</td>\n",
              "      <td>TV-Y</td>\n",
              "      <td>0</td>\n",
              "      <td>['animation', 'family']</td>\n",
              "      <td>['US']</td>\n",
              "      <td>1.0</td>\n",
              "      <td>tt12748268</td>\n",
              "      <td>4.0</td>\n",
              "      <td>19.0</td>\n",
              "    </tr>\n",
              "    <tr>\n",
              "      <th>4219</th>\n",
              "      <td>ts268592</td>\n",
              "      <td>Beyblade Burst Rise</td>\n",
              "      <td>SHOW</td>\n",
              "      <td>Beyblade Burst Rise, also known as Beyblade Bu...</td>\n",
              "      <td>2019</td>\n",
              "      <td>TV-Y7-FV</td>\n",
              "      <td>0</td>\n",
              "      <td>['action', 'scifi', 'thriller', 'animation', '...</td>\n",
              "      <td>['JP', 'ES']</td>\n",
              "      <td>1.0</td>\n",
              "      <td>tt11916718</td>\n",
              "      <td>6.0</td>\n",
              "      <td>193.0</td>\n",
              "    </tr>\n",
              "    <tr>\n",
              "      <th>4333</th>\n",
              "      <td>ts356131</td>\n",
              "      <td>Dragon Age: Absolution</td>\n",
              "      <td>SHOW</td>\n",
              "      <td>With great power at stake, a group of rebel ma...</td>\n",
              "      <td>2022</td>\n",
              "      <td>TV-MA</td>\n",
              "      <td>0</td>\n",
              "      <td>['animation', 'action', 'scifi', 'fantasy']</td>\n",
              "      <td>['US']</td>\n",
              "      <td>1.0</td>\n",
              "      <td>tt21031054</td>\n",
              "      <td>6.4</td>\n",
              "      <td>2856.0</td>\n",
              "    </tr>\n",
              "    <tr>\n",
              "      <th>4598</th>\n",
              "      <td>ts329700</td>\n",
              "      <td>Life After Death with Tyler Henry</td>\n",
              "      <td>SHOW</td>\n",
              "      <td>Clairvoyant medium Tyler Henry offers clarity ...</td>\n",
              "      <td>2022</td>\n",
              "      <td>TV-MA</td>\n",
              "      <td>0</td>\n",
              "      <td>['reality']</td>\n",
              "      <td>['US']</td>\n",
              "      <td>1.0</td>\n",
              "      <td>tt18217272</td>\n",
              "      <td>6.1</td>\n",
              "      <td>1114.0</td>\n",
              "    </tr>\n",
              "    <tr>\n",
              "      <th>4739</th>\n",
              "      <td>ts346007</td>\n",
              "      <td>Savage Beauty</td>\n",
              "      <td>SHOW</td>\n",
              "      <td>In Savage Beauty, Rosemary Zimu plays Zinhle -...</td>\n",
              "      <td>2022</td>\n",
              "      <td>TV-MA</td>\n",
              "      <td>0</td>\n",
              "      <td>['drama']</td>\n",
              "      <td>['US']</td>\n",
              "      <td>1.0</td>\n",
              "      <td>tt19671142</td>\n",
              "      <td>5.6</td>\n",
              "      <td>460.0</td>\n",
              "    </tr>\n",
              "    <tr>\n",
              "      <th>4752</th>\n",
              "      <td>ts352579</td>\n",
              "      <td>As the Crow Flies</td>\n",
              "      <td>SHOW</td>\n",
              "      <td>A young fan maneuvers her way into a seasoned ...</td>\n",
              "      <td>2022</td>\n",
              "      <td>TV-MA</td>\n",
              "      <td>0</td>\n",
              "      <td>['drama', 'comedy']</td>\n",
              "      <td>['TR']</td>\n",
              "      <td>1.0</td>\n",
              "      <td>tt13323566</td>\n",
              "      <td>6.3</td>\n",
              "      <td>4613.0</td>\n",
              "    </tr>\n",
              "    <tr>\n",
              "      <th>4770</th>\n",
              "      <td>ts269286</td>\n",
              "      <td>Once Upon a Time... Happily Never After</td>\n",
              "      <td>SHOW</td>\n",
              "      <td>A tragically separated couple must find each o...</td>\n",
              "      <td>2022</td>\n",
              "      <td>TV-MA</td>\n",
              "      <td>0</td>\n",
              "      <td>['scifi', 'comedy', 'fantasy']</td>\n",
              "      <td>['ES']</td>\n",
              "      <td>1.0</td>\n",
              "      <td>tt13560186</td>\n",
              "      <td>5.4</td>\n",
              "      <td>584.0</td>\n",
              "    </tr>\n",
              "    <tr>\n",
              "      <th>4812</th>\n",
              "      <td>ts308321</td>\n",
              "      <td>Dated and Related</td>\n",
              "      <td>SHOW</td>\n",
              "      <td>Pairs of siblings see each other's love life u...</td>\n",
              "      <td>2022</td>\n",
              "      <td>TV-MA</td>\n",
              "      <td>0</td>\n",
              "      <td>['reality']</td>\n",
              "      <td>['GB']</td>\n",
              "      <td>1.0</td>\n",
              "      <td>tt15292942</td>\n",
              "      <td>4.6</td>\n",
              "      <td>593.0</td>\n",
              "    </tr>\n",
              "    <tr>\n",
              "      <th>5103</th>\n",
              "      <td>ts294936</td>\n",
              "      <td>Terim</td>\n",
              "      <td>SHOW</td>\n",
              "      <td>Legendary manager Fatih Terim recounts his foo...</td>\n",
              "      <td>2022</td>\n",
              "      <td>TV-14</td>\n",
              "      <td>0</td>\n",
              "      <td>['documentation', 'sport']</td>\n",
              "      <td>['TR']</td>\n",
              "      <td>1.0</td>\n",
              "      <td>tt21863712</td>\n",
              "      <td>6.7</td>\n",
              "      <td>5335.0</td>\n",
              "    </tr>\n",
              "    <tr>\n",
              "      <th>5671</th>\n",
              "      <td>ts243780</td>\n",
              "      <td>Sharkdog</td>\n",
              "      <td>SHOW</td>\n",
              "      <td>10 year old Max and his best friend Sharkdog -...</td>\n",
              "      <td>2021</td>\n",
              "      <td>TV-Y</td>\n",
              "      <td>0</td>\n",
              "      <td>['family', 'animation', 'comedy']</td>\n",
              "      <td>['US', 'SG']</td>\n",
              "      <td>2.0</td>\n",
              "      <td>tt12211696</td>\n",
              "      <td>6.0</td>\n",
              "      <td>189.0</td>\n",
              "    </tr>\n",
              "    <tr>\n",
              "      <th>5788</th>\n",
              "      <td>ts372348</td>\n",
              "      <td>The Most Beautiful Flower</td>\n",
              "      <td>SHOW</td>\n",
              "      <td>Curvy, curly, confident Mich knows she's fabul...</td>\n",
              "      <td>2022</td>\n",
              "      <td>TV-14</td>\n",
              "      <td>0</td>\n",
              "      <td>['comedy']</td>\n",
              "      <td>['MX']</td>\n",
              "      <td>1.0</td>\n",
              "      <td>tt23556906</td>\n",
              "      <td>5.9</td>\n",
              "      <td>227.0</td>\n",
              "    </tr>\n",
              "    <tr>\n",
              "      <th>6051</th>\n",
              "      <td>ts379569</td>\n",
              "      <td>Make My Day</td>\n",
              "      <td>SHOW</td>\n",
              "      <td>On an icy mining planet (aka a prison world) m...</td>\n",
              "      <td>2023</td>\n",
              "      <td>TV-MA</td>\n",
              "      <td>0</td>\n",
              "      <td>['drama', 'scifi', 'animation']</td>\n",
              "      <td>['JP']</td>\n",
              "      <td>1.0</td>\n",
              "      <td>tt14837962</td>\n",
              "      <td>5.4</td>\n",
              "      <td>434.0</td>\n",
              "    </tr>\n",
              "    <tr>\n",
              "      <th>6081</th>\n",
              "      <td>ts380364</td>\n",
              "      <td>Bill Russell: Legend</td>\n",
              "      <td>SHOW</td>\n",
              "      <td>Winningest NBA champion and civil rights icon ...</td>\n",
              "      <td>2023</td>\n",
              "      <td>TV-MA</td>\n",
              "      <td>0</td>\n",
              "      <td>['documentation', 'sport']</td>\n",
              "      <td>['US']</td>\n",
              "      <td>1.0</td>\n",
              "      <td>tt18271440</td>\n",
              "      <td>7.9</td>\n",
              "      <td>824.0</td>\n",
              "    </tr>\n",
              "    <tr>\n",
              "      <th>6089</th>\n",
              "      <td>ts374385</td>\n",
              "      <td>Pressure Cooker</td>\n",
              "      <td>SHOW</td>\n",
              "      <td>Living under one roof, eleven chefs use culina...</td>\n",
              "      <td>2023</td>\n",
              "      <td>TV-14</td>\n",
              "      <td>0</td>\n",
              "      <td>['reality']</td>\n",
              "      <td>['US']</td>\n",
              "      <td>1.0</td>\n",
              "      <td>tt24224968</td>\n",
              "      <td>6.4</td>\n",
              "      <td>695.0</td>\n",
              "    </tr>\n",
              "  </tbody>\n",
              "</table>\n",
              "</div>\n",
              "      <button class=\"colab-df-convert\" onclick=\"convertToInteractive('df-7db3988b-8f1e-479b-ba66-3b232dc8da4d')\"\n",
              "              title=\"Convert this dataframe to an interactive table.\"\n",
              "              style=\"display:none;\">\n",
              "        \n",
              "  <svg xmlns=\"http://www.w3.org/2000/svg\" height=\"24px\"viewBox=\"0 0 24 24\"\n",
              "       width=\"24px\">\n",
              "    <path d=\"M0 0h24v24H0V0z\" fill=\"none\"/>\n",
              "    <path d=\"M18.56 5.44l.94 2.06.94-2.06 2.06-.94-2.06-.94-.94-2.06-.94 2.06-2.06.94zm-11 1L8.5 8.5l.94-2.06 2.06-.94-2.06-.94L8.5 2.5l-.94 2.06-2.06.94zm10 10l.94 2.06.94-2.06 2.06-.94-2.06-.94-.94-2.06-.94 2.06-2.06.94z\"/><path d=\"M17.41 7.96l-1.37-1.37c-.4-.4-.92-.59-1.43-.59-.52 0-1.04.2-1.43.59L10.3 9.45l-7.72 7.72c-.78.78-.78 2.05 0 2.83L4 21.41c.39.39.9.59 1.41.59.51 0 1.02-.2 1.41-.59l7.78-7.78 2.81-2.81c.8-.78.8-2.07 0-2.86zM5.41 20L4 18.59l7.72-7.72 1.47 1.35L5.41 20z\"/>\n",
              "  </svg>\n",
              "      </button>\n",
              "      \n",
              "  <style>\n",
              "    .colab-df-container {\n",
              "      display:flex;\n",
              "      flex-wrap:wrap;\n",
              "      gap: 12px;\n",
              "    }\n",
              "\n",
              "    .colab-df-convert {\n",
              "      background-color: #E8F0FE;\n",
              "      border: none;\n",
              "      border-radius: 50%;\n",
              "      cursor: pointer;\n",
              "      display: none;\n",
              "      fill: #1967D2;\n",
              "      height: 32px;\n",
              "      padding: 0 0 0 0;\n",
              "      width: 32px;\n",
              "    }\n",
              "\n",
              "    .colab-df-convert:hover {\n",
              "      background-color: #E2EBFA;\n",
              "      box-shadow: 0px 1px 2px rgba(60, 64, 67, 0.3), 0px 1px 3px 1px rgba(60, 64, 67, 0.15);\n",
              "      fill: #174EA6;\n",
              "    }\n",
              "\n",
              "    [theme=dark] .colab-df-convert {\n",
              "      background-color: #3B4455;\n",
              "      fill: #D2E3FC;\n",
              "    }\n",
              "\n",
              "    [theme=dark] .colab-df-convert:hover {\n",
              "      background-color: #434B5C;\n",
              "      box-shadow: 0px 1px 3px 1px rgba(0, 0, 0, 0.15);\n",
              "      filter: drop-shadow(0px 1px 2px rgba(0, 0, 0, 0.3));\n",
              "      fill: #FFFFFF;\n",
              "    }\n",
              "  </style>\n",
              "\n",
              "      <script>\n",
              "        const buttonEl =\n",
              "          document.querySelector('#df-7db3988b-8f1e-479b-ba66-3b232dc8da4d button.colab-df-convert');\n",
              "        buttonEl.style.display =\n",
              "          google.colab.kernel.accessAllowed ? 'block' : 'none';\n",
              "\n",
              "        async function convertToInteractive(key) {\n",
              "          const element = document.querySelector('#df-7db3988b-8f1e-479b-ba66-3b232dc8da4d');\n",
              "          const dataTable =\n",
              "            await google.colab.kernel.invokeFunction('convertToInteractive',\n",
              "                                                     [key], {});\n",
              "          if (!dataTable) return;\n",
              "\n",
              "          const docLinkHtml = 'Like what you see? Visit the ' +\n",
              "            '<a target=\"_blank\" href=https://colab.research.google.com/notebooks/data_table.ipynb>data table notebook</a>'\n",
              "            + ' to learn more about interactive tables.';\n",
              "          element.innerHTML = '';\n",
              "          dataTable['output_type'] = 'display_data';\n",
              "          await google.colab.output.renderOutput(dataTable, element);\n",
              "          const docLink = document.createElement('div');\n",
              "          docLink.innerHTML = docLinkHtml;\n",
              "          element.appendChild(docLink);\n",
              "        }\n",
              "      </script>\n",
              "    </div>\n",
              "  </div>\n",
              "  "
            ]
          },
          "metadata": {},
          "execution_count": 10
        }
      ]
    },
    {
      "cell_type": "markdown",
      "source": [
        "Fortunately, there are only 17 such rows, few enough that I can check the runtimes online and manually enter that information into the dataframe."
      ],
      "metadata": {
        "id": "wAMAhhoRSVv7"
      }
    },
    {
      "cell_type": "code",
      "source": [
        "raw_df.loc[455, 'runtime'] = 30 #Kung Fu Panda Awesome Secrets\n",
        "raw_df.loc[515, 'runtime'] = 45 #Pecados capitales\n",
        "raw_df.loc[2583, 'runtime'] = 14 # Afronta!\n",
        "raw_df.loc[4182, 'runtime'] = 4 #Word Party Songs\n",
        "raw_df.loc[4219, 'runtime'] = 11 #Beyblade Burst Rise\n",
        "raw_df.loc[4333, 'runtime'] = 30 #Dragon Age: Absolution\n",
        "raw_df.loc[4598, 'runtime'] = 43 #Life After Death With Tyler Henry\n",
        "raw_df.loc[4739, 'runtime'] = 51 #Savage Beauty\n",
        "raw_df.loc[4752, 'runtime'] = 46 #As the Crow Flies\n",
        "raw_df.loc[4770, 'runtime'] = 30 #Once Upon a Time ... Happily Never After\n",
        "raw_df.loc[4812, 'runtime'] = 45 #Dated and Related\n",
        "raw_df.loc[5103, 'runtime'] = 56 #Terim\n",
        "raw_df.loc[5671, 'runtime'] = 23 #Sharkdog\n",
        "raw_df.loc[5788, 'runtime'] = 32 #The Most Beautiful Flower\n",
        "raw_df.loc[6051, 'runtime'] = 26 #Make My Day\n",
        "raw_df.loc[6081, 'runtime'] = 100 #Bill Russell: Legend\n",
        "raw_df.loc[6089, 'runtime'] = 47 #Pressure Cooker"
      ],
      "metadata": {
        "id": "0WbFOmLFteWF"
      },
      "execution_count": null,
      "outputs": []
    },
    {
      "cell_type": "markdown",
      "source": [
        "My next task will be to examine the many values of genres. Each one is supposed to be a list but is currently stored as a string so I'll have to do some feature engineering to clean that up. I'll have to do the same with production_countries."
      ],
      "metadata": {
        "id": "zwmyGBz8TIZK"
      }
    },
    {
      "cell_type": "code",
      "source": [
        "raw_df['genres'] = raw_df['genres'].str.strip(\"[]\").str.replace(\"'\", \"\").str.split(\", \")\n",
        "raw_df['production_countries'] = raw_df['production_countries'].str.strip(\"[]\").str.replace(\"'\", \"\").str.split(\", \")"
      ],
      "metadata": {
        "id": "dhojwkIb2BD_"
      },
      "execution_count": null,
      "outputs": []
    },
    {
      "cell_type": "code",
      "source": [
        "genres_list = []\n",
        "\n",
        "for entry in raw_df['genres']:\n",
        "  for item in entry:\n",
        "    if item not in genres_list:\n",
        "      genres_list.append(item)\n",
        "\n",
        "countries_list = []\n",
        "\n",
        "for entry in raw_df['production_countries']:\n",
        "  for item in entry:\n",
        "    if item not in countries_list:\n",
        "      countries_list.append(item)\n",
        "\n",
        "print(f'Genres: {genres_list}')\n",
        "print('-'*380)\n",
        "print(f'Countries: {countries_list}')"
      ],
      "metadata": {
        "colab": {
          "base_uri": "https://localhost:8080/"
        },
        "id": "_UzJci4DH_79",
        "outputId": "952342af-ff9e-497b-8570-8d208f6e7d0c"
      },
      "execution_count": null,
      "outputs": [
        {
          "output_type": "stream",
          "name": "stdout",
          "text": [
            "Genres: ['comedy', 'european', 'animation', 'family', 'fantasy', 'music', 'drama', 'action', 'war', 'crime', 'scifi', 'reality', 'western', 'thriller', 'documentation', 'romance', 'horror', 'sport', 'history', '']\n",
            "--------------------------------------------------------------------------------------------------------------------------------------------------------------------------------------------------------------------------------------------------------------------------------------------------------------------------------------------------------------------------------------------\n",
            "Countries: ['GB', 'US', 'JP', 'CA', 'FR', 'AU', 'AR', 'DK', 'CO', 'IT', 'TW', 'KR', 'CN', 'ES', 'RU', 'IN', 'SG', '', 'NO', 'CL', 'SA', 'ZA', 'IS', 'IL', 'PL', 'TR', 'FI', 'NG', 'NL', 'IE', 'UA', 'BE', 'DE', 'BR', 'MX', 'AT', 'BY', 'NZ', 'TH', 'ID', 'AE', 'SE', 'PR', 'PH', 'PE', 'LU', 'KW', 'SN', 'HK', 'JO', 'LB', 'CZ', 'EG', 'MY', 'KN', 'MA', 'TN', 'PT', 'KE', 'CH', 'VN', 'IO']\n"
          ]
        }
      ]
    },
    {
      "cell_type": "markdown",
      "source": [
        "There are empty string values for production countries and genres, which appear to be missing values. I could replace them with another value as I replaced the missing values for age certification with 'missing' but I'll be replacing these with dummy variables before the modeling stage so each entry with a missing value will just have values of 0 for each dummy. I'll remove the empty strings from the lists now."
      ],
      "metadata": {
        "id": "06KBCDy3Ncvk"
      }
    },
    {
      "cell_type": "code",
      "source": [
        "genres_list.remove('')\n",
        "countries_list.remove('')"
      ],
      "metadata": {
        "id": "dXIBuv8DkRNp"
      },
      "execution_count": null,
      "outputs": []
    },
    {
      "cell_type": "markdown",
      "source": [
        "Now I'll move on to dealing with the outliers. The numeric variables to consider are release_year, runtime, seasons, imdb_score, and imdb_votes."
      ],
      "metadata": {
        "id": "_AApt797lFU1"
      }
    },
    {
      "cell_type": "code",
      "source": [
        "sns.boxplot(data=raw_df, x='release_year', whis=5)\n",
        "plt.show()"
      ],
      "metadata": {
        "colab": {
          "base_uri": "https://localhost:8080/"
        },
        "id": "UkpcV_mTlHf-",
        "outputId": "0ede7471-6229-4b84-b046-5e9dce0226d6"
      },
      "execution_count": null,
      "outputs": [
        {
          "output_type": "display_data",
          "data": {
            "text/plain": [
              "<Figure size 640x480 with 1 Axes>"
            ],
            "image/png": "[encoded data removed]"
          },
          "metadata": {}
        }
      ]
    },
    {
      "cell_type": "code",
      "source": [
        "raw_df['log_release_year'] = np.log(raw_df['release_year'])\n",
        "sns.boxplot(data=raw_df, x='log_release_year', whis=5)\n",
        "plt.show()"
      ],
      "metadata": {
        "colab": {
          "base_uri": "https://localhost:8080/"
        },
        "id": "o2KM_m1M1De5",
        "outputId": "a3ca92cc-9ee2-4f8c-e17f-f8050e406877"
      },
      "execution_count": null,
      "outputs": [
        {
          "output_type": "display_data",
          "data": {
            "text/plain": [
              "<Figure size 640x480 with 1 Axes>"
            ],
            "image/png": "[encoded data removed]"
          },
          "metadata": {}
        }
      ]
    },
    {
      "cell_type": "markdown",
      "source": [
        "Taking the log did nothing to get rid of the outliers for release year. I'll try winsorizing instead."
      ],
      "metadata": {
        "id": "BILRbmeC1NoT"
      }
    },
    {
      "cell_type": "code",
      "source": [
        "raw_df['winsorized_release_year'] = stats.mstats.winsorize(raw_df['release_year'], (.008, 0))\n",
        "sns.boxplot(data=raw_df, x='winsorized_release_year', whis=5)\n",
        "plt.show()"
      ],
      "metadata": {
        "colab": {
          "base_uri": "https://localhost:8080/"
        },
        "id": "dFdkuQFImMnx",
        "outputId": "18be7837-23e6-43da-c8a8-ca5c673e7e98"
      },
      "execution_count": null,
      "outputs": [
        {
          "output_type": "display_data",
          "data": {
            "text/plain": [
              "<Figure size 640x480 with 1 Axes>"
            ],
            "image/png": "[encoded data removed]"
          },
          "metadata": {}
        }
      ]
    },
    {
      "cell_type": "code",
      "source": [
        "sns.boxplot(data=raw_df, x='runtime', whis=5)\n",
        "plt.show()"
      ],
      "metadata": {
        "colab": {
          "base_uri": "https://localhost:8080/"
        },
        "id": "u-BzemP7oHlW",
        "outputId": "9ace5ee1-65e9-4e7d-aa5d-380a8a8da407"
      },
      "execution_count": null,
      "outputs": [
        {
          "output_type": "display_data",
          "data": {
            "text/plain": [
              "<Figure size 640x480 with 1 Axes>"
            ],
            "image/png": "[encoded data removed]"
          },
          "metadata": {}
        }
      ]
    },
    {
      "cell_type": "code",
      "source": [
        "raw_df['log_runtime'] = np.log(raw_df['runtime'])\n",
        "sns.boxplot(data=raw_df, x='log_runtime', whis=5)\n",
        "plt.show()"
      ],
      "metadata": {
        "colab": {
          "base_uri": "https://localhost:8080/"
        },
        "id": "_HVgItw91Uzv",
        "outputId": "eb51593b-0ad0-43d0-c730-be80632c8cd3"
      },
      "execution_count": null,
      "outputs": [
        {
          "output_type": "display_data",
          "data": {
            "text/plain": [
              "<Figure size 640x480 with 1 Axes>"
            ],
            "image/png": "[encoded data removed]"
          },
          "metadata": {}
        }
      ]
    },
    {
      "cell_type": "code",
      "source": [
        "sns.boxplot(data=raw_df, x='seasons', whis=5)\n",
        "plt.show()"
      ],
      "metadata": {
        "colab": {
          "base_uri": "https://localhost:8080/"
        },
        "id": "G7i7jIW31otm",
        "outputId": "cea9e212-c0ce-4c98-d9c4-fc39592da8f3"
      },
      "execution_count": null,
      "outputs": [
        {
          "output_type": "display_data",
          "data": {
            "text/plain": [
              "<Figure size 640x480 with 1 Axes>"
            ],
            "image/png": "[encoded data removed]"
          },
          "metadata": {}
        }
      ]
    },
    {
      "cell_type": "markdown",
      "source": [
        "I would try to take the log of seasons but the abundance of 1 season shows would result in a lot of zeroes after taking the log, which could heavily influence the measures of central tendency. I'll try to winsorize it instead."
      ],
      "metadata": {
        "id": "PHBhAlC289aA"
      }
    },
    {
      "cell_type": "code",
      "source": [
        "raw_df['winsorized_seasons'] = stats.mstats.winsorize(raw_df['seasons'], (0, .03))\n",
        "sns.boxplot(data=raw_df, x='winsorized_seasons', whis=5)\n",
        "plt.show()"
      ],
      "metadata": {
        "colab": {
          "base_uri": "https://localhost:8080/"
        },
        "id": "507mDVr11vKu",
        "outputId": "eae7d102-f620-46eb-ecdd-6bc11ec379cf"
      },
      "execution_count": null,
      "outputs": [
        {
          "output_type": "display_data",
          "data": {
            "text/plain": [
              "<Figure size 640x480 with 1 Axes>"
            ],
            "image/png": "[encoded data removed]"
          },
          "metadata": {}
        }
      ]
    },
    {
      "cell_type": "code",
      "source": [
        "sns.boxplot(data=raw_df, x='imdb_score', whis=5)\n",
        "plt.show()"
      ],
      "metadata": {
        "colab": {
          "base_uri": "https://localhost:8080/"
        },
        "id": "9ZWq9_nD152_",
        "outputId": "b4ab0c89-382e-4538-af4b-ec12e94b5735"
      },
      "execution_count": null,
      "outputs": [
        {
          "output_type": "display_data",
          "data": {
            "text/plain": [
              "<Figure size 640x480 with 1 Axes>"
            ],
            "image/png": "[encoded data removed]"
          },
          "metadata": {}
        }
      ]
    },
    {
      "cell_type": "code",
      "source": [
        "sns.boxplot(data=raw_df, x='imdb_votes', whis=5)\n",
        "plt.show()"
      ],
      "metadata": {
        "colab": {
          "base_uri": "https://localhost:8080/"
        },
        "id": "WwPMojeo1_Yx",
        "outputId": "475de101-6e9f-4408-9574-c54002ddd3f2"
      },
      "execution_count": null,
      "outputs": [
        {
          "output_type": "display_data",
          "data": {
            "text/plain": [
              "<Figure size 640x480 with 1 Axes>"
            ],
            "image/png": "[encoded data removed]"
          },
          "metadata": {}
        }
      ]
    },
    {
      "cell_type": "code",
      "source": [
        "raw_df['log_imdb_votes'] = np.log(raw_df['imdb_votes'])\n",
        "sns.boxplot(data=raw_df, x='log_imdb_votes', whis=5)\n",
        "plt.show()"
      ],
      "metadata": {
        "colab": {
          "base_uri": "https://localhost:8080/"
        },
        "id": "mIxE6v9T2DES",
        "outputId": "0fa4bfe1-fbb5-4247-81f3-a8391e454ec7"
      },
      "execution_count": null,
      "outputs": [
        {
          "output_type": "display_data",
          "data": {
            "text/plain": [
              "<Figure size 640x480 with 1 Axes>"
            ],
            "image/png": "[encoded data removed]"
          },
          "metadata": {}
        }
      ]
    },
    {
      "cell_type": "markdown",
      "source": [
        "Now that I've dealt with the outliers, it's time to move on to the data exploration stage."
      ],
      "metadata": {
        "id": "KzSyqRoo2tUW"
      }
    },
    {
      "cell_type": "markdown",
      "source": [
        "# Data Exploration"
      ],
      "metadata": {
        "id": "oDWMG7n52TFb"
      }
    },
    {
      "cell_type": "markdown",
      "source": [
        "Some of these variables exist for identification purposes only and won't actually be used in the model. The variables that need to be examined more closely are:\n",
        "\n",
        "\n",
        "*   winsorized_release_year\n",
        "*   age_certification\n",
        "*   log_runtime\n",
        "*   genres\n",
        "*   production_countries\n",
        "*   winsorized_seasons\n",
        "*   log_imdb_votes\n",
        "*   imdb_score\n",
        "\n",
        "\n",
        "\n",
        "\n",
        "\n",
        "\n",
        "\n",
        "\n"
      ],
      "metadata": {
        "id": "hGZtQhQH21h7"
      }
    },
    {
      "cell_type": "markdown",
      "source": [
        "I'll create a new dataframe with the cleaned versions of the relevant variables and then examine each one of them."
      ],
      "metadata": {
        "id": "KSgc4yqW4AJ4"
      }
    },
    {
      "cell_type": "code",
      "source": [
        "cleaned_df = raw_df[['winsorized_release_year', 'age_certification', 'log_runtime', 'genres',\n",
        "             'production_countries', 'winsorized_seasons', 'log_imdb_votes', 'imdb_score']]"
      ],
      "metadata": {
        "id": "43CPbjRn4IGG"
      },
      "execution_count": null,
      "outputs": []
    },
    {
      "cell_type": "code",
      "source": [
        "cleaned_df.describe()"
      ],
      "metadata": {
        "colab": {
          "base_uri": "https://localhost:8080/",
          "height": 300
        },
        "id": "bZxXLkIV4tYo",
        "outputId": "ce2916c4-84e4-48ed-90a8-35961720171c"
      },
      "execution_count": null,
      "outputs": [
        {
          "output_type": "execute_result",
          "data": {
            "text/plain": [
              "       winsorized_release_year  log_runtime  winsorized_seasons  \\\n",
              "count              2143.000000  2143.000000         2143.000000   \n",
              "mean               2018.192254     3.567478            1.955203   \n",
              "std                   4.403907     0.515132            1.535101   \n",
              "min                1997.000000     0.693147            1.000000   \n",
              "25%                2017.000000     3.218876            1.000000   \n",
              "50%                2019.000000     3.737670            1.000000   \n",
              "75%                2021.000000     3.912023            2.000000   \n",
              "max                2023.000000     5.342334            7.000000   \n",
              "\n",
              "       log_imdb_votes   imdb_score  \n",
              "count     2143.000000  2143.000000  \n",
              "mean         7.525938     6.992067  \n",
              "std          2.123614     1.050784  \n",
              "min          1.609438     1.900000  \n",
              "25%          6.194403     6.400000  \n",
              "50%          7.514800     7.100000  \n",
              "75%          8.881347     7.700000  \n",
              "max         14.476373     9.600000  "
            ],
            "text/html": [
              "\n",
              "  <div id=\"df-e8ff8b98-64f1-41ce-9d5d-43227ddc27b2\">\n",
              "    <div class=\"colab-df-container\">\n",
              "      <div>\n",
              "<style scoped>\n",
              "    .dataframe tbody tr th:only-of-type {\n",
              "        vertical-align: middle;\n",
              "    }\n",
              "\n",
              "    .dataframe tbody tr th {\n",
              "        vertical-align: top;\n",
              "    }\n",
              "\n",
              "    .dataframe thead th {\n",
              "        text-align: right;\n",
              "    }\n",
              "</style>\n",
              "<table border=\"1\" class=\"dataframe\">\n",
              "  <thead>\n",
              "    <tr style=\"text-align: right;\">\n",
              "      <th></th>\n",
              "      <th>winsorized_release_year</th>\n",
              "      <th>log_runtime</th>\n",
              "      <th>winsorized_seasons</th>\n",
              "      <th>log_imdb_votes</th>\n",
              "      <th>imdb_score</th>\n",
              "    </tr>\n",
              "  </thead>\n",
              "  <tbody>\n",
              "    <tr>\n",
              "      <th>count</th>\n",
              "      <td>2143.000000</td>\n",
              "      <td>2143.000000</td>\n",
              "      <td>2143.000000</td>\n",
              "      <td>2143.000000</td>\n",
              "      <td>2143.000000</td>\n",
              "    </tr>\n",
              "    <tr>\n",
              "      <th>mean</th>\n",
              "      <td>2018.192254</td>\n",
              "      <td>3.567478</td>\n",
              "      <td>1.955203</td>\n",
              "      <td>7.525938</td>\n",
              "      <td>6.992067</td>\n",
              "    </tr>\n",
              "    <tr>\n",
              "      <th>std</th>\n",
              "      <td>4.403907</td>\n",
              "      <td>0.515132</td>\n",
              "      <td>1.535101</td>\n",
              "      <td>2.123614</td>\n",
              "      <td>1.050784</td>\n",
              "    </tr>\n",
              "    <tr>\n",
              "      <th>min</th>\n",
              "      <td>1997.000000</td>\n",
              "      <td>0.693147</td>\n",
              "      <td>1.000000</td>\n",
              "      <td>1.609438</td>\n",
              "      <td>1.900000</td>\n",
              "    </tr>\n",
              "    <tr>\n",
              "      <th>25%</th>\n",
              "      <td>2017.000000</td>\n",
              "      <td>3.218876</td>\n",
              "      <td>1.000000</td>\n",
              "      <td>6.194403</td>\n",
              "      <td>6.400000</td>\n",
              "    </tr>\n",
              "    <tr>\n",
              "      <th>50%</th>\n",
              "      <td>2019.000000</td>\n",
              "      <td>3.737670</td>\n",
              "      <td>1.000000</td>\n",
              "      <td>7.514800</td>\n",
              "      <td>7.100000</td>\n",
              "    </tr>\n",
              "    <tr>\n",
              "      <th>75%</th>\n",
              "      <td>2021.000000</td>\n",
              "      <td>3.912023</td>\n",
              "      <td>2.000000</td>\n",
              "      <td>8.881347</td>\n",
              "      <td>7.700000</td>\n",
              "    </tr>\n",
              "    <tr>\n",
              "      <th>max</th>\n",
              "      <td>2023.000000</td>\n",
              "      <td>5.342334</td>\n",
              "      <td>7.000000</td>\n",
              "      <td>14.476373</td>\n",
              "      <td>9.600000</td>\n",
              "    </tr>\n",
              "  </tbody>\n",
              "</table>\n",
              "</div>\n",
              "      <button class=\"colab-df-convert\" onclick=\"convertToInteractive('df-e8ff8b98-64f1-41ce-9d5d-43227ddc27b2')\"\n",
              "              title=\"Convert this dataframe to an interactive table.\"\n",
              "              style=\"display:none;\">\n",
              "        \n",
              "  <svg xmlns=\"http://www.w3.org/2000/svg\" height=\"24px\"viewBox=\"0 0 24 24\"\n",
              "       width=\"24px\">\n",
              "    <path d=\"M0 0h24v24H0V0z\" fill=\"none\"/>\n",
              "    <path d=\"M18.56 5.44l.94 2.06.94-2.06 2.06-.94-2.06-.94-.94-2.06-.94 2.06-2.06.94zm-11 1L8.5 8.5l.94-2.06 2.06-.94-2.06-.94L8.5 2.5l-.94 2.06-2.06.94zm10 10l.94 2.06.94-2.06 2.06-.94-2.06-.94-.94-2.06-.94 2.06-2.06.94z\"/><path d=\"M17.41 7.96l-1.37-1.37c-.4-.4-.92-.59-1.43-.59-.52 0-1.04.2-1.43.59L10.3 9.45l-7.72 7.72c-.78.78-.78 2.05 0 2.83L4 21.41c.39.39.9.59 1.41.59.51 0 1.02-.2 1.41-.59l7.78-7.78 2.81-2.81c.8-.78.8-2.07 0-2.86zM5.41 20L4 18.59l7.72-7.72 1.47 1.35L5.41 20z\"/>\n",
              "  </svg>\n",
              "      </button>\n",
              "      \n",
              "  <style>\n",
              "    .colab-df-container {\n",
              "      display:flex;\n",
              "      flex-wrap:wrap;\n",
              "      gap: 12px;\n",
              "    }\n",
              "\n",
              "    .colab-df-convert {\n",
              "      background-color: #E8F0FE;\n",
              "      border: none;\n",
              "      border-radius: 50%;\n",
              "      cursor: pointer;\n",
              "      display: none;\n",
              "      fill: #1967D2;\n",
              "      height: 32px;\n",
              "      padding: 0 0 0 0;\n",
              "      width: 32px;\n",
              "    }\n",
              "\n",
              "    .colab-df-convert:hover {\n",
              "      background-color: #E2EBFA;\n",
              "      box-shadow: 0px 1px 2px rgba(60, 64, 67, 0.3), 0px 1px 3px 1px rgba(60, 64, 67, 0.15);\n",
              "      fill: #174EA6;\n",
              "    }\n",
              "\n",
              "    [theme=dark] .colab-df-convert {\n",
              "      background-color: #3B4455;\n",
              "      fill: #D2E3FC;\n",
              "    }\n",
              "\n",
              "    [theme=dark] .colab-df-convert:hover {\n",
              "      background-color: #434B5C;\n",
              "      box-shadow: 0px 1px 3px 1px rgba(0, 0, 0, 0.15);\n",
              "      filter: drop-shadow(0px 1px 2px rgba(0, 0, 0, 0.3));\n",
              "      fill: #FFFFFF;\n",
              "    }\n",
              "  </style>\n",
              "\n",
              "      <script>\n",
              "        const buttonEl =\n",
              "          document.querySelector('#df-e8ff8b98-64f1-41ce-9d5d-43227ddc27b2 button.colab-df-convert');\n",
              "        buttonEl.style.display =\n",
              "          google.colab.kernel.accessAllowed ? 'block' : 'none';\n",
              "\n",
              "        async function convertToInteractive(key) {\n",
              "          const element = document.querySelector('#df-e8ff8b98-64f1-41ce-9d5d-43227ddc27b2');\n",
              "          const dataTable =\n",
              "            await google.colab.kernel.invokeFunction('convertToInteractive',\n",
              "                                                     [key], {});\n",
              "          if (!dataTable) return;\n",
              "\n",
              "          const docLinkHtml = 'Like what you see? Visit the ' +\n",
              "            '<a target=\"_blank\" href=https://colab.research.google.com/notebooks/data_table.ipynb>data table notebook</a>'\n",
              "            + ' to learn more about interactive tables.';\n",
              "          element.innerHTML = '';\n",
              "          dataTable['output_type'] = 'display_data';\n",
              "          await google.colab.output.renderOutput(dataTable, element);\n",
              "          const docLink = document.createElement('div');\n",
              "          docLink.innerHTML = docLinkHtml;\n",
              "          element.appendChild(docLink);\n",
              "        }\n",
              "      </script>\n",
              "    </div>\n",
              "  </div>\n",
              "  "
            ]
          },
          "metadata": {},
          "execution_count": 26
        }
      ]
    },
    {
      "cell_type": "code",
      "source": [
        "cleaned_df.describe(include=['O'])"
      ],
      "metadata": {
        "colab": {
          "base_uri": "https://localhost:8080/",
          "height": 175
        },
        "id": "1Eo8oXfG63zY",
        "outputId": "3c9083ac-3d9a-4b84-a3c3-a0dcf6d8835a"
      },
      "execution_count": null,
      "outputs": [
        {
          "output_type": "execute_result",
          "data": {
            "text/plain": [
              "       age_certification     genres production_countries\n",
              "count               2143       2143                 2143\n",
              "unique                 8        848                  112\n",
              "top                TV-MA  [reality]                 [US]\n",
              "freq                 972        139                  806"
            ],
            "text/html": [
              "\n",
              "  <div id=\"df-cdd6d45a-6be8-4800-a2e9-31f2eea398e7\">\n",
              "    <div class=\"colab-df-container\">\n",
              "      <div>\n",
              "<style scoped>\n",
              "    .dataframe tbody tr th:only-of-type {\n",
              "        vertical-align: middle;\n",
              "    }\n",
              "\n",
              "    .dataframe tbody tr th {\n",
              "        vertical-align: top;\n",
              "    }\n",
              "\n",
              "    .dataframe thead th {\n",
              "        text-align: right;\n",
              "    }\n",
              "</style>\n",
              "<table border=\"1\" class=\"dataframe\">\n",
              "  <thead>\n",
              "    <tr style=\"text-align: right;\">\n",
              "      <th></th>\n",
              "      <th>age_certification</th>\n",
              "      <th>genres</th>\n",
              "      <th>production_countries</th>\n",
              "    </tr>\n",
              "  </thead>\n",
              "  <tbody>\n",
              "    <tr>\n",
              "      <th>count</th>\n",
              "      <td>2143</td>\n",
              "      <td>2143</td>\n",
              "      <td>2143</td>\n",
              "    </tr>\n",
              "    <tr>\n",
              "      <th>unique</th>\n",
              "      <td>8</td>\n",
              "      <td>848</td>\n",
              "      <td>112</td>\n",
              "    </tr>\n",
              "    <tr>\n",
              "      <th>top</th>\n",
              "      <td>TV-MA</td>\n",
              "      <td>[reality]</td>\n",
              "      <td>[US]</td>\n",
              "    </tr>\n",
              "    <tr>\n",
              "      <th>freq</th>\n",
              "      <td>972</td>\n",
              "      <td>139</td>\n",
              "      <td>806</td>\n",
              "    </tr>\n",
              "  </tbody>\n",
              "</table>\n",
              "</div>\n",
              "      <button class=\"colab-df-convert\" onclick=\"convertToInteractive('df-cdd6d45a-6be8-4800-a2e9-31f2eea398e7')\"\n",
              "              title=\"Convert this dataframe to an interactive table.\"\n",
              "              style=\"display:none;\">\n",
              "        \n",
              "  <svg xmlns=\"http://www.w3.org/2000/svg\" height=\"24px\"viewBox=\"0 0 24 24\"\n",
              "       width=\"24px\">\n",
              "    <path d=\"M0 0h24v24H0V0z\" fill=\"none\"/>\n",
              "    <path d=\"M18.56 5.44l.94 2.06.94-2.06 2.06-.94-2.06-.94-.94-2.06-.94 2.06-2.06.94zm-11 1L8.5 8.5l.94-2.06 2.06-.94-2.06-.94L8.5 2.5l-.94 2.06-2.06.94zm10 10l.94 2.06.94-2.06 2.06-.94-2.06-.94-.94-2.06-.94 2.06-2.06.94z\"/><path d=\"M17.41 7.96l-1.37-1.37c-.4-.4-.92-.59-1.43-.59-.52 0-1.04.2-1.43.59L10.3 9.45l-7.72 7.72c-.78.78-.78 2.05 0 2.83L4 21.41c.39.39.9.59 1.41.59.51 0 1.02-.2 1.41-.59l7.78-7.78 2.81-2.81c.8-.78.8-2.07 0-2.86zM5.41 20L4 18.59l7.72-7.72 1.47 1.35L5.41 20z\"/>\n",
              "  </svg>\n",
              "      </button>\n",
              "      \n",
              "  <style>\n",
              "    .colab-df-container {\n",
              "      display:flex;\n",
              "      flex-wrap:wrap;\n",
              "      gap: 12px;\n",
              "    }\n",
              "\n",
              "    .colab-df-convert {\n",
              "      background-color: #E8F0FE;\n",
              "      border: none;\n",
              "      border-radius: 50%;\n",
              "      cursor: pointer;\n",
              "      display: none;\n",
              "      fill: #1967D2;\n",
              "      height: 32px;\n",
              "      padding: 0 0 0 0;\n",
              "      width: 32px;\n",
              "    }\n",
              "\n",
              "    .colab-df-convert:hover {\n",
              "      background-color: #E2EBFA;\n",
              "      box-shadow: 0px 1px 2px rgba(60, 64, 67, 0.3), 0px 1px 3px 1px rgba(60, 64, 67, 0.15);\n",
              "      fill: #174EA6;\n",
              "    }\n",
              "\n",
              "    [theme=dark] .colab-df-convert {\n",
              "      background-color: #3B4455;\n",
              "      fill: #D2E3FC;\n",
              "    }\n",
              "\n",
              "    [theme=dark] .colab-df-convert:hover {\n",
              "      background-color: #434B5C;\n",
              "      box-shadow: 0px 1px 3px 1px rgba(0, 0, 0, 0.15);\n",
              "      filter: drop-shadow(0px 1px 2px rgba(0, 0, 0, 0.3));\n",
              "      fill: #FFFFFF;\n",
              "    }\n",
              "  </style>\n",
              "\n",
              "      <script>\n",
              "        const buttonEl =\n",
              "          document.querySelector('#df-cdd6d45a-6be8-4800-a2e9-31f2eea398e7 button.colab-df-convert');\n",
              "        buttonEl.style.display =\n",
              "          google.colab.kernel.accessAllowed ? 'block' : 'none';\n",
              "\n",
              "        async function convertToInteractive(key) {\n",
              "          const element = document.querySelector('#df-cdd6d45a-6be8-4800-a2e9-31f2eea398e7');\n",
              "          const dataTable =\n",
              "            await google.colab.kernel.invokeFunction('convertToInteractive',\n",
              "                                                     [key], {});\n",
              "          if (!dataTable) return;\n",
              "\n",
              "          const docLinkHtml = 'Like what you see? Visit the ' +\n",
              "            '<a target=\"_blank\" href=https://colab.research.google.com/notebooks/data_table.ipynb>data table notebook</a>'\n",
              "            + ' to learn more about interactive tables.';\n",
              "          element.innerHTML = '';\n",
              "          dataTable['output_type'] = 'display_data';\n",
              "          await google.colab.output.renderOutput(dataTable, element);\n",
              "          const docLink = document.createElement('div');\n",
              "          docLink.innerHTML = docLinkHtml;\n",
              "          element.appendChild(docLink);\n",
              "        }\n",
              "      </script>\n",
              "    </div>\n",
              "  </div>\n",
              "  "
            ]
          },
          "metadata": {},
          "execution_count": 27
        }
      ]
    },
    {
      "cell_type": "markdown",
      "source": [
        "The number of unique genres and production countries listed is actually the number of unique combinations of genres and production countries since each value is a list. Below I'll take the real number of unique genres and production countries."
      ],
      "metadata": {
        "id": "qW1QVdzr7Dzv"
      }
    },
    {
      "cell_type": "code",
      "source": [
        "print(f'Number of unique genres: {len(genres_list)}')\n",
        "print(f'Number of unique production countries: {len(countries_list)}')"
      ],
      "metadata": {
        "colab": {
          "base_uri": "https://localhost:8080/"
        },
        "id": "4JYf-JhN7XG-",
        "outputId": "19ca348b-9849-47b3-da7c-c0c5c35f98d5"
      },
      "execution_count": null,
      "outputs": [
        {
          "output_type": "stream",
          "name": "stdout",
          "text": [
            "Number of unique genres: 19\n",
            "Number of unique production countries: 61\n"
          ]
        }
      ]
    },
    {
      "cell_type": "code",
      "source": [
        "plt.figure(figsize=(10,20))\n",
        "\n",
        "plt.subplot(5, 1, 1)\n",
        "plt.hist(cleaned_df['winsorized_release_year'])\n",
        "plt.title('Winsorized release year')\n",
        "\n",
        "plt.subplot(5, 1, 2)\n",
        "plt.hist(cleaned_df['log_runtime'])\n",
        "plt.title('Log runtime')\n",
        "\n",
        "plt.subplot(5, 1, 3)\n",
        "plt.hist(cleaned_df['winsorized_seasons'])\n",
        "plt.title('Winsorized seasons')\n",
        "\n",
        "plt.subplot(5, 1, 4)\n",
        "plt.hist(cleaned_df['log_imdb_votes'])\n",
        "plt.title('Log IMDB votes')\n",
        "\n",
        "plt.subplot(5, 1, 5)\n",
        "plt.hist(cleaned_df['imdb_score'])\n",
        "plt.title('IMDB score')\n",
        "\n",
        "plt.show()"
      ],
      "metadata": {
        "colab": {
          "base_uri": "https://localhost:8080/",
          "height": 1000
        },
        "id": "PSzrkdVz7rs8",
        "outputId": "94bc9e70-2f30-4b05-e62b-36b00943e0ce"
      },
      "execution_count": null,
      "outputs": [
        {
          "output_type": "display_data",
          "data": {
            "text/plain": [
              "<Figure size 720x1440 with 5 Axes>"
            ],
            "image/png": "[encoded data removed]"
          },
          "metadata": {
            "needs_background": "light"
          }
        }
      ]
    },
    {
      "cell_type": "markdown",
      "source": [
        "log_imdb_votes is almost certainly normal.\n",
        "imdb_score and log_runtime are fairly close to normal.\n",
        "winsorized_seasons looks decidedly non-normal and winsorized_release_year looks left-skewed."
      ],
      "metadata": {
        "id": "zN5Lnzhd8mb-"
      }
    },
    {
      "cell_type": "code",
      "source": [
        "cleaned_df.corr()"
      ],
      "metadata": {
        "colab": {
          "base_uri": "https://localhost:8080/",
          "height": 206
        },
        "id": "N_SSAsOBAQxz",
        "outputId": "fcca5b8a-f03e-4a02-b2cc-b08263bf8cbd"
      },
      "execution_count": null,
      "outputs": [
        {
          "output_type": "execute_result",
          "data": {
            "text/plain": [
              "                         winsorized_release_year  log_runtime  \\\n",
              "winsorized_release_year                 1.000000     0.174859   \n",
              "log_runtime                             0.174859     1.000000   \n",
              "winsorized_seasons                     -0.573829    -0.218794   \n",
              "log_imdb_votes                         -0.147181     0.234803   \n",
              "imdb_score                             -0.192856     0.170264   \n",
              "\n",
              "                         winsorized_seasons  log_imdb_votes  imdb_score  \n",
              "winsorized_release_year           -0.573829       -0.147181   -0.192856  \n",
              "log_runtime                       -0.218794        0.234803    0.170264  \n",
              "winsorized_seasons                 1.000000        0.287168    0.141162  \n",
              "log_imdb_votes                     0.287168        1.000000    0.322402  \n",
              "imdb_score                         0.141162        0.322402    1.000000  "
            ],
            "text/html": [
              "\n",
              "  <div id=\"df-058d48f3-c5d6-4d5f-955e-4a6b6f5b46dd\">\n",
              "    <div class=\"colab-df-container\">\n",
              "      <div>\n",
              "<style scoped>\n",
              "    .dataframe tbody tr th:only-of-type {\n",
              "        vertical-align: middle;\n",
              "    }\n",
              "\n",
              "    .dataframe tbody tr th {\n",
              "        vertical-align: top;\n",
              "    }\n",
              "\n",
              "    .dataframe thead th {\n",
              "        text-align: right;\n",
              "    }\n",
              "</style>\n",
              "<table border=\"1\" class=\"dataframe\">\n",
              "  <thead>\n",
              "    <tr style=\"text-align: right;\">\n",
              "      <th></th>\n",
              "      <th>winsorized_release_year</th>\n",
              "      <th>log_runtime</th>\n",
              "      <th>winsorized_seasons</th>\n",
              "      <th>log_imdb_votes</th>\n",
              "      <th>imdb_score</th>\n",
              "    </tr>\n",
              "  </thead>\n",
              "  <tbody>\n",
              "    <tr>\n",
              "      <th>winsorized_release_year</th>\n",
              "      <td>1.000000</td>\n",
              "      <td>0.174859</td>\n",
              "      <td>-0.573829</td>\n",
              "      <td>-0.147181</td>\n",
              "      <td>-0.192856</td>\n",
              "    </tr>\n",
              "    <tr>\n",
              "      <th>log_runtime</th>\n",
              "      <td>0.174859</td>\n",
              "      <td>1.000000</td>\n",
              "      <td>-0.218794</td>\n",
              "      <td>0.234803</td>\n",
              "      <td>0.170264</td>\n",
              "    </tr>\n",
              "    <tr>\n",
              "      <th>winsorized_seasons</th>\n",
              "      <td>-0.573829</td>\n",
              "      <td>-0.218794</td>\n",
              "      <td>1.000000</td>\n",
              "      <td>0.287168</td>\n",
              "      <td>0.141162</td>\n",
              "    </tr>\n",
              "    <tr>\n",
              "      <th>log_imdb_votes</th>\n",
              "      <td>-0.147181</td>\n",
              "      <td>0.234803</td>\n",
              "      <td>0.287168</td>\n",
              "      <td>1.000000</td>\n",
              "      <td>0.322402</td>\n",
              "    </tr>\n",
              "    <tr>\n",
              "      <th>imdb_score</th>\n",
              "      <td>-0.192856</td>\n",
              "      <td>0.170264</td>\n",
              "      <td>0.141162</td>\n",
              "      <td>0.322402</td>\n",
              "      <td>1.000000</td>\n",
              "    </tr>\n",
              "  </tbody>\n",
              "</table>\n",
              "</div>\n",
              "      <button class=\"colab-df-convert\" onclick=\"convertToInteractive('df-058d48f3-c5d6-4d5f-955e-4a6b6f5b46dd')\"\n",
              "              title=\"Convert this dataframe to an interactive table.\"\n",
              "              style=\"display:none;\">\n",
              "        \n",
              "  <svg xmlns=\"http://www.w3.org/2000/svg\" height=\"24px\"viewBox=\"0 0 24 24\"\n",
              "       width=\"24px\">\n",
              "    <path d=\"M0 0h24v24H0V0z\" fill=\"none\"/>\n",
              "    <path d=\"M18.56 5.44l.94 2.06.94-2.06 2.06-.94-2.06-.94-.94-2.06-.94 2.06-2.06.94zm-11 1L8.5 8.5l.94-2.06 2.06-.94-2.06-.94L8.5 2.5l-.94 2.06-2.06.94zm10 10l.94 2.06.94-2.06 2.06-.94-2.06-.94-.94-2.06-.94 2.06-2.06.94z\"/><path d=\"M17.41 7.96l-1.37-1.37c-.4-.4-.92-.59-1.43-.59-.52 0-1.04.2-1.43.59L10.3 9.45l-7.72 7.72c-.78.78-.78 2.05 0 2.83L4 21.41c.39.39.9.59 1.41.59.51 0 1.02-.2 1.41-.59l7.78-7.78 2.81-2.81c.8-.78.8-2.07 0-2.86zM5.41 20L4 18.59l7.72-7.72 1.47 1.35L5.41 20z\"/>\n",
              "  </svg>\n",
              "      </button>\n",
              "      \n",
              "  <style>\n",
              "    .colab-df-container {\n",
              "      display:flex;\n",
              "      flex-wrap:wrap;\n",
              "      gap: 12px;\n",
              "    }\n",
              "\n",
              "    .colab-df-convert {\n",
              "      background-color: #E8F0FE;\n",
              "      border: none;\n",
              "      border-radius: 50%;\n",
              "      cursor: pointer;\n",
              "      display: none;\n",
              "      fill: #1967D2;\n",
              "      height: 32px;\n",
              "      padding: 0 0 0 0;\n",
              "      width: 32px;\n",
              "    }\n",
              "\n",
              "    .colab-df-convert:hover {\n",
              "      background-color: #E2EBFA;\n",
              "      box-shadow: 0px 1px 2px rgba(60, 64, 67, 0.3), 0px 1px 3px 1px rgba(60, 64, 67, 0.15);\n",
              "      fill: #174EA6;\n",
              "    }\n",
              "\n",
              "    [theme=dark] .colab-df-convert {\n",
              "      background-color: #3B4455;\n",
              "      fill: #D2E3FC;\n",
              "    }\n",
              "\n",
              "    [theme=dark] .colab-df-convert:hover {\n",
              "      background-color: #434B5C;\n",
              "      box-shadow: 0px 1px 3px 1px rgba(0, 0, 0, 0.15);\n",
              "      filter: drop-shadow(0px 1px 2px rgba(0, 0, 0, 0.3));\n",
              "      fill: #FFFFFF;\n",
              "    }\n",
              "  </style>\n",
              "\n",
              "      <script>\n",
              "        const buttonEl =\n",
              "          document.querySelector('#df-058d48f3-c5d6-4d5f-955e-4a6b6f5b46dd button.colab-df-convert');\n",
              "        buttonEl.style.display =\n",
              "          google.colab.kernel.accessAllowed ? 'block' : 'none';\n",
              "\n",
              "        async function convertToInteractive(key) {\n",
              "          const element = document.querySelector('#df-058d48f3-c5d6-4d5f-955e-4a6b6f5b46dd');\n",
              "          const dataTable =\n",
              "            await google.colab.kernel.invokeFunction('convertToInteractive',\n",
              "                                                     [key], {});\n",
              "          if (!dataTable) return;\n",
              "\n",
              "          const docLinkHtml = 'Like what you see? Visit the ' +\n",
              "            '<a target=\"_blank\" href=https://colab.research.google.com/notebooks/data_table.ipynb>data table notebook</a>'\n",
              "            + ' to learn more about interactive tables.';\n",
              "          element.innerHTML = '';\n",
              "          dataTable['output_type'] = 'display_data';\n",
              "          await google.colab.output.renderOutput(dataTable, element);\n",
              "          const docLink = document.createElement('div');\n",
              "          docLink.innerHTML = docLinkHtml;\n",
              "          element.appendChild(docLink);\n",
              "        }\n",
              "      </script>\n",
              "    </div>\n",
              "  </div>\n",
              "  "
            ]
          },
          "metadata": {},
          "execution_count": 32
        }
      ]
    },
    {
      "cell_type": "markdown",
      "source": [
        "There aren't any truly strong correlations between variables. The strongest is between winsorized_release_year and winsorized_seasons with a moderate correlation of about -0.57. This makes sense, given that shows that have been released recently are often still ongoing and won't have released all their seasons yet. Now I'll take a look at the categorical data."
      ],
      "metadata": {
        "id": "4dlcufY5AhTr"
      }
    },
    {
      "cell_type": "code",
      "source": [
        "cleaned_df.groupby('age_certification').mean()['imdb_score']"
      ],
      "metadata": {
        "colab": {
          "base_uri": "https://localhost:8080/"
        },
        "id": "VETcDHwDA9V8",
        "outputId": "424610fd-c90a-4ae5-ba22-e5044029a5c5"
      },
      "execution_count": null,
      "outputs": [
        {
          "output_type": "execute_result",
          "data": {
            "text/plain": [
              "age_certification\n",
              "TV-14       7.184749\n",
              "TV-G        6.523171\n",
              "TV-MA       6.993827\n",
              "TV-PG       7.020833\n",
              "TV-Y        6.681633\n",
              "TV-Y7       6.865546\n",
              "TV-Y7-FV    7.114286\n",
              "missing     6.933178\n",
              "Name: imdb_score, dtype: float64"
            ]
          },
          "metadata": {},
          "execution_count": 33
        }
      ]
    },
    {
      "cell_type": "markdown",
      "source": [
        "In order to do something similar with genres and production_countries, I'll have to approach it a little differently, since the variables as they are currently stored are lists and therefore incompatible with the format I used for age_certification above."
      ],
      "metadata": {
        "id": "VQll00z5Blb9"
      }
    },
    {
      "cell_type": "code",
      "source": [
        "for genre in genres_list:\n",
        "  count = 0\n",
        "  score = 0\n",
        "  for index, row in cleaned_df.iterrows():\n",
        "    if genre in row['genres']:\n",
        "      count+=1\n",
        "      score+=row['imdb_score']\n",
        "  print(f'Mean IMDB score for {genre}: {round(score/count, 2)}')"
      ],
      "metadata": {
        "colab": {
          "base_uri": "https://localhost:8080/"
        },
        "id": "M9ApOTytUpT2",
        "outputId": "0093b913-5225-44a9-bc96-b69620076a9a"
      },
      "execution_count": null,
      "outputs": [
        {
          "output_type": "stream",
          "name": "stdout",
          "text": [
            "Mean IMDB score for comedy: 7.04\n",
            "Mean IMDB score for european: 7.38\n",
            "Mean IMDB score for animation: 6.97\n",
            "Mean IMDB score for family: 6.76\n",
            "Mean IMDB score for fantasy: 7.06\n",
            "Mean IMDB score for music: 6.8\n",
            "Mean IMDB score for drama: 7.17\n",
            "Mean IMDB score for action: 7.02\n",
            "Mean IMDB score for war: 7.54\n",
            "Mean IMDB score for crime: 7.17\n",
            "Mean IMDB score for scifi: 6.95\n",
            "Mean IMDB score for reality: 6.4\n",
            "Mean IMDB score for western: 7.28\n",
            "Mean IMDB score for thriller: 7.07\n",
            "Mean IMDB score for documentation: 7.12\n",
            "Mean IMDB score for romance: 7.19\n",
            "Mean IMDB score for horror: 6.87\n",
            "Mean IMDB score for sport: 7.16\n",
            "Mean IMDB score for history: 7.47\n"
          ]
        }
      ]
    },
    {
      "cell_type": "code",
      "source": [
        "for country in countries_list:\n",
        "  count = 0\n",
        "  score = 0\n",
        "  for index, row in cleaned_df.iterrows():\n",
        "    if country in row['production_countries']:\n",
        "      count+=1\n",
        "      score+=row['imdb_score']\n",
        "  print(f'Mean IMDB score for {country}: {round(score/count, 2)}')"
      ],
      "metadata": {
        "colab": {
          "base_uri": "https://localhost:8080/"
        },
        "id": "Gq_CvgT8ZdyF",
        "outputId": "541e45f0-0e72-4742-8bbb-240b4d1a8c8a"
      },
      "execution_count": null,
      "outputs": [
        {
          "output_type": "stream",
          "name": "stdout",
          "text": [
            "Mean IMDB score for GB: 7.13\n",
            "Mean IMDB score for US: 6.9\n",
            "Mean IMDB score for JP: 7.27\n",
            "Mean IMDB score for CA: 6.89\n",
            "Mean IMDB score for FR: 6.81\n",
            "Mean IMDB score for AU: 7.07\n",
            "Mean IMDB score for AR: 6.86\n",
            "Mean IMDB score for DK: 7.19\n",
            "Mean IMDB score for CO: 7.13\n",
            "Mean IMDB score for IT: 6.89\n",
            "Mean IMDB score for TW: 6.82\n",
            "Mean IMDB score for KR: 7.54\n",
            "Mean IMDB score for CN: 7.53\n",
            "Mean IMDB score for ES: 6.59\n",
            "Mean IMDB score for RU: 6.81\n",
            "Mean IMDB score for IN: 6.86\n",
            "Mean IMDB score for SG: 6.65\n",
            "Mean IMDB score for NO: 7.17\n",
            "Mean IMDB score for CL: 7.5\n",
            "Mean IMDB score for SA: 6.8\n",
            "Mean IMDB score for ZA: 5.94\n",
            "Mean IMDB score for IS: 6.53\n",
            "Mean IMDB score for IL: 7.51\n",
            "Mean IMDB score for PL: 6.45\n",
            "Mean IMDB score for TR: 7.01\n",
            "Mean IMDB score for FI: 6.7\n",
            "Mean IMDB score for NG: 6.42\n",
            "Mean IMDB score for NL: 6.57\n",
            "Mean IMDB score for IE: 7.3\n",
            "Mean IMDB score for UA: 7.3\n",
            "Mean IMDB score for BE: 6.92\n",
            "Mean IMDB score for DE: 7.04\n",
            "Mean IMDB score for BR: 6.63\n",
            "Mean IMDB score for MX: 6.79\n",
            "Mean IMDB score for AT: 7.05\n",
            "Mean IMDB score for BY: 6.1\n",
            "Mean IMDB score for NZ: 7.0\n",
            "Mean IMDB score for TH: 6.92\n",
            "Mean IMDB score for ID: 7.7\n",
            "Mean IMDB score for AE: 5.5\n",
            "Mean IMDB score for SE: 7.05\n",
            "Mean IMDB score for PR: 7.7\n",
            "Mean IMDB score for PH: 6.85\n",
            "Mean IMDB score for PE: 6.97\n",
            "Mean IMDB score for LU: 5.9\n",
            "Mean IMDB score for KW: 6.38\n",
            "Mean IMDB score for SN: 6.7\n",
            "Mean IMDB score for HK: 6.3\n",
            "Mean IMDB score for JO: 5.4\n",
            "Mean IMDB score for LB: 7.18\n",
            "Mean IMDB score for CZ: 6.8\n",
            "Mean IMDB score for EG: 6.6\n",
            "Mean IMDB score for MY: 6.3\n",
            "Mean IMDB score for KN: 5.5\n",
            "Mean IMDB score for MA: 5.6\n",
            "Mean IMDB score for TN: 5.6\n",
            "Mean IMDB score for PT: 7.65\n",
            "Mean IMDB score for KE: 5.5\n",
            "Mean IMDB score for CH: 7.0\n",
            "Mean IMDB score for VN: 6.4\n",
            "Mean IMDB score for IO: 6.5\n"
          ]
        }
      ]
    },
    {
      "cell_type": "markdown",
      "source": [
        "# Feature engineering"
      ],
      "metadata": {
        "id": "ErY4fbE3acI1"
      }
    },
    {
      "cell_type": "markdown",
      "source": [
        "Now that I've examined the variables and their relationships with each other, I'm ready to move on to the feature engineering stage. I did a little of this already in the data cleaning phase when I changed the datatype of the entries for genres and production_countries from str to list so I could better examine the data. Now I'll have to create dummy variables for those two variables and age_certification. For genres and production_countries, I'll do something a little different. Since there are entries with multiple genres and multiple production countries, I'll create dummy variables for each individual genre and each individual country rather than the list of genres or countries. So a given entry can have values of 1 for multiple dummy variables."
      ],
      "metadata": {
        "id": "XVIdMAZtagy7"
      }
    },
    {
      "cell_type": "markdown",
      "source": [
        "I'll start by creating a new name for the final version of the dataframe and add the dummy variables to that."
      ],
      "metadata": {
        "id": "h4Nc8viec3CY"
      }
    },
    {
      "cell_type": "code",
      "source": [
        "df = cleaned_df.copy()"
      ],
      "metadata": {
        "id": "7umHcZH8cnOC"
      },
      "execution_count": null,
      "outputs": []
    },
    {
      "cell_type": "code",
      "source": [
        "df = pd.concat([df, pd.get_dummies(cleaned_df['age_certification'])], axis=1)"
      ],
      "metadata": {
        "id": "05VJ4dnWc9aA"
      },
      "execution_count": null,
      "outputs": []
    },
    {
      "cell_type": "code",
      "source": [
        "for genre in genres_list:\n",
        "  for index, row in df.iterrows():\n",
        "    df.loc[index, genre] = int(genre in row['genres'])"
      ],
      "metadata": {
        "id": "nqSfVCucdMnK"
      },
      "execution_count": null,
      "outputs": []
    },
    {
      "cell_type": "code",
      "source": [
        "for country in countries_list:\n",
        "  for index, row in df.iterrows():\n",
        "    df.loc[index, country] = int(country in row['production_countries'])"
      ],
      "metadata": {
        "id": "6-3lBI7WoAlx"
      },
      "execution_count": null,
      "outputs": []
    },
    {
      "cell_type": "code",
      "source": [
        "df.drop(['genres', 'production_countries', 'age_certification'], inplace=True, axis=1)"
      ],
      "metadata": {
        "id": "Zn-EzXuNowzz"
      },
      "execution_count": null,
      "outputs": []
    },
    {
      "cell_type": "markdown",
      "source": [
        "# Modeling"
      ],
      "metadata": {
        "id": "gUcRhjl-pk89"
      }
    },
    {
      "cell_type": "markdown",
      "source": [
        "Now that I have a cleaned dataframe complete with dummy variables, I'm ready to move on to the modeling phase. I'll try a few basic models and compare their performances and then I'll focus on hyperparameter tuning. In the absence of any truly strong correlations between the features and target variable, I'm reluctant to lose variance by omitting features. I'll start by including all of them and if the model takes too long to train, I'll remove irrelevant features."
      ],
      "metadata": {
        "id": "e2uxFg81pmdl"
      }
    },
    {
      "cell_type": "markdown",
      "source": [
        "I'll try SVM, random forest, and boosting."
      ],
      "metadata": {
        "id": "bCILJ4AAnXBR"
      }
    },
    {
      "cell_type": "code",
      "source": [
        "X = df.drop('imdb_score', axis=1)\n",
        "Y = df['imdb_score']\n",
        "\n",
        "X_train, X_test, Y_train, Y_test = train_test_split(X, Y, test_size=.3)"
      ],
      "metadata": {
        "id": "TEFNVSannUA9"
      },
      "execution_count": null,
      "outputs": []
    },
    {
      "cell_type": "code",
      "source": [
        "basic_svm = SVR()\n",
        "basic_svm.fit(X_train, Y_train)\n",
        "\n",
        "print(f'R2 score on training data: {basic_svm.score(X_train, Y_train)}')\n",
        "print(f'R2 score on test data: {basic_svm.score(X_test, Y_test)}')"
      ],
      "metadata": {
        "colab": {
          "base_uri": "https://localhost:8080/"
        },
        "id": "MlsLtz5boQ8F",
        "outputId": "b9c36350-60fd-45de-8e5e-e70de49fe3d1"
      },
      "execution_count": null,
      "outputs": [
        {
          "output_type": "stream",
          "name": "stdout",
          "text": [
            "R2 score on training data: -0.010354760042277533\n",
            "R2 score on test data: -0.006802919592280521\n"
          ]
        }
      ]
    },
    {
      "cell_type": "code",
      "source": [
        "basic_rf = RandomForestRegressor()\n",
        "basic_rf.fit(X_train, Y_train)\n",
        "\n",
        "print(f'R2 score on training data: {basic_rf.score(X_train, Y_train)}')\n",
        "print(f'R2 score on test data: {basic_rf.score(X_test, Y_test)}')"
      ],
      "metadata": {
        "colab": {
          "base_uri": "https://localhost:8080/"
        },
        "id": "cNgoHcMRpcjo",
        "outputId": "92bc3a3e-d29a-4448-d48d-f270bed48b92"
      },
      "execution_count": null,
      "outputs": [
        {
          "output_type": "stream",
          "name": "stdout",
          "text": [
            "R2 score on training data: 0.900821604369402\n",
            "R2 score on test data: 0.27810129376414716\n"
          ]
        }
      ]
    },
    {
      "cell_type": "code",
      "source": [
        "basic_gbr = GradientBoostingRegressor()\n",
        "basic_gbr.fit(X_train, Y_train)\n",
        "\n",
        "print(f'R2 score on training data: {basic_gbr.score(X_train, Y_train)}')\n",
        "print(f'R2 score on test data: {basic_gbr.score(X_test, Y_test)}')"
      ],
      "metadata": {
        "colab": {
          "base_uri": "https://localhost:8080/"
        },
        "id": "Mh796-siqn1Q",
        "outputId": "e8628e7d-5c55-43b3-ff0d-5ac50181c404"
      },
      "execution_count": null,
      "outputs": [
        {
          "output_type": "stream",
          "name": "stdout",
          "text": [
            "R2 score on training data: 0.514138720089582\n",
            "R2 score on test data: 0.27613449627988573\n"
          ]
        }
      ]
    },
    {
      "cell_type": "markdown",
      "source": [
        "# Random forest"
      ],
      "metadata": {
        "id": "Bq-LieuGAwMD"
      }
    },
    {
      "cell_type": "markdown",
      "source": [
        "The SVM performs terribly on both the testing and training data. The random forest and boosting regressors are much better, though neither generalizes well. With some tuning to address the overfitting, they might be reasonably reliable. The random forest had more promising initial results so I'll start by examining its hyperparameters."
      ],
      "metadata": {
        "id": "qrh4hs_NrH2g"
      }
    },
    {
      "cell_type": "code",
      "source": [
        "print('Current random forest hyperparameters in use:\\n')\n",
        "pprint(basic_rf.get_params())"
      ],
      "metadata": {
        "colab": {
          "base_uri": "https://localhost:8080/"
        },
        "id": "Khlpy0C9reQ9",
        "outputId": "3e92ab8d-6fdb-44cc-b31c-9cb2b35f0006"
      },
      "execution_count": null,
      "outputs": [
        {
          "output_type": "stream",
          "name": "stdout",
          "text": [
            "Current random forest hyperparameters in use:\n",
            "\n",
            "{'bootstrap': True,\n",
            " 'ccp_alpha': 0.0,\n",
            " 'criterion': 'squared_error',\n",
            " 'max_depth': None,\n",
            " 'max_features': 1.0,\n",
            " 'max_leaf_nodes': None,\n",
            " 'max_samples': None,\n",
            " 'min_impurity_decrease': 0.0,\n",
            " 'min_samples_leaf': 1,\n",
            " 'min_samples_split': 2,\n",
            " 'min_weight_fraction_leaf': 0.0,\n",
            " 'n_estimators': 100,\n",
            " 'n_jobs': None,\n",
            " 'oob_score': False,\n",
            " 'random_state': None,\n",
            " 'verbose': 0,\n",
            " 'warm_start': False}\n"
          ]
        }
      ]
    },
    {
      "cell_type": "markdown",
      "source": [
        "I'll try random search cross-validation to narrow down the choices for my hyperparameters."
      ],
      "metadata": {
        "id": "xv08scZ9w5y_"
      }
    },
    {
      "cell_type": "code",
      "source": [
        "n_estimators = [int(x) for x in np.linspace(start=200, stop=1000, num=50)]\n",
        "max_features = ['auto', 'sqrt']\n",
        "max_depth = [int(x) for x in np.linspace(start=10, stop=110, num=30)]\n",
        "max_depth.append(None)\n",
        "min_samples_split = [2, 5, 10]\n",
        "min_samples_leaf = [1, 2, 3, 4]\n",
        "bootstrap = [True, False]\n",
        "\n",
        "random_grid = {'n_estimators': n_estimators,\n",
        "               'max_features': max_features,\n",
        "               'max_depth': max_depth,\n",
        "               'min_samples_split': min_samples_split,\n",
        "               'min_samples_leaf': min_samples_leaf,\n",
        "               'bootstrap': bootstrap}"
      ],
      "metadata": {
        "id": "GGrubaFIxMzN"
      },
      "execution_count": null,
      "outputs": []
    },
    {
      "cell_type": "code",
      "source": [
        "rf = RandomForestRegressor()\n",
        "\n",
        "rf_random = RandomizedSearchCV(estimator = rf, param_distributions = random_grid,\n",
        "                               n_iter = 100, verbose=2, n_jobs = -1, cv=3)\n",
        "\n",
        "rf_random.fit(X_train, Y_train)"
      ],
      "metadata": {
        "colab": {
          "base_uri": "https://localhost:8080/",
          "height": 135
        },
        "id": "RaD-4_YQz1BI",
        "outputId": "e9afd2f4-9d17-4852-9030-0b911922487a"
      },
      "execution_count": null,
      "outputs": [
        {
          "output_type": "stream",
          "name": "stdout",
          "text": [
            "Fitting 3 folds for each of 100 candidates, totalling 300 fits\n"
          ]
        },
        {
          "output_type": "execute_result",
          "data": {
            "text/plain": [
              "RandomizedSearchCV(cv=3, estimator=RandomForestRegressor(), n_iter=100,\n",
              "                   n_jobs=-1,\n",
              "                   param_distributions={'bootstrap': [True, False],\n",
              "                                        'max_depth': [10, 13, 16, 20, 23, 27,\n",
              "                                                      30, 34, 37, 41, 44, 47,\n",
              "                                                      51, 54, 58, 61, 65, 68,\n",
              "                                                      72, 75, 78, 82, 85, 89,\n",
              "                                                      92, 96, 99, 103, 106, 110, ...],\n",
              "                                        'max_features': ['auto', 'sqrt'],\n",
              "                                        'min_samples_leaf': [1, 2, 3, 4],\n",
              "                                        'min_samples_split': [2, 5, 10],\n",
              "                                        'n_estimators': [200, 216, 232, 248,\n",
              "                                                         265, 281, 297, 314,\n",
              "                                                         330, 346, 363, 379,\n",
              "                                                         395, 412, 428, 444,\n",
              "                                                         461, 477, 493, 510,\n",
              "                                                         526, 542, 559, 575,\n",
              "                                                         591, 608, 624, 640,\n",
              "                                                         657, 673, ...]},\n",
              "                   verbose=2)"
            ],
            "text/html": [
              "<style>#sk-container-id-1 {color: black;background-color: white;}#sk-container-id-1 pre{padding: 0;}#sk-container-id-1 div.sk-toggleable {background-color: white;}#sk-container-id-1 label.sk-toggleable__label {cursor: pointer;display: block;width: 100%;margin-bottom: 0;padding: 0.3em;box-sizing: border-box;text-align: center;}#sk-container-id-1 label.sk-toggleable__label-arrow:before {content: \"▸\";float: left;margin-right: 0.25em;color: #696969;}#sk-container-id-1 label.sk-toggleable__label-arrow:hover:before {color: black;}#sk-container-id-1 div.sk-estimator:hover label.sk-toggleable__label-arrow:before {color: black;}#sk-container-id-1 div.sk-toggleable__content {max-height: 0;max-width: 0;overflow: hidden;text-align: left;background-color: #f0f8ff;}#sk-container-id-1 div.sk-toggleable__content pre {margin: 0.2em;color: black;border-radius: 0.25em;background-color: #f0f8ff;}#sk-container-id-1 input.sk-toggleable__control:checked~div.sk-toggleable__content {max-height: 200px;max-width: 100%;overflow: auto;}#sk-container-id-1 input.sk-toggleable__control:checked~label.sk-toggleable__label-arrow:before {content: \"▾\";}#sk-container-id-1 div.sk-estimator input.sk-toggleable__control:checked~label.sk-toggleable__label {background-color: #d4ebff;}#sk-container-id-1 div.sk-label input.sk-toggleable__control:checked~label.sk-toggleable__label {background-color: #d4ebff;}#sk-container-id-1 input.sk-hidden--visually {border: 0;clip: rect(1px 1px 1px 1px);clip: rect(1px, 1px, 1px, 1px);height: 1px;margin: -1px;overflow: hidden;padding: 0;position: absolute;width: 1px;}#sk-container-id-1 div.sk-estimator {font-family: monospace;background-color: #f0f8ff;border: 1px dotted black;border-radius: 0.25em;box-sizing: border-box;margin-bottom: 0.5em;}#sk-container-id-1 div.sk-estimator:hover {background-color: #d4ebff;}#sk-container-id-1 div.sk-parallel-item::after {content: \"\";width: 100%;border-bottom: 1px solid gray;flex-grow: 1;}#sk-container-id-1 div.sk-label:hover label.sk-toggleable__label {background-color: #d4ebff;}#sk-container-id-1 div.sk-serial::before {content: \"\";position: absolute;border-left: 1px solid gray;box-sizing: border-box;top: 0;bottom: 0;left: 50%;z-index: 0;}#sk-container-id-1 div.sk-serial {display: flex;flex-direction: column;align-items: center;background-color: white;padding-right: 0.2em;padding-left: 0.2em;position: relative;}#sk-container-id-1 div.sk-item {position: relative;z-index: 1;}#sk-container-id-1 div.sk-parallel {display: flex;align-items: stretch;justify-content: center;background-color: white;position: relative;}#sk-container-id-1 div.sk-item::before, #sk-container-id-1 div.sk-parallel-item::before {content: \"\";position: absolute;border-left: 1px solid gray;box-sizing: border-box;top: 0;bottom: 0;left: 50%;z-index: -1;}#sk-container-id-1 div.sk-parallel-item {display: flex;flex-direction: column;z-index: 1;position: relative;background-color: white;}#sk-container-id-1 div.sk-parallel-item:first-child::after {align-self: flex-end;width: 50%;}#sk-container-id-1 div.sk-parallel-item:last-child::after {align-self: flex-start;width: 50%;}#sk-container-id-1 div.sk-parallel-item:only-child::after {width: 0;}#sk-container-id-1 div.sk-dashed-wrapped {border: 1px dashed gray;margin: 0 0.4em 0.5em 0.4em;box-sizing: border-box;padding-bottom: 0.4em;background-color: white;}#sk-container-id-1 div.sk-label label {font-family: monospace;font-weight: bold;display: inline-block;line-height: 1.2em;}#sk-container-id-1 div.sk-label-container {text-align: center;}#sk-container-id-1 div.sk-container {/* jupyter's `normalize.less` sets `[hidden] { display: none; }` but bootstrap.min.css set `[hidden] { display: none !important; }` so we also need the `!important` here to be able to override the default hidden behavior on the sphinx rendered scikit-learn.org. See: https://github.com/scikit-learn/scikit-learn/issues/21755 */display: inline-block !important;position: relative;}#sk-container-id-1 div.sk-text-repr-fallback {display: none;}</style><div id=\"sk-container-id-1\" class=\"sk-top-container\"><div class=\"sk-text-repr-fallback\"><pre>RandomizedSearchCV(cv=3, estimator=RandomForestRegressor(), n_iter=100,\n",
              "                   n_jobs=-1,\n",
              "                   param_distributions={&#x27;bootstrap&#x27;: [True, False],\n",
              "                                        &#x27;max_depth&#x27;: [10, 13, 16, 20, 23, 27,\n",
              "                                                      30, 34, 37, 41, 44, 47,\n",
              "                                                      51, 54, 58, 61, 65, 68,\n",
              "                                                      72, 75, 78, 82, 85, 89,\n",
              "                                                      92, 96, 99, 103, 106, 110, ...],\n",
              "                                        &#x27;max_features&#x27;: [&#x27;auto&#x27;, &#x27;sqrt&#x27;],\n",
              "                                        &#x27;min_samples_leaf&#x27;: [1, 2, 3, 4],\n",
              "                                        &#x27;min_samples_split&#x27;: [2, 5, 10],\n",
              "                                        &#x27;n_estimators&#x27;: [200, 216, 232, 248,\n",
              "                                                         265, 281, 297, 314,\n",
              "                                                         330, 346, 363, 379,\n",
              "                                                         395, 412, 428, 444,\n",
              "                                                         461, 477, 493, 510,\n",
              "                                                         526, 542, 559, 575,\n",
              "                                                         591, 608, 624, 640,\n",
              "                                                         657, 673, ...]},\n",
              "                   verbose=2)</pre><b>In a Jupyter environment, please rerun this cell to show the HTML representation or trust the notebook. <br />On GitHub, the HTML representation is unable to render, please try loading this page with nbviewer.org.</b></div><div class=\"sk-container\" hidden><div class=\"sk-item sk-dashed-wrapped\"><div class=\"sk-label-container\"><div class=\"sk-label sk-toggleable\"><input class=\"sk-toggleable__control sk-hidden--visually\" id=\"sk-estimator-id-1\" type=\"checkbox\" ><label for=\"sk-estimator-id-1\" class=\"sk-toggleable__label sk-toggleable__label-arrow\">RandomizedSearchCV</label><div class=\"sk-toggleable__content\"><pre>RandomizedSearchCV(cv=3, estimator=RandomForestRegressor(), n_iter=100,\n",
              "                   n_jobs=-1,\n",
              "                   param_distributions={&#x27;bootstrap&#x27;: [True, False],\n",
              "                                        &#x27;max_depth&#x27;: [10, 13, 16, 20, 23, 27,\n",
              "                                                      30, 34, 37, 41, 44, 47,\n",
              "                                                      51, 54, 58, 61, 65, 68,\n",
              "                                                      72, 75, 78, 82, 85, 89,\n",
              "                                                      92, 96, 99, 103, 106, 110, ...],\n",
              "                                        &#x27;max_features&#x27;: [&#x27;auto&#x27;, &#x27;sqrt&#x27;],\n",
              "                                        &#x27;min_samples_leaf&#x27;: [1, 2, 3, 4],\n",
              "                                        &#x27;min_samples_split&#x27;: [2, 5, 10],\n",
              "                                        &#x27;n_estimators&#x27;: [200, 216, 232, 248,\n",
              "                                                         265, 281, 297, 314,\n",
              "                                                         330, 346, 363, 379,\n",
              "                                                         395, 412, 428, 444,\n",
              "                                                         461, 477, 493, 510,\n",
              "                                                         526, 542, 559, 575,\n",
              "                                                         591, 608, 624, 640,\n",
              "                                                         657, 673, ...]},\n",
              "                   verbose=2)</pre></div></div></div><div class=\"sk-parallel\"><div class=\"sk-parallel-item\"><div class=\"sk-item\"><div class=\"sk-label-container\"><div class=\"sk-label sk-toggleable\"><input class=\"sk-toggleable__control sk-hidden--visually\" id=\"sk-estimator-id-2\" type=\"checkbox\" ><label for=\"sk-estimator-id-2\" class=\"sk-toggleable__label sk-toggleable__label-arrow\">estimator: RandomForestRegressor</label><div class=\"sk-toggleable__content\"><pre>RandomForestRegressor()</pre></div></div></div><div class=\"sk-serial\"><div class=\"sk-item\"><div class=\"sk-estimator sk-toggleable\"><input class=\"sk-toggleable__control sk-hidden--visually\" id=\"sk-estimator-id-3\" type=\"checkbox\" ><label for=\"sk-estimator-id-3\" class=\"sk-toggleable__label sk-toggleable__label-arrow\">RandomForestRegressor</label><div class=\"sk-toggleable__content\"><pre>RandomForestRegressor()</pre></div></div></div></div></div></div></div></div></div></div>"
            ]
          },
          "metadata": {},
          "execution_count": 51
        }
      ]
    },
    {
      "cell_type": "code",
      "source": [
        "rf_random.best_params_"
      ],
      "metadata": {
        "colab": {
          "base_uri": "https://localhost:8080/"
        },
        "id": "LAwH4rAV1eDm",
        "outputId": "de1b1792-4de1-4c12-f9aa-b19a23cf787e"
      },
      "execution_count": null,
      "outputs": [
        {
          "output_type": "execute_result",
          "data": {
            "text/plain": [
              "{'n_estimators': 1000,\n",
              " 'min_samples_split': 5,\n",
              " 'min_samples_leaf': 1,\n",
              " 'max_features': 'sqrt',\n",
              " 'max_depth': 58,\n",
              " 'bootstrap': True}"
            ]
          },
          "metadata": {},
          "execution_count": 52
        }
      ]
    },
    {
      "cell_type": "markdown",
      "source": [
        "Now I'll do grid search cross-validation to evaluate models with hyperparameters in the vicinity of the best parameters listed above."
      ],
      "metadata": {
        "id": "tfWqu_BuK1ip"
      }
    },
    {
      "cell_type": "code",
      "source": [
        "param_grid = {'n_estimators': [900, 1000, 1100],\n",
        "              'min_samples_split':[4, 5, 6],\n",
        "              'min_samples_leaf': [1, 2, 3],\n",
        "              'max_features': ['sqrt'],\n",
        "              'max_depth': [50, 60, 70],\n",
        "              'bootstrap': [True]}\n",
        "\n",
        "rf = RandomForestRegressor()\n",
        "grid_search = GridSearchCV(estimator=rf, param_grid=param_grid, n_jobs=-1, verbose=2, cv=3)\n",
        "grid_search.fit(X_train, Y_train)"
      ],
      "metadata": {
        "colab": {
          "base_uri": "https://localhost:8080/",
          "height": 135
        },
        "id": "ArxhF_5cK1Uz",
        "outputId": "fabc6fae-4919-47ea-8ba0-0a477b5b23f1"
      },
      "execution_count": null,
      "outputs": [
        {
          "output_type": "stream",
          "name": "stdout",
          "text": [
            "Fitting 3 folds for each of 81 candidates, totalling 243 fits\n"
          ]
        },
        {
          "output_type": "execute_result",
          "data": {
            "text/plain": [
              "GridSearchCV(cv=3, estimator=RandomForestRegressor(), n_jobs=-1,\n",
              "             param_grid={'bootstrap': [True], 'max_depth': [50, 60, 70],\n",
              "                         'max_features': ['sqrt'],\n",
              "                         'min_samples_leaf': [1, 2, 3],\n",
              "                         'min_samples_split': [4, 5, 6],\n",
              "                         'n_estimators': [900, 1000, 1100]},\n",
              "             verbose=2)"
            ],
            "text/html": [
              "<style>#sk-container-id-2 {color: black;background-color: white;}#sk-container-id-2 pre{padding: 0;}#sk-container-id-2 div.sk-toggleable {background-color: white;}#sk-container-id-2 label.sk-toggleable__label {cursor: pointer;display: block;width: 100%;margin-bottom: 0;padding: 0.3em;box-sizing: border-box;text-align: center;}#sk-container-id-2 label.sk-toggleable__label-arrow:before {content: \"▸\";float: left;margin-right: 0.25em;color: #696969;}#sk-container-id-2 label.sk-toggleable__label-arrow:hover:before {color: black;}#sk-container-id-2 div.sk-estimator:hover label.sk-toggleable__label-arrow:before {color: black;}#sk-container-id-2 div.sk-toggleable__content {max-height: 0;max-width: 0;overflow: hidden;text-align: left;background-color: #f0f8ff;}#sk-container-id-2 div.sk-toggleable__content pre {margin: 0.2em;color: black;border-radius: 0.25em;background-color: #f0f8ff;}#sk-container-id-2 input.sk-toggleable__control:checked~div.sk-toggleable__content {max-height: 200px;max-width: 100%;overflow: auto;}#sk-container-id-2 input.sk-toggleable__control:checked~label.sk-toggleable__label-arrow:before {content: \"▾\";}#sk-container-id-2 div.sk-estimator input.sk-toggleable__control:checked~label.sk-toggleable__label {background-color: #d4ebff;}#sk-container-id-2 div.sk-label input.sk-toggleable__control:checked~label.sk-toggleable__label {background-color: #d4ebff;}#sk-container-id-2 input.sk-hidden--visually {border: 0;clip: rect(1px 1px 1px 1px);clip: rect(1px, 1px, 1px, 1px);height: 1px;margin: -1px;overflow: hidden;padding: 0;position: absolute;width: 1px;}#sk-container-id-2 div.sk-estimator {font-family: monospace;background-color: #f0f8ff;border: 1px dotted black;border-radius: 0.25em;box-sizing: border-box;margin-bottom: 0.5em;}#sk-container-id-2 div.sk-estimator:hover {background-color: #d4ebff;}#sk-container-id-2 div.sk-parallel-item::after {content: \"\";width: 100%;border-bottom: 1px solid gray;flex-grow: 1;}#sk-container-id-2 div.sk-label:hover label.sk-toggleable__label {background-color: #d4ebff;}#sk-container-id-2 div.sk-serial::before {content: \"\";position: absolute;border-left: 1px solid gray;box-sizing: border-box;top: 0;bottom: 0;left: 50%;z-index: 0;}#sk-container-id-2 div.sk-serial {display: flex;flex-direction: column;align-items: center;background-color: white;padding-right: 0.2em;padding-left: 0.2em;position: relative;}#sk-container-id-2 div.sk-item {position: relative;z-index: 1;}#sk-container-id-2 div.sk-parallel {display: flex;align-items: stretch;justify-content: center;background-color: white;position: relative;}#sk-container-id-2 div.sk-item::before, #sk-container-id-2 div.sk-parallel-item::before {content: \"\";position: absolute;border-left: 1px solid gray;box-sizing: border-box;top: 0;bottom: 0;left: 50%;z-index: -1;}#sk-container-id-2 div.sk-parallel-item {display: flex;flex-direction: column;z-index: 1;position: relative;background-color: white;}#sk-container-id-2 div.sk-parallel-item:first-child::after {align-self: flex-end;width: 50%;}#sk-container-id-2 div.sk-parallel-item:last-child::after {align-self: flex-start;width: 50%;}#sk-container-id-2 div.sk-parallel-item:only-child::after {width: 0;}#sk-container-id-2 div.sk-dashed-wrapped {border: 1px dashed gray;margin: 0 0.4em 0.5em 0.4em;box-sizing: border-box;padding-bottom: 0.4em;background-color: white;}#sk-container-id-2 div.sk-label label {font-family: monospace;font-weight: bold;display: inline-block;line-height: 1.2em;}#sk-container-id-2 div.sk-label-container {text-align: center;}#sk-container-id-2 div.sk-container {/* jupyter's `normalize.less` sets `[hidden] { display: none; }` but bootstrap.min.css set `[hidden] { display: none !important; }` so we also need the `!important` here to be able to override the default hidden behavior on the sphinx rendered scikit-learn.org. See: https://github.com/scikit-learn/scikit-learn/issues/21755 */display: inline-block !important;position: relative;}#sk-container-id-2 div.sk-text-repr-fallback {display: none;}</style><div id=\"sk-container-id-2\" class=\"sk-top-container\"><div class=\"sk-text-repr-fallback\"><pre>GridSearchCV(cv=3, estimator=RandomForestRegressor(), n_jobs=-1,\n",
              "             param_grid={&#x27;bootstrap&#x27;: [True], &#x27;max_depth&#x27;: [50, 60, 70],\n",
              "                         &#x27;max_features&#x27;: [&#x27;sqrt&#x27;],\n",
              "                         &#x27;min_samples_leaf&#x27;: [1, 2, 3],\n",
              "                         &#x27;min_samples_split&#x27;: [4, 5, 6],\n",
              "                         &#x27;n_estimators&#x27;: [900, 1000, 1100]},\n",
              "             verbose=2)</pre><b>In a Jupyter environment, please rerun this cell to show the HTML representation or trust the notebook. <br />On GitHub, the HTML representation is unable to render, please try loading this page with nbviewer.org.</b></div><div class=\"sk-container\" hidden><div class=\"sk-item sk-dashed-wrapped\"><div class=\"sk-label-container\"><div class=\"sk-label sk-toggleable\"><input class=\"sk-toggleable__control sk-hidden--visually\" id=\"sk-estimator-id-4\" type=\"checkbox\" ><label for=\"sk-estimator-id-4\" class=\"sk-toggleable__label sk-toggleable__label-arrow\">GridSearchCV</label><div class=\"sk-toggleable__content\"><pre>GridSearchCV(cv=3, estimator=RandomForestRegressor(), n_jobs=-1,\n",
              "             param_grid={&#x27;bootstrap&#x27;: [True], &#x27;max_depth&#x27;: [50, 60, 70],\n",
              "                         &#x27;max_features&#x27;: [&#x27;sqrt&#x27;],\n",
              "                         &#x27;min_samples_leaf&#x27;: [1, 2, 3],\n",
              "                         &#x27;min_samples_split&#x27;: [4, 5, 6],\n",
              "                         &#x27;n_estimators&#x27;: [900, 1000, 1100]},\n",
              "             verbose=2)</pre></div></div></div><div class=\"sk-parallel\"><div class=\"sk-parallel-item\"><div class=\"sk-item\"><div class=\"sk-label-container\"><div class=\"sk-label sk-toggleable\"><input class=\"sk-toggleable__control sk-hidden--visually\" id=\"sk-estimator-id-5\" type=\"checkbox\" ><label for=\"sk-estimator-id-5\" class=\"sk-toggleable__label sk-toggleable__label-arrow\">estimator: RandomForestRegressor</label><div class=\"sk-toggleable__content\"><pre>RandomForestRegressor()</pre></div></div></div><div class=\"sk-serial\"><div class=\"sk-item\"><div class=\"sk-estimator sk-toggleable\"><input class=\"sk-toggleable__control sk-hidden--visually\" id=\"sk-estimator-id-6\" type=\"checkbox\" ><label for=\"sk-estimator-id-6\" class=\"sk-toggleable__label sk-toggleable__label-arrow\">RandomForestRegressor</label><div class=\"sk-toggleable__content\"><pre>RandomForestRegressor()</pre></div></div></div></div></div></div></div></div></div></div>"
            ]
          },
          "metadata": {},
          "execution_count": 53
        }
      ]
    },
    {
      "cell_type": "code",
      "source": [
        "grid_search.best_params_"
      ],
      "metadata": {
        "colab": {
          "base_uri": "https://localhost:8080/"
        },
        "id": "jSkDnmmAPpPC",
        "outputId": "abc09c71-129e-4eee-d772-e1c98aef6976"
      },
      "execution_count": null,
      "outputs": [
        {
          "output_type": "execute_result",
          "data": {
            "text/plain": [
              "{'bootstrap': True,\n",
              " 'max_depth': 70,\n",
              " 'max_features': 'sqrt',\n",
              " 'min_samples_leaf': 1,\n",
              " 'min_samples_split': 4,\n",
              " 'n_estimators': 900}"
            ]
          },
          "metadata": {},
          "execution_count": 54
        }
      ]
    },
    {
      "cell_type": "code",
      "source": [
        "rf = RandomForestRegressor(n_estimators=900, min_samples_split=4, min_samples_leaf=1,\n",
        "                           max_features='sqrt', max_depth=70, bootstrap=True)\n",
        "\n",
        "rf.fit(X_train, Y_train)\n",
        "print(f'Score on training data: {rf.score(X_train, Y_train)}')\n",
        "print(f'Score on test data: {rf.score(X_test, Y_test)}')"
      ],
      "metadata": {
        "colab": {
          "base_uri": "https://localhost:8080/"
        },
        "id": "EvgLhOAIPzvJ",
        "outputId": "b0205f04-a337-41b6-8ac6-3b903ed91547"
      },
      "execution_count": null,
      "outputs": [
        {
          "output_type": "stream",
          "name": "stdout",
          "text": [
            "Score on training data: 0.7954852197376047\n",
            "Score on test data: 0.3023579795008735\n"
          ]
        }
      ]
    },
    {
      "cell_type": "markdown",
      "source": [
        "# Gradient boosting"
      ],
      "metadata": {
        "id": "KCmOhm-pA8kC"
      }
    },
    {
      "cell_type": "markdown",
      "source": [
        "The random forest's performance on the test data has improved but not by much and it's still badly overfitting. I'll try to improve the gradient boosting regressor instead."
      ],
      "metadata": {
        "id": "uqXdJWhcBNZ5"
      }
    },
    {
      "cell_type": "markdown",
      "source": [
        "First I'll get a sense for the best value for n_estimators to save time in the cross validation process later."
      ],
      "metadata": {
        "id": "wLk7499iv37c"
      }
    },
    {
      "cell_type": "code",
      "source": [
        "for i in [30, 60, 100, 150, 200, 250, 300, 350]:\n",
        "  gbr = GradientBoostingRegressor(n_estimators=i)\n",
        "  gbr.fit(X_train,Y_train)\n",
        "\n",
        "  print(f'n_estimators: {i}')\n",
        "  print(f'R2 score on training data: {gbr.score(X_train, Y_train)}')\n",
        "  print(f'R2 score on test data: {gbr.score(X_test, Y_test)}')\n",
        "  print('-'*50)"
      ],
      "metadata": {
        "colab": {
          "base_uri": "https://localhost:8080/"
        },
        "id": "FdO5UsGWBAOR",
        "outputId": "555d5618-fe40-412a-aabd-e91e7c6003b7"
      },
      "execution_count": null,
      "outputs": [
        {
          "output_type": "stream",
          "name": "stdout",
          "text": [
            "n_estimators: 30\n",
            "R2 score on training data: 0.35887088131930533\n",
            "R2 score on test data: 0.26769486922153585\n",
            "--------------------------------------------------\n",
            "n_estimators: 60\n",
            "R2 score on training data: 0.4465859912083199\n",
            "R2 score on test data: 0.27582248366519013\n",
            "--------------------------------------------------\n",
            "n_estimators: 100\n",
            "R2 score on training data: 0.514138720089582\n",
            "R2 score on test data: 0.2797231926933623\n",
            "--------------------------------------------------\n",
            "n_estimators: 150\n",
            "R2 score on training data: 0.5666056673076828\n",
            "R2 score on test data: 0.27490655247637574\n",
            "--------------------------------------------------\n",
            "n_estimators: 200\n",
            "R2 score on training data: 0.6011429257806071\n",
            "R2 score on test data: 0.27542588395047896\n",
            "--------------------------------------------------\n",
            "n_estimators: 250\n",
            "R2 score on training data: 0.6396105295739818\n",
            "R2 score on test data: 0.2618029579743534\n",
            "--------------------------------------------------\n",
            "n_estimators: 300\n",
            "R2 score on training data: 0.6674435938344\n",
            "R2 score on test data: 0.2643945169249249\n",
            "--------------------------------------------------\n",
            "n_estimators: 350\n",
            "R2 score on training data: 0.6924310786206436\n",
            "R2 score on test data: 0.257034848728829\n",
            "--------------------------------------------------\n"
          ]
        }
      ]
    },
    {
      "cell_type": "code",
      "source": [
        "for i in [80, 90, 100, 110, 120]:\n",
        "  gbr = GradientBoostingRegressor(n_estimators=i)\n",
        "  gbr.fit(X_train,Y_train)\n",
        "\n",
        "  print(f'n_estimators: {i}')\n",
        "  print(f'R2 score on training data: {gbr.score(X_train, Y_train)}')\n",
        "  print(f'R2 score on test data: {gbr.score(X_test, Y_test)}')\n",
        "  print('-'*50)"
      ],
      "metadata": {
        "colab": {
          "base_uri": "https://localhost:8080/"
        },
        "id": "3mT4KWqrCBDq",
        "outputId": "7e99fbff-598e-4564-fa27-c6201dbd4515"
      },
      "execution_count": null,
      "outputs": [
        {
          "output_type": "stream",
          "name": "stdout",
          "text": [
            "n_estimators: 80\n",
            "R2 score on training data: 0.4893547006843044\n",
            "R2 score on test data: 0.28286056207381494\n",
            "--------------------------------------------------\n",
            "n_estimators: 90\n",
            "R2 score on training data: 0.5000071499873524\n",
            "R2 score on test data: 0.27815342242100816\n",
            "--------------------------------------------------\n",
            "n_estimators: 100\n",
            "R2 score on training data: 0.514138720089582\n",
            "R2 score on test data: 0.28139190181483775\n",
            "--------------------------------------------------\n",
            "n_estimators: 110\n",
            "R2 score on training data: 0.5254477622289508\n",
            "R2 score on test data: 0.28055939798728413\n",
            "--------------------------------------------------\n",
            "n_estimators: 120\n",
            "R2 score on training data: 0.5366176619341119\n",
            "R2 score on test data: 0.27228592881950575\n",
            "--------------------------------------------------\n"
          ]
        }
      ]
    },
    {
      "cell_type": "markdown",
      "source": [
        "It looks like a value of about 80 is best for n_estimators. Now for the random search."
      ],
      "metadata": {
        "id": "iKEFkNgtwJnW"
      }
    },
    {
      "cell_type": "code",
      "source": [
        "n_estimators = [70, 80, 90]\n",
        "max_features = ['auto', 'sqrt', .3, .6]\n",
        "max_depth = [int(x) for x in np.linspace(start=5, stop=100, num=20)]\n",
        "max_depth.append(None)\n",
        "min_samples_split = [2, 5, 10]\n",
        "min_samples_leaf = [1, 2, 3]\n",
        "warm_start = [True, False]\n",
        "\n",
        "random_grid = {'n_estimators': n_estimators,\n",
        "               'max_features': max_features,\n",
        "               'max_depth': max_depth,\n",
        "               'min_samples_split': min_samples_split,\n",
        "               'min_samples_leaf': min_samples_leaf,\n",
        "               'warm_start': warm_start}"
      ],
      "metadata": {
        "id": "-7C4MaGQv2m1"
      },
      "execution_count": null,
      "outputs": []
    },
    {
      "cell_type": "code",
      "source": [
        "gbr = GradientBoostingRegressor()\n",
        "\n",
        "gbr_random = RandomizedSearchCV(estimator = gbr, param_distributions = random_grid,\n",
        "                               n_iter = 100, verbose=3, n_jobs = -1, cv=3)\n",
        "\n",
        "gbr_random.fit(X_train, Y_train)"
      ],
      "metadata": {
        "colab": {
          "base_uri": "https://localhost:8080/",
          "height": 135
        },
        "id": "lXj2YLxSw8Cx",
        "outputId": "d89655f2-7fd1-4469-87e3-7f516f686afa"
      },
      "execution_count": null,
      "outputs": [
        {
          "output_type": "stream",
          "name": "stdout",
          "text": [
            "Fitting 3 folds for each of 100 candidates, totalling 300 fits\n"
          ]
        },
        {
          "output_type": "execute_result",
          "data": {
            "text/plain": [
              "RandomizedSearchCV(cv=3, estimator=GradientBoostingRegressor(), n_iter=100,\n",
              "                   n_jobs=-1,\n",
              "                   param_distributions={'max_depth': [5, 10, 15, 20, 25, 30, 35,\n",
              "                                                      40, 45, 50, 55, 60, 65,\n",
              "                                                      70, 75, 80, 85, 90, 95,\n",
              "                                                      100, None],\n",
              "                                        'max_features': ['auto', 'sqrt', 0.3,\n",
              "                                                         0.6],\n",
              "                                        'min_samples_leaf': [1, 2, 3],\n",
              "                                        'min_samples_split': [2, 5, 10],\n",
              "                                        'n_estimators': [70, 80, 90],\n",
              "                                        'warm_start': [True, False]},\n",
              "                   verbose=3)"
            ],
            "text/html": [
              "<style>#sk-container-id-3 {color: black;background-color: white;}#sk-container-id-3 pre{padding: 0;}#sk-container-id-3 div.sk-toggleable {background-color: white;}#sk-container-id-3 label.sk-toggleable__label {cursor: pointer;display: block;width: 100%;margin-bottom: 0;padding: 0.3em;box-sizing: border-box;text-align: center;}#sk-container-id-3 label.sk-toggleable__label-arrow:before {content: \"▸\";float: left;margin-right: 0.25em;color: #696969;}#sk-container-id-3 label.sk-toggleable__label-arrow:hover:before {color: black;}#sk-container-id-3 div.sk-estimator:hover label.sk-toggleable__label-arrow:before {color: black;}#sk-container-id-3 div.sk-toggleable__content {max-height: 0;max-width: 0;overflow: hidden;text-align: left;background-color: #f0f8ff;}#sk-container-id-3 div.sk-toggleable__content pre {margin: 0.2em;color: black;border-radius: 0.25em;background-color: #f0f8ff;}#sk-container-id-3 input.sk-toggleable__control:checked~div.sk-toggleable__content {max-height: 200px;max-width: 100%;overflow: auto;}#sk-container-id-3 input.sk-toggleable__control:checked~label.sk-toggleable__label-arrow:before {content: \"▾\";}#sk-container-id-3 div.sk-estimator input.sk-toggleable__control:checked~label.sk-toggleable__label {background-color: #d4ebff;}#sk-container-id-3 div.sk-label input.sk-toggleable__control:checked~label.sk-toggleable__label {background-color: #d4ebff;}#sk-container-id-3 input.sk-hidden--visually {border: 0;clip: rect(1px 1px 1px 1px);clip: rect(1px, 1px, 1px, 1px);height: 1px;margin: -1px;overflow: hidden;padding: 0;position: absolute;width: 1px;}#sk-container-id-3 div.sk-estimator {font-family: monospace;background-color: #f0f8ff;border: 1px dotted black;border-radius: 0.25em;box-sizing: border-box;margin-bottom: 0.5em;}#sk-container-id-3 div.sk-estimator:hover {background-color: #d4ebff;}#sk-container-id-3 div.sk-parallel-item::after {content: \"\";width: 100%;border-bottom: 1px solid gray;flex-grow: 1;}#sk-container-id-3 div.sk-label:hover label.sk-toggleable__label {background-color: #d4ebff;}#sk-container-id-3 div.sk-serial::before {content: \"\";position: absolute;border-left: 1px solid gray;box-sizing: border-box;top: 0;bottom: 0;left: 50%;z-index: 0;}#sk-container-id-3 div.sk-serial {display: flex;flex-direction: column;align-items: center;background-color: white;padding-right: 0.2em;padding-left: 0.2em;position: relative;}#sk-container-id-3 div.sk-item {position: relative;z-index: 1;}#sk-container-id-3 div.sk-parallel {display: flex;align-items: stretch;justify-content: center;background-color: white;position: relative;}#sk-container-id-3 div.sk-item::before, #sk-container-id-3 div.sk-parallel-item::before {content: \"\";position: absolute;border-left: 1px solid gray;box-sizing: border-box;top: 0;bottom: 0;left: 50%;z-index: -1;}#sk-container-id-3 div.sk-parallel-item {display: flex;flex-direction: column;z-index: 1;position: relative;background-color: white;}#sk-container-id-3 div.sk-parallel-item:first-child::after {align-self: flex-end;width: 50%;}#sk-container-id-3 div.sk-parallel-item:last-child::after {align-self: flex-start;width: 50%;}#sk-container-id-3 div.sk-parallel-item:only-child::after {width: 0;}#sk-container-id-3 div.sk-dashed-wrapped {border: 1px dashed gray;margin: 0 0.4em 0.5em 0.4em;box-sizing: border-box;padding-bottom: 0.4em;background-color: white;}#sk-container-id-3 div.sk-label label {font-family: monospace;font-weight: bold;display: inline-block;line-height: 1.2em;}#sk-container-id-3 div.sk-label-container {text-align: center;}#sk-container-id-3 div.sk-container {/* jupyter's `normalize.less` sets `[hidden] { display: none; }` but bootstrap.min.css set `[hidden] { display: none !important; }` so we also need the `!important` here to be able to override the default hidden behavior on the sphinx rendered scikit-learn.org. See: https://github.com/scikit-learn/scikit-learn/issues/21755 */display: inline-block !important;position: relative;}#sk-container-id-3 div.sk-text-repr-fallback {display: none;}</style><div id=\"sk-container-id-3\" class=\"sk-top-container\"><div class=\"sk-text-repr-fallback\"><pre>RandomizedSearchCV(cv=3, estimator=GradientBoostingRegressor(), n_iter=100,\n",
              "                   n_jobs=-1,\n",
              "                   param_distributions={&#x27;max_depth&#x27;: [5, 10, 15, 20, 25, 30, 35,\n",
              "                                                      40, 45, 50, 55, 60, 65,\n",
              "                                                      70, 75, 80, 85, 90, 95,\n",
              "                                                      100, None],\n",
              "                                        &#x27;max_features&#x27;: [&#x27;auto&#x27;, &#x27;sqrt&#x27;, 0.3,\n",
              "                                                         0.6],\n",
              "                                        &#x27;min_samples_leaf&#x27;: [1, 2, 3],\n",
              "                                        &#x27;min_samples_split&#x27;: [2, 5, 10],\n",
              "                                        &#x27;n_estimators&#x27;: [70, 80, 90],\n",
              "                                        &#x27;warm_start&#x27;: [True, False]},\n",
              "                   verbose=3)</pre><b>In a Jupyter environment, please rerun this cell to show the HTML representation or trust the notebook. <br />On GitHub, the HTML representation is unable to render, please try loading this page with nbviewer.org.</b></div><div class=\"sk-container\" hidden><div class=\"sk-item sk-dashed-wrapped\"><div class=\"sk-label-container\"><div class=\"sk-label sk-toggleable\"><input class=\"sk-toggleable__control sk-hidden--visually\" id=\"sk-estimator-id-7\" type=\"checkbox\" ><label for=\"sk-estimator-id-7\" class=\"sk-toggleable__label sk-toggleable__label-arrow\">RandomizedSearchCV</label><div class=\"sk-toggleable__content\"><pre>RandomizedSearchCV(cv=3, estimator=GradientBoostingRegressor(), n_iter=100,\n",
              "                   n_jobs=-1,\n",
              "                   param_distributions={&#x27;max_depth&#x27;: [5, 10, 15, 20, 25, 30, 35,\n",
              "                                                      40, 45, 50, 55, 60, 65,\n",
              "                                                      70, 75, 80, 85, 90, 95,\n",
              "                                                      100, None],\n",
              "                                        &#x27;max_features&#x27;: [&#x27;auto&#x27;, &#x27;sqrt&#x27;, 0.3,\n",
              "                                                         0.6],\n",
              "                                        &#x27;min_samples_leaf&#x27;: [1, 2, 3],\n",
              "                                        &#x27;min_samples_split&#x27;: [2, 5, 10],\n",
              "                                        &#x27;n_estimators&#x27;: [70, 80, 90],\n",
              "                                        &#x27;warm_start&#x27;: [True, False]},\n",
              "                   verbose=3)</pre></div></div></div><div class=\"sk-parallel\"><div class=\"sk-parallel-item\"><div class=\"sk-item\"><div class=\"sk-label-container\"><div class=\"sk-label sk-toggleable\"><input class=\"sk-toggleable__control sk-hidden--visually\" id=\"sk-estimator-id-8\" type=\"checkbox\" ><label for=\"sk-estimator-id-8\" class=\"sk-toggleable__label sk-toggleable__label-arrow\">estimator: GradientBoostingRegressor</label><div class=\"sk-toggleable__content\"><pre>GradientBoostingRegressor()</pre></div></div></div><div class=\"sk-serial\"><div class=\"sk-item\"><div class=\"sk-estimator sk-toggleable\"><input class=\"sk-toggleable__control sk-hidden--visually\" id=\"sk-estimator-id-9\" type=\"checkbox\" ><label for=\"sk-estimator-id-9\" class=\"sk-toggleable__label sk-toggleable__label-arrow\">GradientBoostingRegressor</label><div class=\"sk-toggleable__content\"><pre>GradientBoostingRegressor()</pre></div></div></div></div></div></div></div></div></div></div>"
            ]
          },
          "metadata": {},
          "execution_count": 68
        }
      ]
    },
    {
      "cell_type": "code",
      "source": [
        "gbr_random.best_params_"
      ],
      "metadata": {
        "colab": {
          "base_uri": "https://localhost:8080/"
        },
        "id": "cJfEgZKHxxTk",
        "outputId": "5064c54f-1f09-43af-8aef-50980c10743e"
      },
      "execution_count": null,
      "outputs": [
        {
          "output_type": "execute_result",
          "data": {
            "text/plain": [
              "{'warm_start': True,\n",
              " 'n_estimators': 90,\n",
              " 'min_samples_split': 2,\n",
              " 'min_samples_leaf': 2,\n",
              " 'max_features': 'sqrt',\n",
              " 'max_depth': 5}"
            ]
          },
          "metadata": {},
          "execution_count": 69
        }
      ]
    },
    {
      "cell_type": "code",
      "source": [
        "param_grid = {'n_estimators': [80, 90, 100],\n",
        "              'min_samples_split':[2, 3, 4],\n",
        "              'min_samples_leaf': [1, 2, 3],\n",
        "              'max_features': ['sqrt'],\n",
        "              'max_depth': [3, 5, 7],\n",
        "              'warm_start': [True]}\n",
        "\n",
        "gbr = GradientBoostingRegressor()\n",
        "grid_search = GridSearchCV(estimator=gbr, param_grid=param_grid, n_jobs=-1, verbose=4, cv=3)\n",
        "grid_search.fit(X_train, Y_train)"
      ],
      "metadata": {
        "colab": {
          "base_uri": "https://localhost:8080/",
          "height": 135
        },
        "id": "rLmo-qx4x0dW",
        "outputId": "5471f337-27d1-467f-97aa-12b57b250039"
      },
      "execution_count": null,
      "outputs": [
        {
          "output_type": "stream",
          "name": "stdout",
          "text": [
            "Fitting 3 folds for each of 81 candidates, totalling 243 fits\n"
          ]
        },
        {
          "output_type": "execute_result",
          "data": {
            "text/plain": [
              "GridSearchCV(cv=3, estimator=GradientBoostingRegressor(), n_jobs=-1,\n",
              "             param_grid={'max_depth': [3, 5, 7], 'max_features': ['sqrt'],\n",
              "                         'min_samples_leaf': [1, 2, 3],\n",
              "                         'min_samples_split': [2, 3, 4],\n",
              "                         'n_estimators': [80, 90, 100], 'warm_start': [True]},\n",
              "             verbose=4)"
            ],
            "text/html": [
              "<style>#sk-container-id-4 {color: black;background-color: white;}#sk-container-id-4 pre{padding: 0;}#sk-container-id-4 div.sk-toggleable {background-color: white;}#sk-container-id-4 label.sk-toggleable__label {cursor: pointer;display: block;width: 100%;margin-bottom: 0;padding: 0.3em;box-sizing: border-box;text-align: center;}#sk-container-id-4 label.sk-toggleable__label-arrow:before {content: \"▸\";float: left;margin-right: 0.25em;color: #696969;}#sk-container-id-4 label.sk-toggleable__label-arrow:hover:before {color: black;}#sk-container-id-4 div.sk-estimator:hover label.sk-toggleable__label-arrow:before {color: black;}#sk-container-id-4 div.sk-toggleable__content {max-height: 0;max-width: 0;overflow: hidden;text-align: left;background-color: #f0f8ff;}#sk-container-id-4 div.sk-toggleable__content pre {margin: 0.2em;color: black;border-radius: 0.25em;background-color: #f0f8ff;}#sk-container-id-4 input.sk-toggleable__control:checked~div.sk-toggleable__content {max-height: 200px;max-width: 100%;overflow: auto;}#sk-container-id-4 input.sk-toggleable__control:checked~label.sk-toggleable__label-arrow:before {content: \"▾\";}#sk-container-id-4 div.sk-estimator input.sk-toggleable__control:checked~label.sk-toggleable__label {background-color: #d4ebff;}#sk-container-id-4 div.sk-label input.sk-toggleable__control:checked~label.sk-toggleable__label {background-color: #d4ebff;}#sk-container-id-4 input.sk-hidden--visually {border: 0;clip: rect(1px 1px 1px 1px);clip: rect(1px, 1px, 1px, 1px);height: 1px;margin: -1px;overflow: hidden;padding: 0;position: absolute;width: 1px;}#sk-container-id-4 div.sk-estimator {font-family: monospace;background-color: #f0f8ff;border: 1px dotted black;border-radius: 0.25em;box-sizing: border-box;margin-bottom: 0.5em;}#sk-container-id-4 div.sk-estimator:hover {background-color: #d4ebff;}#sk-container-id-4 div.sk-parallel-item::after {content: \"\";width: 100%;border-bottom: 1px solid gray;flex-grow: 1;}#sk-container-id-4 div.sk-label:hover label.sk-toggleable__label {background-color: #d4ebff;}#sk-container-id-4 div.sk-serial::before {content: \"\";position: absolute;border-left: 1px solid gray;box-sizing: border-box;top: 0;bottom: 0;left: 50%;z-index: 0;}#sk-container-id-4 div.sk-serial {display: flex;flex-direction: column;align-items: center;background-color: white;padding-right: 0.2em;padding-left: 0.2em;position: relative;}#sk-container-id-4 div.sk-item {position: relative;z-index: 1;}#sk-container-id-4 div.sk-parallel {display: flex;align-items: stretch;justify-content: center;background-color: white;position: relative;}#sk-container-id-4 div.sk-item::before, #sk-container-id-4 div.sk-parallel-item::before {content: \"\";position: absolute;border-left: 1px solid gray;box-sizing: border-box;top: 0;bottom: 0;left: 50%;z-index: -1;}#sk-container-id-4 div.sk-parallel-item {display: flex;flex-direction: column;z-index: 1;position: relative;background-color: white;}#sk-container-id-4 div.sk-parallel-item:first-child::after {align-self: flex-end;width: 50%;}#sk-container-id-4 div.sk-parallel-item:last-child::after {align-self: flex-start;width: 50%;}#sk-container-id-4 div.sk-parallel-item:only-child::after {width: 0;}#sk-container-id-4 div.sk-dashed-wrapped {border: 1px dashed gray;margin: 0 0.4em 0.5em 0.4em;box-sizing: border-box;padding-bottom: 0.4em;background-color: white;}#sk-container-id-4 div.sk-label label {font-family: monospace;font-weight: bold;display: inline-block;line-height: 1.2em;}#sk-container-id-4 div.sk-label-container {text-align: center;}#sk-container-id-4 div.sk-container {/* jupyter's `normalize.less` sets `[hidden] { display: none; }` but bootstrap.min.css set `[hidden] { display: none !important; }` so we also need the `!important` here to be able to override the default hidden behavior on the sphinx rendered scikit-learn.org. See: https://github.com/scikit-learn/scikit-learn/issues/21755 */display: inline-block !important;position: relative;}#sk-container-id-4 div.sk-text-repr-fallback {display: none;}</style><div id=\"sk-container-id-4\" class=\"sk-top-container\"><div class=\"sk-text-repr-fallback\"><pre>GridSearchCV(cv=3, estimator=GradientBoostingRegressor(), n_jobs=-1,\n",
              "             param_grid={&#x27;max_depth&#x27;: [3, 5, 7], &#x27;max_features&#x27;: [&#x27;sqrt&#x27;],\n",
              "                         &#x27;min_samples_leaf&#x27;: [1, 2, 3],\n",
              "                         &#x27;min_samples_split&#x27;: [2, 3, 4],\n",
              "                         &#x27;n_estimators&#x27;: [80, 90, 100], &#x27;warm_start&#x27;: [True]},\n",
              "             verbose=4)</pre><b>In a Jupyter environment, please rerun this cell to show the HTML representation or trust the notebook. <br />On GitHub, the HTML representation is unable to render, please try loading this page with nbviewer.org.</b></div><div class=\"sk-container\" hidden><div class=\"sk-item sk-dashed-wrapped\"><div class=\"sk-label-container\"><div class=\"sk-label sk-toggleable\"><input class=\"sk-toggleable__control sk-hidden--visually\" id=\"sk-estimator-id-10\" type=\"checkbox\" ><label for=\"sk-estimator-id-10\" class=\"sk-toggleable__label sk-toggleable__label-arrow\">GridSearchCV</label><div class=\"sk-toggleable__content\"><pre>GridSearchCV(cv=3, estimator=GradientBoostingRegressor(), n_jobs=-1,\n",
              "             param_grid={&#x27;max_depth&#x27;: [3, 5, 7], &#x27;max_features&#x27;: [&#x27;sqrt&#x27;],\n",
              "                         &#x27;min_samples_leaf&#x27;: [1, 2, 3],\n",
              "                         &#x27;min_samples_split&#x27;: [2, 3, 4],\n",
              "                         &#x27;n_estimators&#x27;: [80, 90, 100], &#x27;warm_start&#x27;: [True]},\n",
              "             verbose=4)</pre></div></div></div><div class=\"sk-parallel\"><div class=\"sk-parallel-item\"><div class=\"sk-item\"><div class=\"sk-label-container\"><div class=\"sk-label sk-toggleable\"><input class=\"sk-toggleable__control sk-hidden--visually\" id=\"sk-estimator-id-11\" type=\"checkbox\" ><label for=\"sk-estimator-id-11\" class=\"sk-toggleable__label sk-toggleable__label-arrow\">estimator: GradientBoostingRegressor</label><div class=\"sk-toggleable__content\"><pre>GradientBoostingRegressor()</pre></div></div></div><div class=\"sk-serial\"><div class=\"sk-item\"><div class=\"sk-estimator sk-toggleable\"><input class=\"sk-toggleable__control sk-hidden--visually\" id=\"sk-estimator-id-12\" type=\"checkbox\" ><label for=\"sk-estimator-id-12\" class=\"sk-toggleable__label sk-toggleable__label-arrow\">GradientBoostingRegressor</label><div class=\"sk-toggleable__content\"><pre>GradientBoostingRegressor()</pre></div></div></div></div></div></div></div></div></div></div>"
            ]
          },
          "metadata": {},
          "execution_count": 70
        }
      ]
    },
    {
      "cell_type": "code",
      "source": [
        "grid_search.best_params_"
      ],
      "metadata": {
        "colab": {
          "base_uri": "https://localhost:8080/"
        },
        "id": "FM7Ra3ZmydDy",
        "outputId": "24979a85-7f90-4875-ce73-740ba88da99e"
      },
      "execution_count": null,
      "outputs": [
        {
          "output_type": "execute_result",
          "data": {
            "text/plain": [
              "{'max_depth': 7,\n",
              " 'max_features': 'sqrt',\n",
              " 'min_samples_leaf': 2,\n",
              " 'min_samples_split': 2,\n",
              " 'n_estimators': 80,\n",
              " 'warm_start': True}"
            ]
          },
          "metadata": {},
          "execution_count": 72
        }
      ]
    },
    {
      "cell_type": "code",
      "source": [
        "gbr = GradientBoostingRegressor(max_depth=7, max_features='sqrt', min_samples_leaf=2,\n",
        "                                min_samples_split=2, n_estimators=80, warm_start=True)\n",
        "gbr.fit(X_train, Y_train)\n",
        "\n",
        "print(f'R2 score on training data: {gbr.score(X_train, Y_train)}')\n",
        "print(f'R2 score on test data: {gbr.score(X_test, Y_test)}')"
      ],
      "metadata": {
        "colab": {
          "base_uri": "https://localhost:8080/"
        },
        "id": "JuQXbfXz0-5E",
        "outputId": "a7bae499-207f-46e3-c51d-0f82d7be170a"
      },
      "execution_count": null,
      "outputs": [
        {
          "output_type": "stream",
          "name": "stdout",
          "text": [
            "R2 score on training data: 0.6780555125991521\n",
            "R2 score on test data: 0.302267954410406\n"
          ]
        }
      ]
    },
    {
      "cell_type": "markdown",
      "source": [
        "Compared to the initial untuned gradient boosting model I made, this one performs better on both the training and test data. However, its performance is still far from perfect and it still doesn't generalize well."
      ],
      "metadata": {
        "id": "70AECl5k1pPh"
      }
    },
    {
      "cell_type": "markdown",
      "source": [
        "# Conclusion"
      ],
      "metadata": {
        "id": "SUU7muCW1-WC"
      }
    },
    {
      "cell_type": "markdown",
      "source": [
        "Using RandomizedSearchCV and GridSearchCV helped me to improve both the random forest model and the gradient boosting model but neither was particularly effective. Their scores on the test data were nearly identical so I would likely opt to use the random forest, given its superior performance on the training data. "
      ],
      "metadata": {
        "id": "lrpcRXa_2Bw3"
      }
    },
    {
      "cell_type": "markdown",
      "source": [
        "After having examined this dataset and reached a plateau in terms of test set R^2 score, I believe more data is required to build a truly effective model. If I were to continue to improve upon these models, I would gather more data in order to train on a larger dataset and reduce the influence of noise on the model. I would also want to gather data on more potential features in the hope that one or more of them would be a stronger indicator of the IMDB score."
      ],
      "metadata": {
        "id": "f4qvCY9t3ekj"
      }
    }
  ]
}